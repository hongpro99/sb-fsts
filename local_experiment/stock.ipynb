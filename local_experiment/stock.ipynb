{
 "cells": [
  {
   "cell_type": "code",
   "execution_count": 1,
   "metadata": {},
   "outputs": [
    {
     "name": "stdout",
     "output_type": "stream",
     "text": [
      "c:\\sb-fsts\\sb-fsts\n"
     ]
    }
   ],
   "source": [
    "#프로젝트의 루트 디렉토리를 설정하기 위한 코드\n",
    "import os\n",
    "current_dir = os.getcwd()  # 현재 작업 디렉토리\n",
    "print(os.path.dirname(current_dir))\n",
    "# print(os.path.dirname(os.path.dirname(current_dir)))\n",
    "# 루트 경로 설정 (예: 프로젝트 루트 경로)\n",
    "project_root = os.path.dirname(current_dir)\n",
    "os.chdir(project_root)  # 루트 경로로 변경"
   ]
  },
  {
   "cell_type": "code",
   "execution_count": 2,
   "metadata": {},
   "outputs": [],
   "source": [
    "import datetime\n",
    "import matplotlib.pyplot as plt\n",
    "import mplfinance as mpf\n",
    "import pandas as pd\n",
    "import numpy as np\n",
    "import requests"
   ]
  },
  {
   "cell_type": "code",
   "execution_count": null,
   "metadata": {},
   "outputs": [],
   "source": [
    "from app.utils.auto_trading_bot import AutoTradingBot\n",
    "from datetime import date, time\n",
    "\n",
    "\n",
    "id = \"id1\"\n",
    "\n",
    "auto_trading_stock = AutoTradingBot(id=id, virtual=False)\n",
    "\n",
    "# symbol = '329180'\n",
    "symbol = '282330'\n",
    "\n",
    "start_date = date(2023, 2, 8)\n",
    "end_date = date(2023, 3, 30)\n",
    "\n",
    "target_trade_value_krw = 1000000  # 매수 목표 거래 금액\n",
    "buy_trading_logic = ['rsi_trading']\n",
    "sell_trading_logic = ['rsi_trading']\n",
    "interval = 'day'\n",
    "\n",
    "# ✅ 시뮬레이션 실행 (df 내부 값을 확인할 수 있음)\n",
    "\n",
    "auto_trading_stock.simulate_trading(\n",
    "    symbol=symbol,\n",
    "    start_date=start_date,\n",
    "    end_date=end_date,\n",
    "    target_trade_value_krw=target_trade_value_krw,\n",
    "    buy_trading_logic=buy_trading_logic,\n",
    "    sell_trading_logic=sell_trading_logic,\n",
    "    interval=interval,\n",
    "    buy_percentage=None,\n",
    "    ohlc_mode='default',\n",
    "    initial_capital=1000000\n",
    ")\n",
    "\n",
    "\n"
   ]
  },
  {
   "cell_type": "code",
   "execution_count": 4,
   "metadata": {},
   "outputs": [
    {
     "name": "stdout",
     "output_type": "stream",
     "text": [
      "모의투자 API 객체가 성공적으로 생성되었습니다.\n",
      "시간: 2025-04-03 00:00:00+09:00, open_price: 1035000 KRW, low_price: 1035000 KRW, high_price: 1127000 KRW, close_price: 1113000 KRW, 볼린저 밴드 정보: 상단: 1116942 KRW, 중단: 1070850 KRW, 하단: 1024758 KRW\n",
      "윗꼬리 = 14000.0, 아랫꼬리 = 0.0, body = 78000.0\n",
      "아랫꼬리 감지 실패: 시간: 2025-04-03 00:00:00+09:00, 사유: 아랫꼬리가 윗꼬리보다 짦음, 하락 추세가 아님\n",
      "윗꼬리 감지 실패: 시간: 2025-04-03 00:00:00+09:00, 사유: 아랫꼬리가 윗꼬리보다 짦음, 하락 추세가 아님, 종가가 시가보다 낮지 않음, 볼린저 밴드 상단 근처가 아님\n",
      "check_wick 로직 buy_signal = False\n",
      "시간: 2025-04-03 00:00:00+09:00, open_price: 1035000 KRW, low_price: 1035000 KRW, high_price: 1127000 KRW, close_price: 1113000 KRW, 볼린저 밴드 정보: 상단: 1116942 KRW, 중단: 1070850 KRW, 하단: 1024758 KRW\n",
      "윗꼬리 = 14000.0, 아랫꼬리 = 0.0, body = 78000.0\n",
      "아랫꼬리 감지 실패: 시간: 2025-04-03 00:00:00+09:00, 사유: 아랫꼬리가 윗꼬리보다 짦음, 하락 추세가 아님\n",
      "윗꼬리 감지 실패: 시간: 2025-04-03 00:00:00+09:00, 사유: 아랫꼬리가 윗꼬리보다 짦음, 하락 추세가 아님, 종가가 시가보다 낮지 않음, 볼린저 밴드 상단 근처가 아님\n",
      "check_wick 로직 sell_signal = False\n",
      "마지막 직전 봉 : 78000.0. 양봉 : True, 음봉 : False\n"
     ]
    }
   ],
   "source": [
    "from app.utils.auto_trading_bot import AutoTradingBot\n",
    "from datetime import date, time\n",
    "\n",
    "id = 'bnuazz15'\n",
    "trading_bot_name = 'test_bot'\n",
    "auto_trading_stock = AutoTradingBot(id=id, virtual=True)\n",
    "\n",
    "symbol = '207940'\n",
    "symbol_name = '삼성바이오로직스'\n",
    "start_date = date(2023, 3, 1)\n",
    "end_date = date(2025, 4, 3)\n",
    "interval = 'day'\n",
    "max_allocation = 0.01\n",
    "target_trade_value_krw = 1000000  # 매수 목표 거래 금액\n",
    "buy_trading_logic = ['check_wick']\n",
    "sell_trading_logic = ['check_wick']\n",
    "\n",
    "auto_trading_stock.trade(\n",
    "    trading_bot_name=trading_bot_name,\n",
    "    buy_trading_logic=buy_trading_logic,\n",
    "    sell_trading_logic=sell_trading_logic,\n",
    "    symbol=symbol,\n",
    "    symbol_name=symbol_name,\n",
    "    start_date=start_date,\n",
    "    end_date=end_date,\n",
    "    target_trade_value_krw=target_trade_value_krw,\n",
    "    interval=interval,\n",
    "    max_allocation = max_allocation\n",
    ")\n",
    "\n"
   ]
  },
  {
   "cell_type": "code",
   "execution_count": 3,
   "metadata": {},
   "outputs": [
    {
     "name": "stdout",
     "output_type": "stream",
     "text": [
      "실전투자 API 객체가 성공적으로 생성되었습니다.\n",
      "- buy_trading_logic: ['rsi_trading', 'stochastic_trading', 'macd_trading', 'mfi_trading', 'ema_breakout_trading', 'bollinger_band_trading', 'ema_breakout_trading2', 'trend_entry_trading', 'bottom_rebound_trading', 'sma_breakout_trading'], sell_trading_logic : ['rsi_trading', 'stochastic_trading', 'macd_trading', 'mfi_trading', 'bollinger_band_trading', 'top_reversal_sell_trading', 'downtrend_sell_trading']\n",
      "target_trade_value_krw : 1000000\n",
      "max_allocation : 1\n"
     ]
    }
   ],
   "source": [
    "from app.utils.auto_trading_bot import AutoTradingBot\n",
    "from datetime import date, time\n",
    "from app.scheduler.auto_trading_scheduler import scheduled_trading_schedulerbot_task, scheduled_trading_bnuazz15_task, scheduled_trading\n",
    "\n",
    "\n",
    "scheduled_trading(id = 'schedulerbot', virtual = False, trading_bot_name = 'schedulerbot')\n",
    "\n"
   ]
  },
  {
   "cell_type": "code",
   "execution_count": null,
   "metadata": {},
   "outputs": [],
   "source": [
    "\n",
    "get_holdings_with_details()"
   ]
  },
  {
   "cell_type": "code",
   "execution_count": null,
   "metadata": {},
   "outputs": [],
   "source": [
    "\n"
   ]
  }
 ],
 "metadata": {
  "kernelspec": {
   "display_name": "Python 3",
   "language": "python",
   "name": "python3"
  },
  "language_info": {
   "codemirror_mode": {
    "name": "ipython",
    "version": 3
   },
   "file_extension": ".py",
   "mimetype": "text/x-python",
   "name": "python",
   "nbconvert_exporter": "python",
   "pygments_lexer": "ipython3",
   "version": "3.12.3"
  }
 },
 "nbformat": 4,
 "nbformat_minor": 2
}
