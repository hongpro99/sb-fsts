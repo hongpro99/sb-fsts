{
 "cells": [
  {
   "cell_type": "code",
   "execution_count": 1,
   "metadata": {},
   "outputs": [
    {
     "name": "stdout",
     "output_type": "stream",
     "text": [
      "c:\\sb-fsts\\sb-fsts\n"
     ]
    }
   ],
   "source": [
    "#프로젝트의 루트 디렉토리를 설정하기 위한 코드\n",
    "import os\n",
    "current_dir = os.getcwd()  # 현재 작업 디렉토리\n",
    "print(os.path.dirname(current_dir))\n",
    "# print(os.path.dirname(os.path.dirname(current_dir)))\n",
    "# 루트 경로 설정 (예: 프로젝트 루트 경로)\n",
    "project_root = os.path.dirname(current_dir)\n",
    "os.chdir(project_root)  # 루트 경로로 변경"
   ]
  },
  {
   "cell_type": "code",
   "execution_count": 2,
   "metadata": {},
   "outputs": [],
   "source": [
    "import datetime\n",
    "import matplotlib.pyplot as plt\n",
    "import mplfinance as mpf\n",
    "import pandas as pd\n",
    "import numpy as np\n",
    "import requests"
   ]
  },
  {
   "cell_type": "code",
   "execution_count": null,
   "metadata": {},
   "outputs": [],
   "source": [
    "from app.utils.auto_trading_bot import AutoTradingBot\n",
    "from datetime import date, time\n",
    "\n",
    "\n",
    "id = \"id1\"\n",
    "\n",
    "auto_trading_stock = AutoTradingBot(id=id, virtual=False)\n",
    "\n",
    "# symbol = '329180'\n",
    "symbol = '073240'\n",
    "\n",
    "start_date = date(2023, 1, 1)\n",
    "end_date = date(2025, 4, 1)\n",
    "\n",
    "target_trade_value_krw = 1000000  # 매수 목표 거래 금액\n",
    "buy_trading_logic = ['ema_breakout_trading2']\n",
    "sell_trading_logic = ['rsi_trading']\n",
    "interval = 'day'\n",
    "\n",
    "# ✅ 시뮬레이션 실행 (df 내부 값을 확인할 수 있음)\n",
    "\n",
    "auto_trading_stock.simulate_trading(\n",
    "    symbol=symbol,\n",
    "    start_date=start_date,\n",
    "    end_date=end_date,\n",
    "    target_trade_value_krw=target_trade_value_krw,\n",
    "    buy_trading_logic=buy_trading_logic,\n",
    "    sell_trading_logic=sell_trading_logic,\n",
    "    interval=interval,\n",
    "    buy_percentage=None,\n",
    "    ohlc_mode='default',\n",
    "    initial_capital=None\n",
    ")\n",
    "\n",
    "\n"
   ]
  },
  {
   "cell_type": "code",
   "execution_count": null,
   "metadata": {},
   "outputs": [
    {
     "name": "stdout",
     "output_type": "stream",
     "text": [
      "실전투자 API 객체가 성공적으로 생성되었습니다.\n",
      "- buy_trading_logic: ['rsi_trading', 'penetrating', 'engulfing', 'engulfing2', 'counterattack', 'harami', 'doji_star', 'morning_star', 'check_wick', 'stochastic_trading', 'macd_trading', 'mfi_trading', 'rsi+mfi', 'ema_breakout_trading', 'bollinger_band_trading', 'bollinger+ema', 'ema_breakout_trading2', 'trend_entry_trading', 'bottom_rebound_trading', 'sma_breakout_trading'], sell_trading_logic : ['rsi_trading', 'dark_cloud', 'down_engulfing', 'down_engulfing2', 'down_counterattack', 'down_harami', 'down_doji_star', 'evening_star', 'check_wick', 'stochastic_trading', 'macd_trading', 'mfi_trading', 'rsi+mfi', 'bollinger_band_trading', 'top_reversal_sell_trading', 'downtrend_sell_trading']\n"
     ]
    }
   ],
   "source": [
    "from app.utils.auto_trading_bot import AutoTradingBot\n",
    "from datetime import date, time\n",
    "\n",
    "\n",
    "id = \"id1\"\n",
    "\n",
    "auto_trading_stock = AutoTradingBot(id=id, virtual=False)\n",
    "\n",
    "# symbol = '329180'\n",
    "symbol = '073240'\n",
    "trading_bot_name = 'test_bot'\n",
    "start_date = date(2024, 4, 2)\n",
    "end_date = date(2025, 4, 2)\n",
    "\n",
    "target_trade_value_krw = 100  # 매수 목표 거래 금액\n",
    "buy_trading_logic = ['rsi_trading']\n",
    "sell_trading_logic = ['rsi_trading']\n",
    "interval = 'day'\n",
    "symbol_name = '금호타이어'\n",
    "# ✅ 시뮬레이션 실행 (df 내부 값을 확인할 수 있음)\n",
    "\n",
    "auto_trading_stock.trade(\n",
    "        trading_bot_name=trading_bot_name,\n",
    "        buy_trading_logic=buy_trading_logic,\n",
    "        sell_trading_logic=sell_trading_logic,\n",
    "        symbol=symbol,\n",
    "        symbol_name=symbol_name,\n",
    "        start_date=start_date,\n",
    "        end_date=end_date,\n",
    "        target_trade_value_krw=target_trade_value_krw,\n",
    "        interval=interval\n",
    ")\n",
    "\n",
    "\n"
   ]
  },
  {
   "cell_type": "code",
   "execution_count": null,
   "metadata": {},
   "outputs": [],
   "source": [
    "auto_trading_stock._get_ohlc(symbol, start_date, end_date)\n"
   ]
  }
 ],
 "metadata": {
  "kernelspec": {
   "display_name": "Python 3",
   "language": "python",
   "name": "python3"
  },
  "language_info": {
   "codemirror_mode": {
    "name": "ipython",
    "version": 3
   },
   "file_extension": ".py",
   "mimetype": "text/x-python",
   "name": "python",
   "nbconvert_exporter": "python",
   "pygments_lexer": "ipython3",
   "version": "3.12.3"
  }
 },
 "nbformat": 4,
 "nbformat_minor": 2
}
