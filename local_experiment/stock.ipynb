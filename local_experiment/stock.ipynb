{
 "cells": [
  {
   "cell_type": "code",
   "execution_count": 1,
   "metadata": {},
   "outputs": [
    {
     "name": "stdout",
     "output_type": "stream",
     "text": [
      "c:\\sb-fsts\\sb-fsts\n"
     ]
    }
   ],
   "source": [
    "#프로젝트의 루트 디렉토리를 설정하기 위한 코드\n",
    "import os\n",
    "current_dir = os.getcwd()  # 현재 작업 디렉토리\n",
    "print(os.path.dirname(current_dir))\n",
    "# print(os.path.dirname(os.path.dirname(current_dir)))\n",
    "# 루트 경로 설정 (예: 프로젝트 루트 경로)\n",
    "project_root = os.path.dirname(current_dir)\n",
    "os.chdir(project_root)  # 루트 경로로 변경"
   ]
  },
  {
   "cell_type": "code",
   "execution_count": 2,
   "metadata": {},
   "outputs": [],
   "source": [
    "import datetime\n",
    "import matplotlib.pyplot as plt\n",
    "import mplfinance as mpf\n",
    "import pandas as pd\n",
    "import numpy as np\n",
    "import requests"
   ]
  },
  {
   "cell_type": "code",
   "execution_count": null,
   "metadata": {},
   "outputs": [
    {
     "name": "stdout",
     "output_type": "stream",
     "text": [
      "실전투자 API 객체가 성공적으로 생성되었습니다.\n",
      "df:                                  Time     Open     High      Low    Close  \\\n",
      "2022-01-03 00:00:00+09:00  2022-01-03  55800.0  56200.0  55000.0  55600.0   \n",
      "\n",
      "                            Volume  \n",
      "2022-01-03 00:00:00+09:00  51848.0  \n"
     ]
    },
    {
     "ename": "IndexError",
     "evalue": "single positional indexer is out-of-bounds",
     "output_type": "error",
     "traceback": [
      "\u001b[1;31m---------------------------------------------------------------------------\u001b[0m",
      "\u001b[1;31mIndexError\u001b[0m                                Traceback (most recent call last)",
      "Cell \u001b[1;32mIn[3], line 23\u001b[0m\n\u001b[0;32m     20\u001b[0m rsi_sell_threshold \u001b[38;5;241m=\u001b[39m \u001b[38;5;241m70\u001b[39m\n\u001b[0;32m     21\u001b[0m \u001b[38;5;66;03m# ✅ 시뮬레이션 실행 (df 내부 값을 확인할 수 있음)\u001b[39;00m\n\u001b[1;32m---> 23\u001b[0m \u001b[43mauto_trading_stock\u001b[49m\u001b[38;5;241;43m.\u001b[39;49m\u001b[43msimulate_trading\u001b[49m\u001b[43m(\u001b[49m\n\u001b[0;32m     24\u001b[0m \u001b[43m    \u001b[49m\u001b[43msymbol\u001b[49m\u001b[38;5;241;43m=\u001b[39;49m\u001b[43msymbol\u001b[49m\u001b[43m,\u001b[49m\n\u001b[0;32m     25\u001b[0m \u001b[43m    \u001b[49m\u001b[43mstart_date\u001b[49m\u001b[38;5;241;43m=\u001b[39;49m\u001b[43mstart_date\u001b[49m\u001b[43m,\u001b[49m\n\u001b[0;32m     26\u001b[0m \u001b[43m    \u001b[49m\u001b[43mend_date\u001b[49m\u001b[38;5;241;43m=\u001b[39;49m\u001b[43mend_date\u001b[49m\u001b[43m,\u001b[49m\n\u001b[0;32m     27\u001b[0m \u001b[43m    \u001b[49m\u001b[43mtarget_trade_value_krw\u001b[49m\u001b[38;5;241;43m=\u001b[39;49m\u001b[43mtarget_trade_value_krw\u001b[49m\u001b[43m,\u001b[49m\n\u001b[0;32m     28\u001b[0m \u001b[43m    \u001b[49m\u001b[43mbuy_trading_logic\u001b[49m\u001b[38;5;241;43m=\u001b[39;49m\u001b[43mbuy_trading_logic\u001b[49m\u001b[43m,\u001b[49m\n\u001b[0;32m     29\u001b[0m \u001b[43m    \u001b[49m\u001b[43msell_trading_logic\u001b[49m\u001b[38;5;241;43m=\u001b[39;49m\u001b[43msell_trading_logic\u001b[49m\u001b[43m,\u001b[49m\n\u001b[0;32m     30\u001b[0m \u001b[43m    \u001b[49m\u001b[43minterval\u001b[49m\u001b[38;5;241;43m=\u001b[39;49m\u001b[43minterval\u001b[49m\u001b[43m,\u001b[49m\n\u001b[0;32m     31\u001b[0m \u001b[43m    \u001b[49m\u001b[43mbuy_percentage\u001b[49m\u001b[38;5;241;43m=\u001b[39;49m\u001b[38;5;28;43;01mNone\u001b[39;49;00m\u001b[43m,\u001b[49m\n\u001b[0;32m     32\u001b[0m \u001b[43m    \u001b[49m\u001b[43mohlc_mode\u001b[49m\u001b[38;5;241;43m=\u001b[39;49m\u001b[38;5;124;43m'\u001b[39;49m\u001b[38;5;124;43mdefault\u001b[39;49m\u001b[38;5;124;43m'\u001b[39;49m\u001b[43m,\u001b[49m\n\u001b[0;32m     33\u001b[0m \u001b[43m    \u001b[49m\u001b[43mrsi_buy_threshold\u001b[49m\u001b[38;5;241;43m=\u001b[39;49m\u001b[43mrsi_buy_threshold\u001b[49m\u001b[43m,\u001b[49m\n\u001b[0;32m     34\u001b[0m \u001b[43m    \u001b[49m\u001b[43mrsi_sell_threshold\u001b[49m\u001b[38;5;241;43m=\u001b[39;49m\u001b[43mrsi_sell_threshold\u001b[49m\u001b[43m,\u001b[49m\n\u001b[0;32m     35\u001b[0m \u001b[43m    \u001b[49m\u001b[43minitial_capital\u001b[49m\u001b[38;5;241;43m=\u001b[39;49m\u001b[38;5;28;43;01mNone\u001b[39;49;00m\n\u001b[0;32m     36\u001b[0m \u001b[43m)\u001b[49m\n",
      "File \u001b[1;32mc:\\sb-fsts\\sb-fsts\\app\\utils\\auto_trading_bot.py:461\u001b[0m, in \u001b[0;36mAutoTradingBot.simulate_trading\u001b[1;34m(self, symbol, start_date, end_date, target_trade_value_krw, buy_trading_logic, sell_trading_logic, interval, buy_percentage, ohlc_mode, rsi_buy_threshold, rsi_sell_threshold, initial_capital)\u001b[0m\n\u001b[0;32m    459\u001b[0m     df \u001b[38;5;241m=\u001b[39m indicator\u001b[38;5;241m.\u001b[39mcal_ema_df(df, \u001b[38;5;241m60\u001b[39m)\n\u001b[0;32m    460\u001b[0m     df \u001b[38;5;241m=\u001b[39m indicator\u001b[38;5;241m.\u001b[39mcal_ema_df(df, \u001b[38;5;241m120\u001b[39m)\n\u001b[1;32m--> 461\u001b[0m     price, buy_yn \u001b[38;5;241m=\u001b[39m \u001b[43mlogic\u001b[49m\u001b[38;5;241;43m.\u001b[39;49m\u001b[43mema_breakout_trading\u001b[49m\u001b[43m(\u001b[49m\u001b[43mdf\u001b[49m\u001b[43m)\u001b[49m\n\u001b[0;32m    464\u001b[0m \u001b[38;5;66;03m# 매수, 전일 거래량이 전전일 거래량보다 크다는 조건 추가, #d_1.volume > avg_volume_20_days  \u001b[39;00m\n\u001b[0;32m    465\u001b[0m \u001b[38;5;66;03m#if buy_yn and volume > d_1.volume and d_1.volume > avg_volume_20_days:\u001b[39;00m\n\u001b[0;32m    466\u001b[0m \u001b[38;5;28;01mif\u001b[39;00m buy_yn \u001b[38;5;129;01mand\u001b[39;00m volume \u001b[38;5;241m>\u001b[39m d_1\u001b[38;5;241m.\u001b[39mvolume:\n",
      "File \u001b[1;32mc:\\sb-fsts\\sb-fsts\\app\\utils\\trading_logic.py:730\u001b[0m, in \u001b[0;36mTradingLogic.ema_breakout_trading\u001b[1;34m(self, df)\u001b[0m\n\u001b[0;32m    728\u001b[0m \u001b[38;5;66;03m# 조건 계산\u001b[39;00m\n\u001b[0;32m    729\u001b[0m last \u001b[38;5;241m=\u001b[39m df\u001b[38;5;241m.\u001b[39miloc[\u001b[38;5;241m-\u001b[39m\u001b[38;5;241m1\u001b[39m]\n\u001b[1;32m--> 730\u001b[0m prev \u001b[38;5;241m=\u001b[39m \u001b[43mdf\u001b[49m\u001b[38;5;241;43m.\u001b[39;49m\u001b[43miloc\u001b[49m\u001b[43m[\u001b[49m\u001b[38;5;241;43m-\u001b[39;49m\u001b[38;5;241;43m2\u001b[39;49m\u001b[43m]\u001b[49m\n\u001b[0;32m    732\u001b[0m breaks_above_ema60 \u001b[38;5;241m=\u001b[39m (prev[\u001b[38;5;124m'\u001b[39m\u001b[38;5;124mClose\u001b[39m\u001b[38;5;124m'\u001b[39m] \u001b[38;5;241m<\u001b[39m prev[\u001b[38;5;124m'\u001b[39m\u001b[38;5;124mEMA_60\u001b[39m\u001b[38;5;124m'\u001b[39m]) \u001b[38;5;129;01mand\u001b[39;00m (last[\u001b[38;5;124m'\u001b[39m\u001b[38;5;124mClose\u001b[39m\u001b[38;5;124m'\u001b[39m] \u001b[38;5;241m>\u001b[39m last[\u001b[38;5;124m'\u001b[39m\u001b[38;5;124mEMA_60\u001b[39m\u001b[38;5;124m'\u001b[39m])\n\u001b[0;32m    733\u001b[0m close_above_ema60 \u001b[38;5;241m=\u001b[39m last[\u001b[38;5;124m'\u001b[39m\u001b[38;5;124mClose\u001b[39m\u001b[38;5;124m'\u001b[39m] \u001b[38;5;241m>\u001b[39m last[\u001b[38;5;124m'\u001b[39m\u001b[38;5;124mEMA_60\u001b[39m\u001b[38;5;124m'\u001b[39m]\n",
      "File \u001b[1;32mc:\\Users\\dream\\AppData\\Local\\Programs\\Python\\Python312\\Lib\\site-packages\\pandas\\core\\indexing.py:1191\u001b[0m, in \u001b[0;36m_LocationIndexer.__getitem__\u001b[1;34m(self, key)\u001b[0m\n\u001b[0;32m   1189\u001b[0m maybe_callable \u001b[38;5;241m=\u001b[39m com\u001b[38;5;241m.\u001b[39mapply_if_callable(key, \u001b[38;5;28mself\u001b[39m\u001b[38;5;241m.\u001b[39mobj)\n\u001b[0;32m   1190\u001b[0m maybe_callable \u001b[38;5;241m=\u001b[39m \u001b[38;5;28mself\u001b[39m\u001b[38;5;241m.\u001b[39m_check_deprecated_callable_usage(key, maybe_callable)\n\u001b[1;32m-> 1191\u001b[0m \u001b[38;5;28;01mreturn\u001b[39;00m \u001b[38;5;28;43mself\u001b[39;49m\u001b[38;5;241;43m.\u001b[39;49m\u001b[43m_getitem_axis\u001b[49m\u001b[43m(\u001b[49m\u001b[43mmaybe_callable\u001b[49m\u001b[43m,\u001b[49m\u001b[43m \u001b[49m\u001b[43maxis\u001b[49m\u001b[38;5;241;43m=\u001b[39;49m\u001b[43maxis\u001b[49m\u001b[43m)\u001b[49m\n",
      "File \u001b[1;32mc:\\Users\\dream\\AppData\\Local\\Programs\\Python\\Python312\\Lib\\site-packages\\pandas\\core\\indexing.py:1752\u001b[0m, in \u001b[0;36m_iLocIndexer._getitem_axis\u001b[1;34m(self, key, axis)\u001b[0m\n\u001b[0;32m   1749\u001b[0m     \u001b[38;5;28;01mraise\u001b[39;00m \u001b[38;5;167;01mTypeError\u001b[39;00m(\u001b[38;5;124m\"\u001b[39m\u001b[38;5;124mCannot index by location index with a non-integer key\u001b[39m\u001b[38;5;124m\"\u001b[39m)\n\u001b[0;32m   1751\u001b[0m \u001b[38;5;66;03m# validate the location\u001b[39;00m\n\u001b[1;32m-> 1752\u001b[0m \u001b[38;5;28;43mself\u001b[39;49m\u001b[38;5;241;43m.\u001b[39;49m\u001b[43m_validate_integer\u001b[49m\u001b[43m(\u001b[49m\u001b[43mkey\u001b[49m\u001b[43m,\u001b[49m\u001b[43m \u001b[49m\u001b[43maxis\u001b[49m\u001b[43m)\u001b[49m\n\u001b[0;32m   1754\u001b[0m \u001b[38;5;28;01mreturn\u001b[39;00m \u001b[38;5;28mself\u001b[39m\u001b[38;5;241m.\u001b[39mobj\u001b[38;5;241m.\u001b[39m_ixs(key, axis\u001b[38;5;241m=\u001b[39maxis)\n",
      "File \u001b[1;32mc:\\Users\\dream\\AppData\\Local\\Programs\\Python\\Python312\\Lib\\site-packages\\pandas\\core\\indexing.py:1685\u001b[0m, in \u001b[0;36m_iLocIndexer._validate_integer\u001b[1;34m(self, key, axis)\u001b[0m\n\u001b[0;32m   1683\u001b[0m len_axis \u001b[38;5;241m=\u001b[39m \u001b[38;5;28mlen\u001b[39m(\u001b[38;5;28mself\u001b[39m\u001b[38;5;241m.\u001b[39mobj\u001b[38;5;241m.\u001b[39m_get_axis(axis))\n\u001b[0;32m   1684\u001b[0m \u001b[38;5;28;01mif\u001b[39;00m key \u001b[38;5;241m>\u001b[39m\u001b[38;5;241m=\u001b[39m len_axis \u001b[38;5;129;01mor\u001b[39;00m key \u001b[38;5;241m<\u001b[39m \u001b[38;5;241m-\u001b[39mlen_axis:\n\u001b[1;32m-> 1685\u001b[0m     \u001b[38;5;28;01mraise\u001b[39;00m \u001b[38;5;167;01mIndexError\u001b[39;00m(\u001b[38;5;124m\"\u001b[39m\u001b[38;5;124msingle positional indexer is out-of-bounds\u001b[39m\u001b[38;5;124m\"\u001b[39m)\n",
      "\u001b[1;31mIndexError\u001b[0m: single positional indexer is out-of-bounds"
     ]
    }
   ],
   "source": [
    "from app.utils.auto_trading_bot import AutoTradingBot\n",
    "from datetime import date, time\n",
    "\n",
    "\n",
    "id = \"id1\"\n",
    "\n",
    "auto_trading_stock = AutoTradingBot(id=id, virtual=False)\n",
    "\n",
    "# symbol = '329180'\n",
    "symbol = '010120'\n",
    "\n",
    "start_date = date(2022, 1, 1)\n",
    "end_date = date(2022, 5, 10)\n",
    "\n",
    "target_trade_value_krw = 1000000  # 매수 목표 거래 금액\n",
    "buy_trading_logic = ['bollinger_band_trading']\n",
    "sell_trading_logic = ['rsi_trading']\n",
    "interval = 'day'\n",
    "rsi_buy_threshold = 35\n",
    "rsi_sell_threshold = 70\n",
    "# ✅ 시뮬레이션 실행 (df 내부 값을 확인할 수 있음)\n",
    "\n",
    "auto_trading_stock.simulate_trading(\n",
    "    symbol=symbol,\n",
    "    start_date=start_date,\n",
    "    end_date=end_date,\n",
    "    target_trade_value_krw=target_trade_value_krw,\n",
    "    buy_trading_logic=buy_trading_logic,\n",
    "    sell_trading_logic=sell_trading_logic,\n",
    "    interval=interval,\n",
    "    buy_percentage=None,\n",
    "    ohlc_mode='default',\n",
    "    rsi_buy_threshold=rsi_buy_threshold,\n",
    "    rsi_sell_threshold=rsi_sell_threshold,\n",
    "    initial_capital=None\n",
    ")\n",
    "\n"
   ]
  },
  {
   "cell_type": "code",
   "execution_count": null,
   "metadata": {},
   "outputs": [],
   "source": [
    "auto_trading_stock._get_ohlc(symbol, start_date, end_date)\n"
   ]
  }
 ],
 "metadata": {
  "kernelspec": {
   "display_name": "Python 3",
   "language": "python",
   "name": "python3"
  },
  "language_info": {
   "codemirror_mode": {
    "name": "ipython",
    "version": 3
   },
   "file_extension": ".py",
   "mimetype": "text/x-python",
   "name": "python",
   "nbconvert_exporter": "python",
   "pygments_lexer": "ipython3",
   "version": "3.12.3"
  }
 },
 "nbformat": 4,
 "nbformat_minor": 2
}
