{
 "cells": [
  {
   "cell_type": "code",
   "execution_count": null,
   "metadata": {},
   "outputs": [],
   "source": [
    "import requests\n",
    "\n",
    "\n",
    "webhook_url = 'https://discord.com/api/webhooks/1313346849838596106/6Rn_8BNDeL9bMYfFtqscpu4hPah5c2RsNl0rBiPoSw_Qb9RXgDdVHoHmwEuStPv_ufnV'  # 복사한 Discord 웹훅 URL로 변경\n",
    "username = \"Stock Trading Bot\"\n",
    "\n",
    "message = \"매수가 완료되었습니다.\"\n",
    "\n",
    "data = {\n",
    "    \"content\": message,\n",
    "    \"username\": username,  # 원하는 이름으로 설정 가능\n",
    "}\n",
    "\n",
    "# 요청 보내기\n",
    "response = requests.post(webhook_url, json=data)\n",
    "\n",
    "# 응답 확인\n",
    "if response.status_code == 204:\n",
    "    print(\"메시지가 성공적으로 전송되었습니다.\")\n",
    "else:\n",
    "    print(f\"메시지 전송 실패: {response.status_code}, {response.text}\")"
   ]
  },
  {
   "cell_type": "code",
   "execution_count": null,
   "metadata": {},
   "outputs": [],
   "source": [
    "import os\n",
    "\n",
    "# 루트 경로 설정 (예: 프로젝트 루트 경로)\n",
    "project_root = \"/Users/hsh/dev_project/sb-fsts\"\n",
    "os.chdir(project_root)  # 루트 경로로 변경"
   ]
  },
  {
   "cell_type": "code",
   "execution_count": null,
   "metadata": {},
   "outputs": [],
   "source": [
    "from app.utils.crud_sql import SQLExecutor\n",
    "from app.utils.database import get_db, get_db_session\n",
    "\n",
    "sql_executor = SQLExecutor()"
   ]
  },
  {
   "cell_type": "code",
   "execution_count": 14,
   "metadata": {},
   "outputs": [
    {
     "name": "stdout",
     "output_type": "stream",
     "text": [
      "[{'id': 'id1', 'name': 'name1'}, {'id': 'id2', 'name': 'name2'}]\n"
     ]
    }
   ],
   "source": [
    "query = \"\"\"\n",
    "        SELECT \n",
    "            *\n",
    "        FROM \n",
    "            fsts.test_table\n",
    "    \"\"\"\n",
    "\n",
    "params = {}\n",
    "\n",
    "with get_db_session() as db:\n",
    "    result = sql_executor.execute_select(db, query, params)\n",
    "\n",
    "print(result)"
   ]
  },
  {
   "cell_type": "code",
   "execution_count": 13,
   "metadata": {},
   "outputs": [
    {
     "name": "stdout",
     "output_type": "stream",
     "text": [
      "Insert succeeded: [{'id': 'id2', 'name': 'name2'}]\n"
     ]
    }
   ],
   "source": [
    "# RETURNING * 꼭 붙여야 함.\n",
    "query = \"\"\"\n",
    "    INSERT INTO fsts.test_table\n",
    "    (id, name)\n",
    "    VALUES (:id, :name)\n",
    "    RETURNING *;\n",
    "\"\"\"\n",
    "\n",
    "id = 'id2'\n",
    "name = 'name2'\n",
    "\n",
    "params = {\n",
    "    \"id\": id,\n",
    "    \"name\": name\n",
    "}\n",
    "\n",
    "with get_db_session() as db:\n",
    "    result = sql_executor.execute_insert(db, query, params)"
   ]
  },
  {
   "cell_type": "code",
   "execution_count": null,
   "metadata": {},
   "outputs": [],
   "source": []
  }
 ],
 "metadata": {
  "kernelspec": {
   "display_name": "coupleof",
   "language": "python",
   "name": "python3"
  },
  "language_info": {
   "codemirror_mode": {
    "name": "ipython",
    "version": 3
   },
   "file_extension": ".py",
   "mimetype": "text/x-python",
   "name": "python",
   "nbconvert_exporter": "python",
   "pygments_lexer": "ipython3",
   "version": "3.11.9"
  }
 },
 "nbformat": 4,
 "nbformat_minor": 2
}
