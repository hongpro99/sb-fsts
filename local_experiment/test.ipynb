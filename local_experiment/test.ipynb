{
 "cells": [
  {
   "cell_type": "code",
   "execution_count": null,
   "metadata": {},
   "outputs": [],
   "source": [
    "import requests\n",
    "\n",
    "\n",
    "webhook_url = 'https://discord.com/api/webhooks/1313346849838596106/6Rn_8BNDeL9bMYfFtqscpu4hPah5c2RsNl0rBiPoSw_Qb9RXgDdVHoHmwEuStPv_ufnV'  # 복사한 Discord 웹훅 URL로 변경\n",
    "username = \"Stock Trading Bot\"\n",
    "\n",
    "message = \"매수가 완료되었습니다.\"\n",
    "\n",
    "data = {\n",
    "    \"content\": message,\n",
    "    \"username\": username,  # 원하는 이름으로 설정 가능\n",
    "}\n",
    "\n",
    "# 요청 보내기\n",
    "response = requests.post(webhook_url, json=data)\n",
    "\n",
    "# 응답 확인\n",
    "if response.status_code == 204:\n",
    "    print(\"메시지가 성공적으로 전송되었습니다.\")\n",
    "else:\n",
    "    print(f\"메시지 전송 실패: {response.status_code}, {response.text}\")"
   ]
  },
  {
   "cell_type": "code",
   "execution_count": 1,
   "metadata": {},
   "outputs": [],
   "source": [
    "import os\n",
    "\n",
    "# 루트 경로 설정 (예: 프로젝트 루트 경로)\n",
    "project_root = \"/Users/hsh/dev_project/sb-fsts\"\n",
    "os.chdir(project_root)  # 루트 경로로 변경"
   ]
  },
  {
   "cell_type": "code",
   "execution_count": 2,
   "metadata": {},
   "outputs": [
    {
     "name": "stdout",
     "output_type": "stream",
     "text": [
      "실전투자 API 객체가 성공적으로 생성되었습니다.\n",
      "dreaminmindbot의 자동 트레이딩을 시작합니다\n",
      "sorted_result : [StockSymbol(created_at=1745301561544, industry='일반서비스', symbol='358570', symbol_name='지아이이노베이션', theme='면역항암제', type='kosdaq150'), StockSymbol(created_at=1745301588718, industry='의료정밀기기', symbol='131290', symbol_name='티에스이', theme='반도체', type='kosdaq150'), StockSymbol(created_at=1745301571979, industry='일반서비스', symbol='036830', symbol_name='솔브레인홀딩스', theme='지주사, 2차전지, 반도체', type='kosdaq150'), StockSymbol(created_at=1745301542856, industry='화학', symbol='357780', symbol_name='솔브레인', theme='반도체, 2차전지, 유리기판', type='kosdaq150'), StockSymbol(created_at=1745301608461, industry='일반서비스', symbol='144510', symbol_name='지씨셀', type='kosdaq150'), StockSymbol(created_at=1745301532106, industry='오락문화', symbol='035900', symbol_name='JYP Ent.', theme='엔터테인먼트', type='kosdaq150'), StockSymbol(created_at=1745301602379, industry='화학', symbol='114840', symbol_name='아이패밀리에스씨', type='kosdaq150'), StockSymbol(created_at=1745301535540, industry='유통', symbol='257720', symbol_name='실리콘투', theme='화장품', type='kosdaq150'), StockSymbol(created_at=1745301529956, industry='제약', symbol='000250', symbol_name='삼천당제약', theme='제약', type='kosdaq150'), StockSymbol(created_at=1745301540653, industry='화학', symbol='005290', symbol_name='동진쎄미켐', theme='반도체', type='kosdaq150'), StockSymbol(created_at=1745301571359, industry='금융', symbol='003380', symbol_name='하림지주', theme='지주사', type='kosdaq150'), StockSymbol(created_at=1745301550654, industry='오락문화', symbol='122870', symbol_name='와이지엔터테인먼트', theme='엔터테인먼트', type='kosdaq150'), StockSymbol(created_at=1745301610803, industry='화학', symbol='352480', symbol_name='씨앤씨인터내셔널', theme='화장품', type='kosdaq150'), StockSymbol(created_at=1745301595266, industry='IT서비스', symbol='069080', symbol_name='웹젠', theme='게임', type='kosdaq150'), StockSymbol(created_at=1745301544808, industry='제약', symbol='214370', symbol_name='케어젠', type='kosdaq150'), StockSymbol(created_at=1745301600076, industry='일반서비스', symbol='006730', symbol_name='서부T&D', type='kosdaq150'), StockSymbol(created_at=1745301576510, industry='기계장비', symbol='348210', symbol_name='넥스틴', theme='반도체', type='kosdaq150'), StockSymbol(created_at=1745301612568, industry='일반서비스', symbol='418550', symbol_name='제이오', type='kosdaq150'), StockSymbol(created_at=1745301578862, industry='IT서비스', symbol='030520', symbol_name='한글과컴퓨터', theme='클라우드', type='kosdaq150'), StockSymbol(created_at=1745301527878, industry='제약', symbol='087010', symbol_name='펩트론', theme='비만치료제(위고비)', type='kosdaq150'), StockSymbol(created_at=1745301613156, industry='IT서비스', symbol='394280', symbol_name='오픈엣지테크놀로지', theme='반도체, AI', type='kosdaq150'), StockSymbol(created_at=1745301617115, industry='화학', symbol='095500', symbol_name='미래나노텍', theme='원자재, LCD', type='kosdaq150'), StockSymbol(created_at=1745301536229, industry='기계장비', symbol='403870', symbol_name='HPSP', theme='반도체', type='kosdaq150'), StockSymbol(created_at=1745301538424, industry='화학', symbol='348370', symbol_name='엔켐', theme='2차전지', type='kosdaq150'), StockSymbol(created_at=1745301554407, industry='IT서비스', symbol='293490', symbol_name='카카오게임즈', theme='게임', type='kosdaq150'), StockSymbol(created_at=1745301598251, industry='전기전자', symbol='091700', symbol_name='파트론', theme='자동차부품', type='kosdaq150'), StockSymbol(created_at=1745301559965, industry='IT서비스', symbol='067160', symbol_name='SOOP', type='kosdaq150'), StockSymbol(created_at=1745301525359, industry='기계장비', symbol='277810', symbol_name='레인보우로보틱스', theme='로봇', type='kosdaq150'), StockSymbol(created_at=1745301597665, industry='제약', symbol='064550', symbol_name='바이오니아', theme='코로나, 탈모', type='kosdaq150'), StockSymbol(created_at=1745301563898, industry='기계장비', symbol='232140', symbol_name='와이씨', theme='반도체', type='kosdaq150'), StockSymbol(created_at=1745301539075, industry='IT서비스', symbol='328130', symbol_name='루닛', theme='비대면의료, 의료AI', type='kosdaq150'), StockSymbol(created_at=1745301528663, industry='제약', symbol='214450', symbol_name='파마리서치', theme='의료기기, 화장품', type='kosdaq150'), StockSymbol(created_at=1745301609622, industry='전기전자', symbol='032500', symbol_name='케이엠더블유', theme='통신장비', type='kosdaq150'), StockSymbol(created_at=1745301591088, industry='전기전자', symbol='272290', symbol_name='이녹스첨단소재', theme='2차전지, 스마트폰', type='kosdaq150'), StockSymbol(created_at=1745301562136, industry='화학', symbol='281740', symbol_name='레이크머티리얼즈', theme='태양광', type='kosdaq150'), StockSymbol(created_at=1745301601353, industry='화학', symbol='365340', symbol_name='성일하이텍', theme='폐배터리', type='kosdaq150'), StockSymbol(created_at=1745301602962, industry='전기전자', symbol='218410', symbol_name='RFHIC', theme='통신장비', type='kosdaq150'), StockSymbol(created_at=1745301553649, industry='기계장비', symbol='089030', symbol_name='테크윙', theme='반도체', type='kosdaq150'), StockSymbol(created_at=1745301565066, industry='전기전자', symbol='101490', symbol_name='에스앤에스텍', theme='반도체', type='kosdaq150'), StockSymbol(created_at=1745301592895, industry='유통', symbol='032190', symbol_name='다우데이타', theme='클라우드, 정보보안', type='kosdaq150'), StockSymbol(created_at=1745301594656, industry='전기전자', symbol='080220', symbol_name='제주반도체', theme='반도체', type='kosdaq150'), StockSymbol(created_at=1745301534263, industry='제약', symbol='068760', symbol_name='셀트리온제약', theme='제약, 비만치료제(위고비)', type='kosdaq150'), StockSymbol(created_at=1745301537764, industry='기계장비', symbol='036930', symbol_name='주성엔지니어링', theme='반도체, 유리기판', type='kosdaq150'), StockSymbol(created_at=1745301592252, industry='운송장비부품', symbol='015750', symbol_name='성우하이텍', theme='2차전지, 자동차부품', type='kosdaq150'), StockSymbol(created_at=1745301531408, industry='오락문화', symbol='041510', symbol_name='에스엠', theme='엔터테인먼트', type='kosdaq150'), StockSymbol(created_at=1745301610209, industry='기계장비', symbol='420770', symbol_name='기가비스', theme='반도체, 유리기판', type='kosdaq150'), StockSymbol(created_at=1745301605421, industry='전기전자', symbol='179900', symbol_name='유티아이', type='kosdaq150'), StockSymbol(created_at=1745301606065, industry='IT서비스', symbol='108860', symbol_name='셀바스AI', theme='의료AI', type='kosdaq150'), StockSymbol(created_at=1745301618872, industry='운송장비부품', symbol='118990', symbol_name='모트렉스', theme='자동차부품, 자율주행', type='kosdaq150'), StockSymbol(created_at=1745301574710, industry='IT서비스', symbol='058970', symbol_name='엠로', theme='로봇', type='kosdaq150'), StockSymbol(created_at=1745301604230, industry='전기전자', symbol='094360', symbol_name='칩스앤미디어', theme='반도체, 스마트카', type='kosdaq150'), StockSymbol(created_at=1745301584204, industry='일반서비스', symbol='215200', symbol_name='메가스터디교육', theme='교육', type='kosdaq150'), StockSymbol(created_at=1745301555680, industry='기계장비', symbol='240810', symbol_name='원익IPS', theme='반도체', type='kosdaq150'), StockSymbol(created_at=1745301570115, industry='제약', symbol='086450', symbol_name='동국제약', theme='제약', type='kosdaq150'), StockSymbol(created_at=1745301598855, industry='기계장비', symbol='253590', symbol_name='네오셈', theme='반도체', type='kosdaq150'), StockSymbol(created_at=1745301606666, industry='유통', symbol='060280', symbol_name='큐렉소', theme='AI, 로봇', type='kosdaq150'), StockSymbol(created_at=1745301532923, industry='IT서비스', symbol='263750', symbol_name='펄어비스', theme='게임', type='kosdaq150'), StockSymbol(created_at=1745301526087, industry='제약', symbol='145020', symbol_name='휴젤', theme='미용기기', type='kosdaq150'), StockSymbol(created_at=1745301583031, industry='금속', symbol='009520', symbol_name='포스코엠텍', theme='2차전지', type='kosdaq150'), StockSymbol(created_at=1745301564485, industry='IT서비스', symbol='053800', symbol_name='안랩', theme='안철수, 보안', type='kosdaq150'), StockSymbol(created_at=1745301557507, industry='IT서비스', symbol='376300', symbol_name='디어유', theme='엔터테인먼트', type='kosdaq150'), StockSymbol(created_at=1745301619487, industry='기계장비', symbol='033640', symbol_name='네패스', theme='반도체, 로봇', type='kosdaq150'), StockSymbol(created_at=1745301566272, industry='기계장비', symbol='031980', symbol_name='피에스케이홀딩스', theme='반도체', type='kosdaq150'), StockSymbol(created_at=1745301523031, industry='일반서비스', symbol='196170', symbol_name='알테오젠', theme='바이오', type='kosdaq150'), StockSymbol(created_at=1745301560952, industry='기계장비', symbol='098460', symbol_name='고영', theme='반도체, AI', type='kosdaq150'), StockSymbol(created_at=1745301543590, industry='IT서비스', symbol='042000', symbol_name='카페24', theme='비대면', type='kosdaq150'), StockSymbol(created_at=1745301534911, industry='일반서비스', symbol='310210', symbol_name='보로노이', theme='바이오', type='kosdaq150'), StockSymbol(created_at=1745301565662, industry='기계장비', symbol='084370', symbol_name='유진테크', theme='반도체', type='kosdaq150'), StockSymbol(created_at=1745301558148, industry='IT서비스', symbol='112040', symbol_name='위메이드', theme='게임', type='kosdaq150'), StockSymbol(created_at=1745301577658, industry='화학', symbol='383310', symbol_name='에코프로에이치엔', type='kosdaq150'), StockSymbol(created_at=1745301600712, industry='전기전자', symbol='036810', symbol_name='에프에스티', theme='반도체', type='kosdaq150'), StockSymbol(created_at=1745301593476, industry='의료정밀기기', symbol='099190', symbol_name='아이센스', theme='의료기기, 방탄소년단', type='kosdaq150'), StockSymbol(created_at=1745301572558, industry='기계장비', symbol='183300', symbol_name='코미코', theme='반도체', type='kosdaq150'), StockSymbol(created_at=1745301578292, industry='기계장비', symbol='222080', symbol_name='씨아이에스', theme='전기차, 2차전지', type='kosdaq150'), StockSymbol(created_at=1745301555075, industry='전기전자', symbol='178320', symbol_name='서진시스템', theme='통신장비, 반도체장비', type='kosdaq150'), StockSymbol(created_at=1745301597063, industry='기계장비', symbol='095610', symbol_name='테스', theme='반도체', type='kosdaq150'), StockSymbol(created_at=1745301575289, industry='일반서비스', symbol='025980', symbol_name='아난티', theme='대북주', type='kosdaq150'), StockSymbol(created_at=1745301580649, industry='기계장비', symbol='319660', symbol_name='피에스케이', theme='반도체', type='kosdaq150'), StockSymbol(created_at=1745301573717, industry='화학', symbol='121600', symbol_name='나노신소재', theme='2차전지', type='kosdaq150'), StockSymbol(created_at=1745301527299, industry='의료정밀기기', symbol='214150', symbol_name='클래시스', theme='미용기기, 의료기기, 화장품', type='kosdaq150'), StockSymbol(created_at=1745301524784, industry='금융', symbol='086520', symbol_name='에코프로', theme='2차전지, 지주사', type='kosdaq150'), StockSymbol(created_at=1745301590500, industry='화학', symbol='317330', symbol_name='덕산테코피아', theme='전고체 배터리', type='kosdaq150'), StockSymbol(created_at=1745301614328, industry='기계장비', symbol='372170', symbol_name='윤성에프앤씨', theme='2차전지', type='kosdaq150'), StockSymbol(created_at=1745301558746, industry='기계장비', symbol='137400', symbol_name='피엔티', theme='2차전지장비, 폐배터리', type='kosdaq150'), StockSymbol(created_at=1745301582426, industry='제약', symbol='053030', symbol_name='바이넥스', theme='바이오', type='kosdaq150'), StockSymbol(created_at=1745301529271, industry='제약', symbol='298380', symbol_name='에이비엘바이오', theme='바이오', type='kosdaq150'), StockSymbol(created_at=1745301583616, industry='화학', symbol='241710', symbol_name='코스메카코리아', theme='화장품', type='kosdaq150'), StockSymbol(created_at=1745301620076, industry='화학', symbol='425040', symbol_name='티이엠씨', theme='반도체, 네온가스', type='kosdaq150'), StockSymbol(created_at=1745301584813, industry='IT서비스', symbol='095660', symbol_name='네오위즈', theme='게임', type='kosdaq150'), StockSymbol(created_at=1745301587152, industry='전기전자', symbol='399720', symbol_name='가온칩스', theme='반도체', type='kosdaq150'), StockSymbol(created_at=1745301542187, industry='의료정밀기기', symbol='140860', symbol_name='파크시스템스', theme='반도체', type='kosdaq150'), StockSymbol(created_at=1745301539850, industry='제약', symbol='237690', symbol_name='에스티팜', theme='제약', type='kosdaq150'), StockSymbol(created_at=1745301580052, industry='화학', symbol='048410', symbol_name='현대바이오', theme='바이오', type='kosdaq150'), StockSymbol(created_at=1745301613722, industry='전기전자', symbol='049070', symbol_name='인탑스', theme='로봇, 자동차부품', type='kosdaq150'), StockSymbol(created_at=1745301581218, industry='전기전자', symbol='166090', symbol_name='하나머티리얼즈', theme='반도체', type='kosdaq150'), StockSymbol(created_at=1745301614913, industry='IT서비스', symbol='035600', symbol_name='KG이니시스', theme='전자결제', type='kosdaq150'), StockSymbol(created_at=1745301567653, industry='전기전자', symbol='067310', symbol_name='하나마이크론', theme='반도체', type='kosdaq150'), StockSymbol(created_at=1745301581843, industry='전기전자', symbol='222800', symbol_name='심텍', theme='반도체', type='kosdaq150'), StockSymbol(created_at=1745301568931, industry='전기전자', symbol='213420', symbol_name='덕산네오룩스', theme='QLED, 스마트폰', type='kosdaq150'), StockSymbol(created_at=1745301566918, industry='의료정밀기기', symbol='336570', symbol_name='원텍', theme='의료기기', type='kosdaq150'), StockSymbol(created_at=1745301591684, industry='IT서비스', symbol='194480', symbol_name='데브시스터즈', theme='게임', type='kosdaq150'), StockSymbol(created_at=1745301533584, industry='제약', symbol='007390', symbol_name='네이처셀', theme='화장품', type='kosdaq150'), StockSymbol(created_at=1745301530703, industry='전기전자', symbol='058470', symbol_name='리노공업', theme='반도체', type='kosdaq150'), StockSymbol(created_at=1745301616516, industry='전기전자', symbol='393890', symbol_name='더블유씨피', theme='2차전지', type='kosdaq150'), StockSymbol(created_at=1745301595860, industry='종이목재', symbol='025900', symbol_name='동화기업', theme='2차전지', type='kosdaq150'), StockSymbol(created_at=1745301577099, industry='전기전자', symbol='058610', symbol_name='에스피지', theme='VR, 로봇', type='kosdaq150'), StockSymbol(created_at=1745301599455, industry='IT서비스', symbol='215000', symbol_name='골프존', theme='겨울, 골프', type='kosdaq150'), StockSymbol(created_at=1745301607251, industry='화학', symbol='278280', symbol_name='천보', theme='2차전지', type='kosdaq150'), StockSymbol(created_at=1745301579468, industry='금융', symbol='041190', symbol_name='우리기술투자', theme='가상화폐', type='kosdaq150'), StockSymbol(created_at=1745301556938, industry='유통', symbol='095340', symbol_name='ISC', theme='반도체, 자율주행', type='kosdaq150'), StockSymbol(created_at=1745301617662, industry='전기전자', symbol='084850', symbol_name='아이티엠반도체', theme='2차전지', type='kosdaq150'), StockSymbol(created_at=1745301607855, industry='기계장비', symbol='171090', symbol_name='선익시스템', theme='메타버스, 유리기판', type='kosdaq150'), StockSymbol(created_at=1745301552921, industry='제약', symbol='039200', symbol_name='오스코텍', theme='치아', type='kosdaq150'), StockSymbol(created_at=1745301569542, industry='전기전자', symbol='417200', symbol_name='LS머트리얼즈', theme='전기차', type='kosdaq150'), StockSymbol(created_at=1745301609021, industry='전기전자', symbol='068240', symbol_name='다원시스', theme='철도, 태양광', type='kosdaq150'), StockSymbol(created_at=1745301573134, industry='제약', symbol='085660', symbol_name='차바이오텍', theme='비대면 진료, 줄기세포', type='kosdaq150'), StockSymbol(created_at=1745301588140, industry='제약', symbol='290650', symbol_name='엘앤씨바이오', theme='의료기기', type='kosdaq150'), StockSymbol(created_at=1745301547497, industry='화학', symbol='018290', symbol_name='브이티', theme='VR, 방탄소년단', type='kosdaq150'), StockSymbol(created_at=1745301596463, industry='전기전자', symbol='189300', symbol_name='인텔리안테크', theme='우주항공', type='kosdaq150'), StockSymbol(created_at=1745301575922, industry='전기전자', symbol='025320', symbol_name='시노펙스', theme='수소차, 자동차부품', type='kosdaq150'), StockSymbol(created_at=1745301526640, industry='일반서비스', symbol='141080', symbol_name='리가켐바이오', theme='의료기기', type='kosdaq150'), StockSymbol(created_at=1745301563329, industry='전기전자', symbol='204270', symbol_name='제이앤티씨', theme='유리기판', type='kosdaq150'), StockSymbol(created_at=1745301541399, industry='기계장비', symbol='039030', symbol_name='이오테크닉스', theme='반도체, 유리기판', type='kosdaq150'), StockSymbol(created_at=1745301552043, industry='일반서비스', symbol='140410', symbol_name='메지온', theme='바이오', type='kosdaq150'), StockSymbol(created_at=1745301604838, industry='제약', symbol='200130', symbol_name='콜마비앤에이치', theme='화장품', type='kosdaq150'), StockSymbol(created_at=1745301568310, industry='기계장비', symbol='056190', symbol_name='에스에프에이', theme='QLED, 반도체', type='kosdaq150'), StockSymbol(created_at=1745301545725, industry='기계장비', symbol='082270', symbol_name='젬백스', type='kosdaq150'), StockSymbol(created_at=1745301589888, industry='일반서비스', symbol='131970', symbol_name='두산테스나', theme='반도체', type='kosdaq150'), StockSymbol(created_at=1745301615937, industry='기계장비', symbol='053610', symbol_name='프로텍', theme='반도체 장비', type='kosdaq150'), StockSymbol(created_at=1745301546585, industry='제약', symbol='096530', symbol_name='씨젠', theme='코로나, 바이러스', type='kosdaq150'), StockSymbol(created_at=1745301548421, industry='오락문화', symbol='253450', symbol_name='스튜디오드래곤', theme='엔터테인먼트, OTT', type='kosdaq150'), StockSymbol(created_at=1745301594075, industry='비금속', symbol='074600', symbol_name='원익QnC', theme='반도체, 3D 낸드', type='kosdaq150'), StockSymbol(created_at=1745301562708, industry='IT서비스', symbol='225570', symbol_name='넥슨게임즈', theme='게임', type='kosdaq150'), StockSymbol(created_at=1745301585402, industry='전기전자', symbol='033100', symbol_name='제룡전기', theme='변압기', type='kosdaq150'), StockSymbol(created_at=1745301559364, industry='비금속', symbol='064760', symbol_name='티씨케이', theme='반도체', type='kosdaq150'), StockSymbol(created_at=1745301611981, industry='음식료담배', symbol='267980', symbol_name='매일유업', theme='음식료업종', type='kosdaq150'), StockSymbol(created_at=1745301537003, industry='전기전자', symbol='065350', symbol_name='신성델타테크', theme='초전도체, 로봇', type='kosdaq150'), StockSymbol(created_at=1745301549960, industry='전기전자', symbol='078600', symbol_name='대주전자재료', theme='MLCC, 2차전지', type='kosdaq150'), StockSymbol(created_at=1745301551280, industry='제약', symbol='086900', symbol_name='메디톡스', type='kosdaq150'), StockSymbol(created_at=1745301556315, industry='제약', symbol='195940', symbol_name='HK이노엔', theme='제약', type='kosdaq150'), StockSymbol(created_at=1745301524207, industry='제약', symbol='028300', symbol_name='HLB', theme='바이오', type='kosdaq150'), StockSymbol(created_at=1745301586565, industry='IT서비스', symbol='078340', symbol_name='컴투스', theme='게임', type='kosdaq150'), StockSymbol(created_at=1745301570723, industry='유통', symbol='115450', symbol_name='HLB테라퓨틱스', theme='바이오', type='kosdaq150'), StockSymbol(created_at=1745301611391, industry='금융', symbol='060250', symbol_name='NHN KCP', theme='전자결제', type='kosdaq150'), StockSymbol(created_at=1745301589307, industry='화학', symbol='101360', symbol_name='에코앤드림', theme='2차전지', type='kosdaq150'), StockSymbol(created_at=1745301618289, industry='전기전자', symbol='091120', symbol_name='이엠텍', theme='스마트폰', type='kosdaq150'), StockSymbol(created_at=1745301523650, industry='전기전자', symbol='247540', symbol_name='에코프로비엠', theme='2차전지', type='kosdaq150'), StockSymbol(created_at=1745301603644, industry='전기전자', symbol='046890', symbol_name='서울반도체', theme='LED', type='kosdaq150'), StockSymbol(created_at=1745301585969, industry='전기전자', symbol='036540', symbol_name='SFA반도체', theme='반도체', type='kosdaq150'), StockSymbol(created_at=1745301549191, industry='오락문화', symbol='035760', symbol_name='CJ ENM', theme='엔터테인먼트, OTT', type='kosdaq150')]\n",
      "------ dreaminmindbot의 계좌 익절/손절이 완료되었습니다. 이제부터 주식 자동 트레이딩을 시작합니다!\n",
      "메시지가 성공적으로 전송되었습니다.\n",
      "티에스이 지표 계산 실패. 사유 : ('Connection aborted.', RemoteDisconnected('Remote end closed connection without response'))\n",
      "솔브레인 지표 계산 실패. 사유 : ('Connection aborted.', RemoteDisconnected('Remote end closed connection without response'))\n",
      "\u001b[1;33m[07/02 23:20:23] WARNING: API 호출 횟수를 초과하여 호출 유량 획득까지 대기합니다.\u001b[0m\n",
      "고영 지표 계산 실패. 사유 : ('Connection aborted.', RemoteDisconnected('Remote end closed connection without response'))\n",
      "피엔티 지표 계산 실패. 사유 : ('Connection aborted.', RemoteDisconnected('Remote end closed connection without response'))\n",
      "\u001b[1;33m[07/02 23:20:39] WARNING: API 호출 횟수를 초과하였습니다.\u001b[0m\n",
      "\u001b[1;33m[07/02 23:20:39] WARNING: API 호출 횟수를 초과하여 호출 유량 획득까지 대기합니다.\u001b[0m\n",
      "심텍 지표 계산 실패. 사유 : ('Connection aborted.', RemoteDisconnected('Remote end closed connection without response'))\n",
      "이오테크닉스 지표 계산 실패. 사유 : ('Connection aborted.', RemoteDisconnected('Remote end closed connection without response'))\n",
      "\u001b[1;33m[07/02 23:20:53] WARNING: API 호출 횟수를 초과하여 호출 유량 획득까지 대기합니다.\u001b[0m\n",
      "\u001b[1;33m[07/02 23:20:56] WARNING: API 호출 횟수를 초과하여 호출 유량 획득까지 대기합니다.\u001b[0m\n",
      "에코프로비엠 지표 계산 실패. 사유 : ('Connection aborted.', RemoteDisconnected('Remote end closed connection without response'))\n",
      "❌ 해당 symbol 종목이 없습니다: 005380\n",
      "❌ 해당 symbol 종목이 없습니다: 005930\n",
      "❌ 해당 symbol 종목이 없습니다: 064350\n",
      "💰 시뮬 중: 085660 / 날짜: 2025-07-02 / 사용가능한 예수금: 0\n",
      "❌ 해당 symbol 종목이 없습니다: 089980\n",
      "💰 시뮬 중: 141080 / 날짜: 2025-07-02 / 사용가능한 예수금: 0\n",
      "❌ 해당 symbol 종목이 없습니다: 271940\n",
      "❌ 해당 symbol 종목이 없습니다: 336260\n",
      "💰 시뮬 중: 358570 / 날짜: 2025-07-02 / 사용가능한 예수금: 95,981\n",
      "💰 시뮬 중: 358570 / 날짜: 2025-07-02 / 사용가능한 예수금: 95,981 / 거래 없음\n",
      "💰 시뮬 중: 036830 / 날짜: 2025-07-02 / 사용가능한 예수금: 95,981\n",
      "💰 시뮬 중: 036830 / 날짜: 2025-07-02 / 사용가능한 예수금: 95,981 / 거래 없음\n",
      "💰 시뮬 중: 144510 / 날짜: 2025-07-02 / 사용가능한 예수금: 95,981\n",
      "💰 시뮬 중: 144510 / 날짜: 2025-07-02 / 사용가능한 예수금: 95,981 / 거래 없음\n"
     ]
    },
    {
     "name": "stderr",
     "output_type": "stream",
     "text": [
      "/Users/hsh/dev_project/sb-fsts/app/utils/auto_trading_bot.py:2693: UserWarning: Boolean Series key will be reindexed to match DataFrame index.\n",
      "  valid = df.iloc[:max_confirmed_idx][df['horizontal_low'].notna()]\n",
      "/Users/hsh/dev_project/sb-fsts/app/utils/auto_trading_bot.py:2708: UserWarning: Boolean Series key will be reindexed to match DataFrame index.\n",
      "  valid = df.iloc[:max_confirmed_idx][df['horizontal_high'].notna()]\n",
      "/Users/hsh/dev_project/sb-fsts/app/utils/auto_trading_bot.py:2693: UserWarning: Boolean Series key will be reindexed to match DataFrame index.\n",
      "  valid = df.iloc[:max_confirmed_idx][df['horizontal_low'].notna()]\n",
      "/Users/hsh/dev_project/sb-fsts/app/utils/auto_trading_bot.py:2708: UserWarning: Boolean Series key will be reindexed to match DataFrame index.\n",
      "  valid = df.iloc[:max_confirmed_idx][df['horizontal_high'].notna()]\n",
      "/Users/hsh/dev_project/sb-fsts/app/utils/auto_trading_bot.py:2693: UserWarning: Boolean Series key will be reindexed to match DataFrame index.\n",
      "  valid = df.iloc[:max_confirmed_idx][df['horizontal_low'].notna()]\n",
      "/Users/hsh/dev_project/sb-fsts/app/utils/auto_trading_bot.py:2708: UserWarning: Boolean Series key will be reindexed to match DataFrame index.\n",
      "  valid = df.iloc[:max_confirmed_idx][df['horizontal_high'].notna()]\n",
      "/Users/hsh/dev_project/sb-fsts/app/utils/auto_trading_bot.py:2693: UserWarning: Boolean Series key will be reindexed to match DataFrame index.\n",
      "  valid = df.iloc[:max_confirmed_idx][df['horizontal_low'].notna()]\n",
      "/Users/hsh/dev_project/sb-fsts/app/utils/auto_trading_bot.py:2708: UserWarning: Boolean Series key will be reindexed to match DataFrame index.\n",
      "  valid = df.iloc[:max_confirmed_idx][df['horizontal_high'].notna()]\n",
      "/Users/hsh/dev_project/sb-fsts/app/utils/auto_trading_bot.py:2693: UserWarning: Boolean Series key will be reindexed to match DataFrame index.\n",
      "  valid = df.iloc[:max_confirmed_idx][df['horizontal_low'].notna()]\n",
      "/Users/hsh/dev_project/sb-fsts/app/utils/auto_trading_bot.py:2708: UserWarning: Boolean Series key will be reindexed to match DataFrame index.\n",
      "  valid = df.iloc[:max_confirmed_idx][df['horizontal_high'].notna()]\n",
      "/Users/hsh/dev_project/sb-fsts/app/utils/auto_trading_bot.py:2693: UserWarning: Boolean Series key will be reindexed to match DataFrame index.\n",
      "  valid = df.iloc[:max_confirmed_idx][df['horizontal_low'].notna()]\n",
      "/Users/hsh/dev_project/sb-fsts/app/utils/auto_trading_bot.py:2708: UserWarning: Boolean Series key will be reindexed to match DataFrame index.\n",
      "  valid = df.iloc[:max_confirmed_idx][df['horizontal_high'].notna()]\n"
     ]
    },
    {
     "name": "stdout",
     "output_type": "stream",
     "text": [
      "💰 시뮬 중: 035900 / 날짜: 2025-07-02 / 사용가능한 예수금: 95,981\n",
      "💰 시뮬 중: 035900 / 날짜: 2025-07-02 / 사용가능한 예수금: 95,981 / 거래 없음\n",
      "💰 시뮬 중: 114840 / 날짜: 2025-07-02 / 사용가능한 예수금: 95,981\n",
      "💰 시뮬 중: 114840 / 날짜: 2025-07-02 / 사용가능한 예수금: 95,981 / 거래 없음\n",
      "💰 시뮬 중: 257720 / 날짜: 2025-07-02 / 사용가능한 예수금: 95,981\n",
      "💰 시뮬 중: 257720 / 날짜: 2025-07-02 / 사용가능한 예수금: 95,981 / 거래 없음\n"
     ]
    },
    {
     "name": "stderr",
     "output_type": "stream",
     "text": [
      "/Users/hsh/dev_project/sb-fsts/app/utils/auto_trading_bot.py:2693: UserWarning: Boolean Series key will be reindexed to match DataFrame index.\n",
      "  valid = df.iloc[:max_confirmed_idx][df['horizontal_low'].notna()]\n",
      "/Users/hsh/dev_project/sb-fsts/app/utils/auto_trading_bot.py:2708: UserWarning: Boolean Series key will be reindexed to match DataFrame index.\n",
      "  valid = df.iloc[:max_confirmed_idx][df['horizontal_high'].notna()]\n",
      "/Users/hsh/dev_project/sb-fsts/app/utils/auto_trading_bot.py:2693: UserWarning: Boolean Series key will be reindexed to match DataFrame index.\n",
      "  valid = df.iloc[:max_confirmed_idx][df['horizontal_low'].notna()]\n",
      "/Users/hsh/dev_project/sb-fsts/app/utils/auto_trading_bot.py:2708: UserWarning: Boolean Series key will be reindexed to match DataFrame index.\n",
      "  valid = df.iloc[:max_confirmed_idx][df['horizontal_high'].notna()]\n",
      "/Users/hsh/dev_project/sb-fsts/app/utils/auto_trading_bot.py:2693: UserWarning: Boolean Series key will be reindexed to match DataFrame index.\n",
      "  valid = df.iloc[:max_confirmed_idx][df['horizontal_low'].notna()]\n",
      "/Users/hsh/dev_project/sb-fsts/app/utils/auto_trading_bot.py:2708: UserWarning: Boolean Series key will be reindexed to match DataFrame index.\n",
      "  valid = df.iloc[:max_confirmed_idx][df['horizontal_high'].notna()]\n"
     ]
    },
    {
     "name": "stdout",
     "output_type": "stream",
     "text": [
      "💰 시뮬 중: 000250 / 날짜: 2025-07-02 / 사용가능한 예수금: 95,981\n",
      "💰 시뮬 중: 000250 / 날짜: 2025-07-02 / 사용가능한 예수금: 95,981 / 거래 없음\n",
      "💰 시뮬 중: 005290 / 날짜: 2025-07-02 / 사용가능한 예수금: 95,981\n",
      "💰 시뮬 중: 005290 / 날짜: 2025-07-02 / 사용가능한 예수금: 95,981 / 거래 없음\n",
      "💰 시뮬 중: 003380 / 날짜: 2025-07-02 / 사용가능한 예수금: 95,981\n",
      "💰 시뮬 중: 003380 / 날짜: 2025-07-02 / 사용가능한 예수금: 95,981 / 거래 없음\n"
     ]
    },
    {
     "name": "stderr",
     "output_type": "stream",
     "text": [
      "/Users/hsh/dev_project/sb-fsts/app/utils/auto_trading_bot.py:2693: UserWarning: Boolean Series key will be reindexed to match DataFrame index.\n",
      "  valid = df.iloc[:max_confirmed_idx][df['horizontal_low'].notna()]\n",
      "/Users/hsh/dev_project/sb-fsts/app/utils/auto_trading_bot.py:2708: UserWarning: Boolean Series key will be reindexed to match DataFrame index.\n",
      "  valid = df.iloc[:max_confirmed_idx][df['horizontal_high'].notna()]\n",
      "/Users/hsh/dev_project/sb-fsts/app/utils/auto_trading_bot.py:2693: UserWarning: Boolean Series key will be reindexed to match DataFrame index.\n",
      "  valid = df.iloc[:max_confirmed_idx][df['horizontal_low'].notna()]\n",
      "/Users/hsh/dev_project/sb-fsts/app/utils/auto_trading_bot.py:2708: UserWarning: Boolean Series key will be reindexed to match DataFrame index.\n",
      "  valid = df.iloc[:max_confirmed_idx][df['horizontal_high'].notna()]\n",
      "/Users/hsh/dev_project/sb-fsts/app/utils/auto_trading_bot.py:2693: UserWarning: Boolean Series key will be reindexed to match DataFrame index.\n",
      "  valid = df.iloc[:max_confirmed_idx][df['horizontal_low'].notna()]\n",
      "/Users/hsh/dev_project/sb-fsts/app/utils/auto_trading_bot.py:2708: UserWarning: Boolean Series key will be reindexed to match DataFrame index.\n",
      "  valid = df.iloc[:max_confirmed_idx][df['horizontal_high'].notna()]\n"
     ]
    },
    {
     "name": "stdout",
     "output_type": "stream",
     "text": [
      "💰 시뮬 중: 122870 / 날짜: 2025-07-02 / 사용가능한 예수금: 95,981\n",
      "💰 시뮬 중: 122870 / 날짜: 2025-07-02 / 사용가능한 예수금: 95,981 / 거래 없음\n",
      "💰 시뮬 중: 352480 / 날짜: 2025-07-02 / 사용가능한 예수금: 95,981\n",
      "💰 시뮬 중: 352480 / 날짜: 2025-07-02 / 사용가능한 예수금: 95,981 / 거래 없음\n"
     ]
    },
    {
     "name": "stderr",
     "output_type": "stream",
     "text": [
      "/Users/hsh/dev_project/sb-fsts/app/utils/auto_trading_bot.py:2693: UserWarning: Boolean Series key will be reindexed to match DataFrame index.\n",
      "  valid = df.iloc[:max_confirmed_idx][df['horizontal_low'].notna()]\n",
      "/Users/hsh/dev_project/sb-fsts/app/utils/auto_trading_bot.py:2708: UserWarning: Boolean Series key will be reindexed to match DataFrame index.\n",
      "  valid = df.iloc[:max_confirmed_idx][df['horizontal_high'].notna()]\n",
      "/Users/hsh/dev_project/sb-fsts/app/utils/auto_trading_bot.py:2693: UserWarning: Boolean Series key will be reindexed to match DataFrame index.\n",
      "  valid = df.iloc[:max_confirmed_idx][df['horizontal_low'].notna()]\n",
      "/Users/hsh/dev_project/sb-fsts/app/utils/auto_trading_bot.py:2708: UserWarning: Boolean Series key will be reindexed to match DataFrame index.\n",
      "  valid = df.iloc[:max_confirmed_idx][df['horizontal_high'].notna()]\n"
     ]
    },
    {
     "name": "stdout",
     "output_type": "stream",
     "text": [
      "💰 시뮬 중: 069080 / 날짜: 2025-07-02 / 사용가능한 예수금: 95,981\n",
      "💰 시뮬 중: 069080 / 날짜: 2025-07-02 / 사용가능한 예수금: 95,981 / 거래 없음\n",
      "💰 시뮬 중: 214370 / 날짜: 2025-07-02 / 사용가능한 예수금: 95,981\n",
      "💰 시뮬 중: 214370 / 날짜: 2025-07-02 / 사용가능한 예수금: 95,981 / 거래 없음\n"
     ]
    },
    {
     "name": "stderr",
     "output_type": "stream",
     "text": [
      "/Users/hsh/dev_project/sb-fsts/app/utils/auto_trading_bot.py:2693: UserWarning: Boolean Series key will be reindexed to match DataFrame index.\n",
      "  valid = df.iloc[:max_confirmed_idx][df['horizontal_low'].notna()]\n",
      "/Users/hsh/dev_project/sb-fsts/app/utils/auto_trading_bot.py:2708: UserWarning: Boolean Series key will be reindexed to match DataFrame index.\n",
      "  valid = df.iloc[:max_confirmed_idx][df['horizontal_high'].notna()]\n",
      "/Users/hsh/dev_project/sb-fsts/app/utils/auto_trading_bot.py:2693: UserWarning: Boolean Series key will be reindexed to match DataFrame index.\n",
      "  valid = df.iloc[:max_confirmed_idx][df['horizontal_low'].notna()]\n",
      "/Users/hsh/dev_project/sb-fsts/app/utils/auto_trading_bot.py:2708: UserWarning: Boolean Series key will be reindexed to match DataFrame index.\n",
      "  valid = df.iloc[:max_confirmed_idx][df['horizontal_high'].notna()]\n"
     ]
    },
    {
     "name": "stdout",
     "output_type": "stream",
     "text": [
      "💰 시뮬 중: 006730 / 날짜: 2025-07-02 / 사용가능한 예수금: 95,981\n",
      "💰 시뮬 중: 006730 / 날짜: 2025-07-02 / 사용가능한 예수금: 95,981 / 거래 없음\n",
      "💰 시뮬 중: 348210 / 날짜: 2025-07-02 / 사용가능한 예수금: 95,981\n",
      "💰 시뮬 중: 348210 / 날짜: 2025-07-02 / 사용가능한 예수금: 95,981 / 거래 없음\n"
     ]
    },
    {
     "name": "stderr",
     "output_type": "stream",
     "text": [
      "/Users/hsh/dev_project/sb-fsts/app/utils/auto_trading_bot.py:2693: UserWarning: Boolean Series key will be reindexed to match DataFrame index.\n",
      "  valid = df.iloc[:max_confirmed_idx][df['horizontal_low'].notna()]\n",
      "/Users/hsh/dev_project/sb-fsts/app/utils/auto_trading_bot.py:2708: UserWarning: Boolean Series key will be reindexed to match DataFrame index.\n",
      "  valid = df.iloc[:max_confirmed_idx][df['horizontal_high'].notna()]\n",
      "/Users/hsh/dev_project/sb-fsts/app/utils/auto_trading_bot.py:2693: UserWarning: Boolean Series key will be reindexed to match DataFrame index.\n",
      "  valid = df.iloc[:max_confirmed_idx][df['horizontal_low'].notna()]\n",
      "/Users/hsh/dev_project/sb-fsts/app/utils/auto_trading_bot.py:2708: UserWarning: Boolean Series key will be reindexed to match DataFrame index.\n",
      "  valid = df.iloc[:max_confirmed_idx][df['horizontal_high'].notna()]\n"
     ]
    },
    {
     "name": "stdout",
     "output_type": "stream",
     "text": [
      "💰 시뮬 중: 418550 / 날짜: 2025-07-02 / 사용가능한 예수금: 95,981\n",
      "💰 시뮬 중: 418550 / 날짜: 2025-07-02 / 사용가능한 예수금: 95,981 / 거래 없음\n",
      "💰 시뮬 중: 030520 / 날짜: 2025-07-02 / 사용가능한 예수금: 95,981\n",
      "💰 시뮬 중: 030520 / 날짜: 2025-07-02 / 사용가능한 예수금: 95,981 / 거래 없음\n",
      "💰 시뮬 중: 087010 / 날짜: 2025-07-02 / 사용가능한 예수금: 95,981\n",
      "💰 시뮬 중: 087010 / 날짜: 2025-07-02 / 사용가능한 예수금: 95,981 / 거래 없음\n",
      "💰 시뮬 중: 394280 / 날짜: 2025-07-02 / 사용가능한 예수금: 95,981\n",
      "💰 시뮬 중: 394280 / 날짜: 2025-07-02 / 사용가능한 예수금: 95,981 / 거래 없음\n"
     ]
    },
    {
     "name": "stderr",
     "output_type": "stream",
     "text": [
      "/Users/hsh/dev_project/sb-fsts/app/utils/auto_trading_bot.py:2693: UserWarning: Boolean Series key will be reindexed to match DataFrame index.\n",
      "  valid = df.iloc[:max_confirmed_idx][df['horizontal_low'].notna()]\n",
      "/Users/hsh/dev_project/sb-fsts/app/utils/auto_trading_bot.py:2708: UserWarning: Boolean Series key will be reindexed to match DataFrame index.\n",
      "  valid = df.iloc[:max_confirmed_idx][df['horizontal_high'].notna()]\n",
      "/Users/hsh/dev_project/sb-fsts/app/utils/auto_trading_bot.py:2693: UserWarning: Boolean Series key will be reindexed to match DataFrame index.\n",
      "  valid = df.iloc[:max_confirmed_idx][df['horizontal_low'].notna()]\n",
      "/Users/hsh/dev_project/sb-fsts/app/utils/auto_trading_bot.py:2708: UserWarning: Boolean Series key will be reindexed to match DataFrame index.\n",
      "  valid = df.iloc[:max_confirmed_idx][df['horizontal_high'].notna()]\n",
      "/Users/hsh/dev_project/sb-fsts/app/utils/auto_trading_bot.py:2693: UserWarning: Boolean Series key will be reindexed to match DataFrame index.\n",
      "  valid = df.iloc[:max_confirmed_idx][df['horizontal_low'].notna()]\n",
      "/Users/hsh/dev_project/sb-fsts/app/utils/auto_trading_bot.py:2708: UserWarning: Boolean Series key will be reindexed to match DataFrame index.\n",
      "  valid = df.iloc[:max_confirmed_idx][df['horizontal_high'].notna()]\n",
      "/Users/hsh/dev_project/sb-fsts/app/utils/auto_trading_bot.py:2693: UserWarning: Boolean Series key will be reindexed to match DataFrame index.\n",
      "  valid = df.iloc[:max_confirmed_idx][df['horizontal_low'].notna()]\n",
      "/Users/hsh/dev_project/sb-fsts/app/utils/auto_trading_bot.py:2708: UserWarning: Boolean Series key will be reindexed to match DataFrame index.\n",
      "  valid = df.iloc[:max_confirmed_idx][df['horizontal_high'].notna()]\n",
      "/Users/hsh/dev_project/sb-fsts/app/utils/auto_trading_bot.py:2693: UserWarning: Boolean Series key will be reindexed to match DataFrame index.\n",
      "  valid = df.iloc[:max_confirmed_idx][df['horizontal_low'].notna()]\n",
      "/Users/hsh/dev_project/sb-fsts/app/utils/auto_trading_bot.py:2708: UserWarning: Boolean Series key will be reindexed to match DataFrame index.\n",
      "  valid = df.iloc[:max_confirmed_idx][df['horizontal_high'].notna()]\n"
     ]
    },
    {
     "name": "stdout",
     "output_type": "stream",
     "text": [
      "💰 시뮬 중: 095500 / 날짜: 2025-07-02 / 사용가능한 예수금: 95,981\n",
      "💰 시뮬 중: 095500 / 날짜: 2025-07-02 / 사용가능한 예수금: 95,981 / 거래 없음\n",
      "💰 시뮬 중: 403870 / 날짜: 2025-07-02 / 사용가능한 예수금: 95,981\n",
      "💰 시뮬 중: 403870 / 날짜: 2025-07-02 / 사용가능한 예수금: 95,981 / 거래 없음\n",
      "💰 시뮬 중: 348370 / 날짜: 2025-07-02 / 사용가능한 예수금: 95,981\n",
      "💰 시뮬 중: 348370 / 날짜: 2025-07-02 / 사용가능한 예수금: 95,981 / 거래 없음\n",
      "💰 시뮬 중: 293490 / 날짜: 2025-07-02 / 사용가능한 예수금: 95,981\n",
      "💰 시뮬 중: 293490 / 날짜: 2025-07-02 / 사용가능한 예수금: 95,981 / 거래 없음\n"
     ]
    },
    {
     "name": "stderr",
     "output_type": "stream",
     "text": [
      "/Users/hsh/dev_project/sb-fsts/app/utils/auto_trading_bot.py:2693: UserWarning: Boolean Series key will be reindexed to match DataFrame index.\n",
      "  valid = df.iloc[:max_confirmed_idx][df['horizontal_low'].notna()]\n",
      "/Users/hsh/dev_project/sb-fsts/app/utils/auto_trading_bot.py:2708: UserWarning: Boolean Series key will be reindexed to match DataFrame index.\n",
      "  valid = df.iloc[:max_confirmed_idx][df['horizontal_high'].notna()]\n",
      "/Users/hsh/dev_project/sb-fsts/app/utils/auto_trading_bot.py:2693: UserWarning: Boolean Series key will be reindexed to match DataFrame index.\n",
      "  valid = df.iloc[:max_confirmed_idx][df['horizontal_low'].notna()]\n",
      "/Users/hsh/dev_project/sb-fsts/app/utils/auto_trading_bot.py:2708: UserWarning: Boolean Series key will be reindexed to match DataFrame index.\n",
      "  valid = df.iloc[:max_confirmed_idx][df['horizontal_high'].notna()]\n",
      "/Users/hsh/dev_project/sb-fsts/app/utils/auto_trading_bot.py:2693: UserWarning: Boolean Series key will be reindexed to match DataFrame index.\n",
      "  valid = df.iloc[:max_confirmed_idx][df['horizontal_low'].notna()]\n",
      "/Users/hsh/dev_project/sb-fsts/app/utils/auto_trading_bot.py:2708: UserWarning: Boolean Series key will be reindexed to match DataFrame index.\n",
      "  valid = df.iloc[:max_confirmed_idx][df['horizontal_high'].notna()]\n",
      "/Users/hsh/dev_project/sb-fsts/app/utils/auto_trading_bot.py:2693: UserWarning: Boolean Series key will be reindexed to match DataFrame index.\n",
      "  valid = df.iloc[:max_confirmed_idx][df['horizontal_low'].notna()]\n",
      "/Users/hsh/dev_project/sb-fsts/app/utils/auto_trading_bot.py:2708: UserWarning: Boolean Series key will be reindexed to match DataFrame index.\n",
      "  valid = df.iloc[:max_confirmed_idx][df['horizontal_high'].notna()]\n"
     ]
    },
    {
     "name": "stdout",
     "output_type": "stream",
     "text": [
      "💰 시뮬 중: 091700 / 날짜: 2025-07-02 / 사용가능한 예수금: 95,981\n",
      "💰 시뮬 중: 091700 / 날짜: 2025-07-02 / 사용가능한 예수금: 95,981 / 거래 없음\n",
      "💰 시뮬 중: 067160 / 날짜: 2025-07-02 / 사용가능한 예수금: 95,981\n",
      "💰 시뮬 중: 067160 / 날짜: 2025-07-02 / 사용가능한 예수금: 95,981 / 거래 없음\n",
      "💰 시뮬 중: 277810 / 날짜: 2025-07-02 / 사용가능한 예수금: 95,981\n",
      "💰 시뮬 중: 277810 / 날짜: 2025-07-02 / 사용가능한 예수금: 95,981 / 거래 없음\n",
      "💰 시뮬 중: 064550 / 날짜: 2025-07-02 / 사용가능한 예수금: 95,981\n",
      "💰 시뮬 중: 064550 / 날짜: 2025-07-02 / 사용가능한 예수금: 95,981 / 거래 없음\n"
     ]
    },
    {
     "name": "stderr",
     "output_type": "stream",
     "text": [
      "/Users/hsh/dev_project/sb-fsts/app/utils/auto_trading_bot.py:2693: UserWarning: Boolean Series key will be reindexed to match DataFrame index.\n",
      "  valid = df.iloc[:max_confirmed_idx][df['horizontal_low'].notna()]\n",
      "/Users/hsh/dev_project/sb-fsts/app/utils/auto_trading_bot.py:2708: UserWarning: Boolean Series key will be reindexed to match DataFrame index.\n",
      "  valid = df.iloc[:max_confirmed_idx][df['horizontal_high'].notna()]\n",
      "/Users/hsh/dev_project/sb-fsts/app/utils/auto_trading_bot.py:2693: UserWarning: Boolean Series key will be reindexed to match DataFrame index.\n",
      "  valid = df.iloc[:max_confirmed_idx][df['horizontal_low'].notna()]\n",
      "/Users/hsh/dev_project/sb-fsts/app/utils/auto_trading_bot.py:2708: UserWarning: Boolean Series key will be reindexed to match DataFrame index.\n",
      "  valid = df.iloc[:max_confirmed_idx][df['horizontal_high'].notna()]\n",
      "/Users/hsh/dev_project/sb-fsts/app/utils/auto_trading_bot.py:2693: UserWarning: Boolean Series key will be reindexed to match DataFrame index.\n",
      "  valid = df.iloc[:max_confirmed_idx][df['horizontal_low'].notna()]\n",
      "/Users/hsh/dev_project/sb-fsts/app/utils/auto_trading_bot.py:2708: UserWarning: Boolean Series key will be reindexed to match DataFrame index.\n",
      "  valid = df.iloc[:max_confirmed_idx][df['horizontal_high'].notna()]\n"
     ]
    },
    {
     "name": "stdout",
     "output_type": "stream",
     "text": [
      "💰 시뮬 중: 232140 / 날짜: 2025-07-02 / 사용가능한 예수금: 95,981\n",
      "💰 시뮬 중: 232140 / 날짜: 2025-07-02 / 사용가능한 예수금: 95,981 / 거래 없음\n",
      "💰 시뮬 중: 328130 / 날짜: 2025-07-02 / 사용가능한 예수금: 95,981\n",
      "💰 시뮬 중: 328130 / 날짜: 2025-07-02 / 사용가능한 예수금: 95,981 / 거래 없음\n"
     ]
    },
    {
     "name": "stderr",
     "output_type": "stream",
     "text": [
      "/Users/hsh/dev_project/sb-fsts/app/utils/auto_trading_bot.py:2693: UserWarning: Boolean Series key will be reindexed to match DataFrame index.\n",
      "  valid = df.iloc[:max_confirmed_idx][df['horizontal_low'].notna()]\n",
      "/Users/hsh/dev_project/sb-fsts/app/utils/auto_trading_bot.py:2708: UserWarning: Boolean Series key will be reindexed to match DataFrame index.\n",
      "  valid = df.iloc[:max_confirmed_idx][df['horizontal_high'].notna()]\n",
      "/Users/hsh/dev_project/sb-fsts/app/utils/auto_trading_bot.py:2693: UserWarning: Boolean Series key will be reindexed to match DataFrame index.\n",
      "  valid = df.iloc[:max_confirmed_idx][df['horizontal_low'].notna()]\n",
      "/Users/hsh/dev_project/sb-fsts/app/utils/auto_trading_bot.py:2708: UserWarning: Boolean Series key will be reindexed to match DataFrame index.\n",
      "  valid = df.iloc[:max_confirmed_idx][df['horizontal_high'].notna()]\n"
     ]
    },
    {
     "name": "stdout",
     "output_type": "stream",
     "text": [
      "💰 시뮬 중: 214450 / 날짜: 2025-07-02 / 사용가능한 예수금: 95,981\n",
      "💰 시뮬 중: 214450 / 날짜: 2025-07-02 / 사용가능한 예수금: 95,981 / 거래 없음\n",
      "💰 시뮬 중: 032500 / 날짜: 2025-07-02 / 사용가능한 예수금: 95,981\n",
      "💰 시뮬 중: 032500 / 날짜: 2025-07-02 / 사용가능한 예수금: 95,981 / 거래 없음\n",
      "💰 시뮬 중: 272290 / 날짜: 2025-07-02 / 사용가능한 예수금: 95,981\n",
      "💰 시뮬 중: 272290 / 날짜: 2025-07-02 / 사용가능한 예수금: 95,981 / 거래 없음\n"
     ]
    },
    {
     "name": "stderr",
     "output_type": "stream",
     "text": [
      "/Users/hsh/dev_project/sb-fsts/app/utils/auto_trading_bot.py:2693: UserWarning: Boolean Series key will be reindexed to match DataFrame index.\n",
      "  valid = df.iloc[:max_confirmed_idx][df['horizontal_low'].notna()]\n",
      "/Users/hsh/dev_project/sb-fsts/app/utils/auto_trading_bot.py:2708: UserWarning: Boolean Series key will be reindexed to match DataFrame index.\n",
      "  valid = df.iloc[:max_confirmed_idx][df['horizontal_high'].notna()]\n",
      "/Users/hsh/dev_project/sb-fsts/app/utils/auto_trading_bot.py:2693: UserWarning: Boolean Series key will be reindexed to match DataFrame index.\n",
      "  valid = df.iloc[:max_confirmed_idx][df['horizontal_low'].notna()]\n",
      "/Users/hsh/dev_project/sb-fsts/app/utils/auto_trading_bot.py:2708: UserWarning: Boolean Series key will be reindexed to match DataFrame index.\n",
      "  valid = df.iloc[:max_confirmed_idx][df['horizontal_high'].notna()]\n",
      "/Users/hsh/dev_project/sb-fsts/app/utils/auto_trading_bot.py:2693: UserWarning: Boolean Series key will be reindexed to match DataFrame index.\n",
      "  valid = df.iloc[:max_confirmed_idx][df['horizontal_low'].notna()]\n",
      "/Users/hsh/dev_project/sb-fsts/app/utils/auto_trading_bot.py:2708: UserWarning: Boolean Series key will be reindexed to match DataFrame index.\n",
      "  valid = df.iloc[:max_confirmed_idx][df['horizontal_high'].notna()]\n"
     ]
    },
    {
     "name": "stdout",
     "output_type": "stream",
     "text": [
      "💰 시뮬 중: 281740 / 날짜: 2025-07-02 / 사용가능한 예수금: 95,981\n",
      "💰 시뮬 중: 281740 / 날짜: 2025-07-02 / 사용가능한 예수금: 95,981 / 거래 없음\n",
      "💰 시뮬 중: 365340 / 날짜: 2025-07-02 / 사용가능한 예수금: 95,981\n",
      "💰 시뮬 중: 365340 / 날짜: 2025-07-02 / 사용가능한 예수금: 95,981 / 거래 없음\n"
     ]
    },
    {
     "name": "stderr",
     "output_type": "stream",
     "text": [
      "/Users/hsh/dev_project/sb-fsts/app/utils/auto_trading_bot.py:2693: UserWarning: Boolean Series key will be reindexed to match DataFrame index.\n",
      "  valid = df.iloc[:max_confirmed_idx][df['horizontal_low'].notna()]\n",
      "/Users/hsh/dev_project/sb-fsts/app/utils/auto_trading_bot.py:2708: UserWarning: Boolean Series key will be reindexed to match DataFrame index.\n",
      "  valid = df.iloc[:max_confirmed_idx][df['horizontal_high'].notna()]\n",
      "/Users/hsh/dev_project/sb-fsts/app/utils/auto_trading_bot.py:2693: UserWarning: Boolean Series key will be reindexed to match DataFrame index.\n",
      "  valid = df.iloc[:max_confirmed_idx][df['horizontal_low'].notna()]\n",
      "/Users/hsh/dev_project/sb-fsts/app/utils/auto_trading_bot.py:2708: UserWarning: Boolean Series key will be reindexed to match DataFrame index.\n",
      "  valid = df.iloc[:max_confirmed_idx][df['horizontal_high'].notna()]\n"
     ]
    },
    {
     "name": "stdout",
     "output_type": "stream",
     "text": [
      "💰 시뮬 중: 218410 / 날짜: 2025-07-02 / 사용가능한 예수금: 95,981\n",
      "💰 시뮬 중: 218410 / 날짜: 2025-07-02 / 사용가능한 예수금: 95,981 / 거래 없음\n",
      "💰 시뮬 중: 089030 / 날짜: 2025-07-02 / 사용가능한 예수금: 95,981\n",
      "💰 시뮬 중: 089030 / 날짜: 2025-07-02 / 사용가능한 예수금: 95,981 / 거래 없음\n",
      "💰 시뮬 중: 101490 / 날짜: 2025-07-02 / 사용가능한 예수금: 95,981\n",
      "💰 시뮬 중: 101490 / 날짜: 2025-07-02 / 사용가능한 예수금: 95,981 / 거래 없음\n",
      "💰 시뮬 중: 032190 / 날짜: 2025-07-02 / 사용가능한 예수금: 95,981\n",
      "💰 시뮬 중: 032190 / 날짜: 2025-07-02 / 사용가능한 예수금: 95,981 / 거래 없음\n"
     ]
    },
    {
     "name": "stderr",
     "output_type": "stream",
     "text": [
      "/Users/hsh/dev_project/sb-fsts/app/utils/auto_trading_bot.py:2693: UserWarning: Boolean Series key will be reindexed to match DataFrame index.\n",
      "  valid = df.iloc[:max_confirmed_idx][df['horizontal_low'].notna()]\n",
      "/Users/hsh/dev_project/sb-fsts/app/utils/auto_trading_bot.py:2708: UserWarning: Boolean Series key will be reindexed to match DataFrame index.\n",
      "  valid = df.iloc[:max_confirmed_idx][df['horizontal_high'].notna()]\n",
      "/Users/hsh/dev_project/sb-fsts/app/utils/auto_trading_bot.py:2693: UserWarning: Boolean Series key will be reindexed to match DataFrame index.\n",
      "  valid = df.iloc[:max_confirmed_idx][df['horizontal_low'].notna()]\n",
      "/Users/hsh/dev_project/sb-fsts/app/utils/auto_trading_bot.py:2708: UserWarning: Boolean Series key will be reindexed to match DataFrame index.\n",
      "  valid = df.iloc[:max_confirmed_idx][df['horizontal_high'].notna()]\n",
      "/Users/hsh/dev_project/sb-fsts/app/utils/auto_trading_bot.py:2693: UserWarning: Boolean Series key will be reindexed to match DataFrame index.\n",
      "  valid = df.iloc[:max_confirmed_idx][df['horizontal_low'].notna()]\n",
      "/Users/hsh/dev_project/sb-fsts/app/utils/auto_trading_bot.py:2708: UserWarning: Boolean Series key will be reindexed to match DataFrame index.\n",
      "  valid = df.iloc[:max_confirmed_idx][df['horizontal_high'].notna()]\n",
      "/Users/hsh/dev_project/sb-fsts/app/utils/auto_trading_bot.py:2693: UserWarning: Boolean Series key will be reindexed to match DataFrame index.\n",
      "  valid = df.iloc[:max_confirmed_idx][df['horizontal_low'].notna()]\n",
      "/Users/hsh/dev_project/sb-fsts/app/utils/auto_trading_bot.py:2708: UserWarning: Boolean Series key will be reindexed to match DataFrame index.\n",
      "  valid = df.iloc[:max_confirmed_idx][df['horizontal_high'].notna()]\n"
     ]
    },
    {
     "name": "stdout",
     "output_type": "stream",
     "text": [
      "💰 시뮬 중: 080220 / 날짜: 2025-07-02 / 사용가능한 예수금: 95,981\n",
      "💰 시뮬 중: 080220 / 날짜: 2025-07-02 / 사용가능한 예수금: 95,981 / 거래 없음\n",
      "💰 시뮬 중: 068760 / 날짜: 2025-07-02 / 사용가능한 예수금: 95,981\n",
      "💰 시뮬 중: 068760 / 날짜: 2025-07-02 / 사용가능한 예수금: 95,981 / 거래 없음\n",
      "💰 시뮬 중: 036930 / 날짜: 2025-07-02 / 사용가능한 예수금: 95,981\n",
      "💰 시뮬 중: 036930 / 날짜: 2025-07-02 / 사용가능한 예수금: 95,981 / 거래 없음\n"
     ]
    },
    {
     "name": "stderr",
     "output_type": "stream",
     "text": [
      "/Users/hsh/dev_project/sb-fsts/app/utils/auto_trading_bot.py:2693: UserWarning: Boolean Series key will be reindexed to match DataFrame index.\n",
      "  valid = df.iloc[:max_confirmed_idx][df['horizontal_low'].notna()]\n",
      "/Users/hsh/dev_project/sb-fsts/app/utils/auto_trading_bot.py:2708: UserWarning: Boolean Series key will be reindexed to match DataFrame index.\n",
      "  valid = df.iloc[:max_confirmed_idx][df['horizontal_high'].notna()]\n",
      "/Users/hsh/dev_project/sb-fsts/app/utils/auto_trading_bot.py:2693: UserWarning: Boolean Series key will be reindexed to match DataFrame index.\n",
      "  valid = df.iloc[:max_confirmed_idx][df['horizontal_low'].notna()]\n",
      "/Users/hsh/dev_project/sb-fsts/app/utils/auto_trading_bot.py:2708: UserWarning: Boolean Series key will be reindexed to match DataFrame index.\n",
      "  valid = df.iloc[:max_confirmed_idx][df['horizontal_high'].notna()]\n",
      "/Users/hsh/dev_project/sb-fsts/app/utils/auto_trading_bot.py:2693: UserWarning: Boolean Series key will be reindexed to match DataFrame index.\n",
      "  valid = df.iloc[:max_confirmed_idx][df['horizontal_low'].notna()]\n",
      "/Users/hsh/dev_project/sb-fsts/app/utils/auto_trading_bot.py:2708: UserWarning: Boolean Series key will be reindexed to match DataFrame index.\n",
      "  valid = df.iloc[:max_confirmed_idx][df['horizontal_high'].notna()]\n"
     ]
    },
    {
     "name": "stdout",
     "output_type": "stream",
     "text": [
      "💰 시뮬 중: 015750 / 날짜: 2025-07-02 / 사용가능한 예수금: 95,981\n",
      "💰 시뮬 중: 015750 / 날짜: 2025-07-02 / 사용가능한 예수금: 95,981 / 거래 없음\n",
      "💰 시뮬 중: 041510 / 날짜: 2025-07-02 / 사용가능한 예수금: 95,981\n",
      "💰 시뮬 중: 041510 / 날짜: 2025-07-02 / 사용가능한 예수금: 95,981 / 거래 없음\n",
      "💰 시뮬 중: 420770 / 날짜: 2025-07-02 / 사용가능한 예수금: 95,981\n",
      "💰 시뮬 중: 420770 / 날짜: 2025-07-02 / 사용가능한 예수금: 95,981 / 거래 없음\n"
     ]
    },
    {
     "name": "stderr",
     "output_type": "stream",
     "text": [
      "/Users/hsh/dev_project/sb-fsts/app/utils/auto_trading_bot.py:2693: UserWarning: Boolean Series key will be reindexed to match DataFrame index.\n",
      "  valid = df.iloc[:max_confirmed_idx][df['horizontal_low'].notna()]\n",
      "/Users/hsh/dev_project/sb-fsts/app/utils/auto_trading_bot.py:2708: UserWarning: Boolean Series key will be reindexed to match DataFrame index.\n",
      "  valid = df.iloc[:max_confirmed_idx][df['horizontal_high'].notna()]\n",
      "/Users/hsh/dev_project/sb-fsts/app/utils/auto_trading_bot.py:2693: UserWarning: Boolean Series key will be reindexed to match DataFrame index.\n",
      "  valid = df.iloc[:max_confirmed_idx][df['horizontal_low'].notna()]\n",
      "/Users/hsh/dev_project/sb-fsts/app/utils/auto_trading_bot.py:2708: UserWarning: Boolean Series key will be reindexed to match DataFrame index.\n",
      "  valid = df.iloc[:max_confirmed_idx][df['horizontal_high'].notna()]\n",
      "/Users/hsh/dev_project/sb-fsts/app/utils/auto_trading_bot.py:2693: UserWarning: Boolean Series key will be reindexed to match DataFrame index.\n",
      "  valid = df.iloc[:max_confirmed_idx][df['horizontal_low'].notna()]\n",
      "/Users/hsh/dev_project/sb-fsts/app/utils/auto_trading_bot.py:2708: UserWarning: Boolean Series key will be reindexed to match DataFrame index.\n",
      "  valid = df.iloc[:max_confirmed_idx][df['horizontal_high'].notna()]\n",
      "/Users/hsh/dev_project/sb-fsts/app/utils/auto_trading_bot.py:2693: UserWarning: Boolean Series key will be reindexed to match DataFrame index.\n",
      "  valid = df.iloc[:max_confirmed_idx][df['horizontal_low'].notna()]\n",
      "/Users/hsh/dev_project/sb-fsts/app/utils/auto_trading_bot.py:2708: UserWarning: Boolean Series key will be reindexed to match DataFrame index.\n",
      "  valid = df.iloc[:max_confirmed_idx][df['horizontal_high'].notna()]\n"
     ]
    },
    {
     "name": "stdout",
     "output_type": "stream",
     "text": [
      "💰 시뮬 중: 179900 / 날짜: 2025-07-02 / 사용가능한 예수금: 95,981\n",
      "💰 시뮬 중: 179900 / 날짜: 2025-07-02 / 사용가능한 예수금: 95,981 / 거래 없음\n",
      "💰 시뮬 중: 108860 / 날짜: 2025-07-02 / 사용가능한 예수금: 95,981\n",
      "💰 시뮬 중: 108860 / 날짜: 2025-07-02 / 사용가능한 예수금: 95,981 / 거래 없음\n",
      "💰 시뮬 중: 118990 / 날짜: 2025-07-02 / 사용가능한 예수금: 95,981\n",
      "💰 시뮬 중: 118990 / 날짜: 2025-07-02 / 사용가능한 예수금: 95,981 / 거래 없음\n"
     ]
    },
    {
     "name": "stderr",
     "output_type": "stream",
     "text": [
      "/Users/hsh/dev_project/sb-fsts/app/utils/auto_trading_bot.py:2693: UserWarning: Boolean Series key will be reindexed to match DataFrame index.\n",
      "  valid = df.iloc[:max_confirmed_idx][df['horizontal_low'].notna()]\n",
      "/Users/hsh/dev_project/sb-fsts/app/utils/auto_trading_bot.py:2708: UserWarning: Boolean Series key will be reindexed to match DataFrame index.\n",
      "  valid = df.iloc[:max_confirmed_idx][df['horizontal_high'].notna()]\n",
      "/Users/hsh/dev_project/sb-fsts/app/utils/auto_trading_bot.py:2693: UserWarning: Boolean Series key will be reindexed to match DataFrame index.\n",
      "  valid = df.iloc[:max_confirmed_idx][df['horizontal_low'].notna()]\n",
      "/Users/hsh/dev_project/sb-fsts/app/utils/auto_trading_bot.py:2708: UserWarning: Boolean Series key will be reindexed to match DataFrame index.\n",
      "  valid = df.iloc[:max_confirmed_idx][df['horizontal_high'].notna()]\n",
      "/Users/hsh/dev_project/sb-fsts/app/utils/auto_trading_bot.py:2693: UserWarning: Boolean Series key will be reindexed to match DataFrame index.\n",
      "  valid = df.iloc[:max_confirmed_idx][df['horizontal_low'].notna()]\n",
      "/Users/hsh/dev_project/sb-fsts/app/utils/auto_trading_bot.py:2708: UserWarning: Boolean Series key will be reindexed to match DataFrame index.\n",
      "  valid = df.iloc[:max_confirmed_idx][df['horizontal_high'].notna()]\n"
     ]
    },
    {
     "name": "stdout",
     "output_type": "stream",
     "text": [
      "💰 시뮬 중: 058970 / 날짜: 2025-07-02 / 사용가능한 예수금: 95,981\n",
      "💰 시뮬 중: 058970 / 날짜: 2025-07-02 / 사용가능한 예수금: 95,981 / 거래 없음\n",
      "💰 시뮬 중: 094360 / 날짜: 2025-07-02 / 사용가능한 예수금: 95,981\n",
      "💰 시뮬 중: 094360 / 날짜: 2025-07-02 / 사용가능한 예수금: 95,981 / 거래 없음\n",
      "💰 시뮬 중: 215200 / 날짜: 2025-07-02 / 사용가능한 예수금: 95,981\n",
      "💰 시뮬 중: 215200 / 날짜: 2025-07-02 / 사용가능한 예수금: 95,981 / 거래 없음\n"
     ]
    },
    {
     "name": "stderr",
     "output_type": "stream",
     "text": [
      "/Users/hsh/dev_project/sb-fsts/app/utils/auto_trading_bot.py:2693: UserWarning: Boolean Series key will be reindexed to match DataFrame index.\n",
      "  valid = df.iloc[:max_confirmed_idx][df['horizontal_low'].notna()]\n",
      "/Users/hsh/dev_project/sb-fsts/app/utils/auto_trading_bot.py:2708: UserWarning: Boolean Series key will be reindexed to match DataFrame index.\n",
      "  valid = df.iloc[:max_confirmed_idx][df['horizontal_high'].notna()]\n",
      "/Users/hsh/dev_project/sb-fsts/app/utils/auto_trading_bot.py:2693: UserWarning: Boolean Series key will be reindexed to match DataFrame index.\n",
      "  valid = df.iloc[:max_confirmed_idx][df['horizontal_low'].notna()]\n",
      "/Users/hsh/dev_project/sb-fsts/app/utils/auto_trading_bot.py:2708: UserWarning: Boolean Series key will be reindexed to match DataFrame index.\n",
      "  valid = df.iloc[:max_confirmed_idx][df['horizontal_high'].notna()]\n",
      "/Users/hsh/dev_project/sb-fsts/app/utils/auto_trading_bot.py:2693: UserWarning: Boolean Series key will be reindexed to match DataFrame index.\n",
      "  valid = df.iloc[:max_confirmed_idx][df['horizontal_low'].notna()]\n",
      "/Users/hsh/dev_project/sb-fsts/app/utils/auto_trading_bot.py:2708: UserWarning: Boolean Series key will be reindexed to match DataFrame index.\n",
      "  valid = df.iloc[:max_confirmed_idx][df['horizontal_high'].notna()]\n",
      "/Users/hsh/dev_project/sb-fsts/app/utils/auto_trading_bot.py:2693: UserWarning: Boolean Series key will be reindexed to match DataFrame index.\n",
      "  valid = df.iloc[:max_confirmed_idx][df['horizontal_low'].notna()]\n",
      "/Users/hsh/dev_project/sb-fsts/app/utils/auto_trading_bot.py:2708: UserWarning: Boolean Series key will be reindexed to match DataFrame index.\n",
      "  valid = df.iloc[:max_confirmed_idx][df['horizontal_high'].notna()]\n"
     ]
    },
    {
     "name": "stdout",
     "output_type": "stream",
     "text": [
      "💰 시뮬 중: 240810 / 날짜: 2025-07-02 / 사용가능한 예수금: 95,981\n",
      "💰 시뮬 중: 240810 / 날짜: 2025-07-02 / 사용가능한 예수금: 95,981 / 거래 없음\n",
      "💰 시뮬 중: 086450 / 날짜: 2025-07-02 / 사용가능한 예수금: 95,981\n",
      "💰 시뮬 중: 086450 / 날짜: 2025-07-02 / 사용가능한 예수금: 95,981 / 거래 없음\n",
      "💰 시뮬 중: 253590 / 날짜: 2025-07-02 / 사용가능한 예수금: 95,981\n",
      "💰 시뮬 중: 253590 / 날짜: 2025-07-02 / 사용가능한 예수금: 95,981 / 거래 없음\n",
      "💰 시뮬 중: 060280 / 날짜: 2025-07-02 / 사용가능한 예수금: 95,981\n",
      "💰 시뮬 중: 060280 / 날짜: 2025-07-02 / 사용가능한 예수금: 95,981 / 거래 없음\n"
     ]
    },
    {
     "name": "stderr",
     "output_type": "stream",
     "text": [
      "/Users/hsh/dev_project/sb-fsts/app/utils/auto_trading_bot.py:2693: UserWarning: Boolean Series key will be reindexed to match DataFrame index.\n",
      "  valid = df.iloc[:max_confirmed_idx][df['horizontal_low'].notna()]\n",
      "/Users/hsh/dev_project/sb-fsts/app/utils/auto_trading_bot.py:2708: UserWarning: Boolean Series key will be reindexed to match DataFrame index.\n",
      "  valid = df.iloc[:max_confirmed_idx][df['horizontal_high'].notna()]\n",
      "/Users/hsh/dev_project/sb-fsts/app/utils/auto_trading_bot.py:2693: UserWarning: Boolean Series key will be reindexed to match DataFrame index.\n",
      "  valid = df.iloc[:max_confirmed_idx][df['horizontal_low'].notna()]\n",
      "/Users/hsh/dev_project/sb-fsts/app/utils/auto_trading_bot.py:2708: UserWarning: Boolean Series key will be reindexed to match DataFrame index.\n",
      "  valid = df.iloc[:max_confirmed_idx][df['horizontal_high'].notna()]\n",
      "/Users/hsh/dev_project/sb-fsts/app/utils/auto_trading_bot.py:2693: UserWarning: Boolean Series key will be reindexed to match DataFrame index.\n",
      "  valid = df.iloc[:max_confirmed_idx][df['horizontal_low'].notna()]\n",
      "/Users/hsh/dev_project/sb-fsts/app/utils/auto_trading_bot.py:2708: UserWarning: Boolean Series key will be reindexed to match DataFrame index.\n",
      "  valid = df.iloc[:max_confirmed_idx][df['horizontal_high'].notna()]\n"
     ]
    },
    {
     "name": "stdout",
     "output_type": "stream",
     "text": [
      "💰 시뮬 중: 263750 / 날짜: 2025-07-02 / 사용가능한 예수금: 95,981\n",
      "💰 시뮬 중: 263750 / 날짜: 2025-07-02 / 사용가능한 예수금: 95,981 / 거래 없음\n",
      "💰 시뮬 중: 145020 / 날짜: 2025-07-02 / 사용가능한 예수금: 95,981\n",
      "💰 시뮬 중: 145020 / 날짜: 2025-07-02 / 사용가능한 예수금: 95,981 / 거래 없음\n",
      "💰 시뮬 중: 009520 / 날짜: 2025-07-02 / 사용가능한 예수금: 95,981\n",
      "💰 시뮬 중: 009520 / 날짜: 2025-07-02 / 사용가능한 예수금: 95,981 / 거래 없음\n"
     ]
    },
    {
     "name": "stderr",
     "output_type": "stream",
     "text": [
      "/Users/hsh/dev_project/sb-fsts/app/utils/auto_trading_bot.py:2693: UserWarning: Boolean Series key will be reindexed to match DataFrame index.\n",
      "  valid = df.iloc[:max_confirmed_idx][df['horizontal_low'].notna()]\n",
      "/Users/hsh/dev_project/sb-fsts/app/utils/auto_trading_bot.py:2708: UserWarning: Boolean Series key will be reindexed to match DataFrame index.\n",
      "  valid = df.iloc[:max_confirmed_idx][df['horizontal_high'].notna()]\n",
      "/Users/hsh/dev_project/sb-fsts/app/utils/auto_trading_bot.py:2693: UserWarning: Boolean Series key will be reindexed to match DataFrame index.\n",
      "  valid = df.iloc[:max_confirmed_idx][df['horizontal_low'].notna()]\n",
      "/Users/hsh/dev_project/sb-fsts/app/utils/auto_trading_bot.py:2708: UserWarning: Boolean Series key will be reindexed to match DataFrame index.\n",
      "  valid = df.iloc[:max_confirmed_idx][df['horizontal_high'].notna()]\n"
     ]
    },
    {
     "name": "stdout",
     "output_type": "stream",
     "text": [
      "💰 시뮬 중: 053800 / 날짜: 2025-07-02 / 사용가능한 예수금: 95,981\n",
      "💰 시뮬 중: 053800 / 날짜: 2025-07-02 / 사용가능한 예수금: 95,981 / 거래 없음\n",
      "💰 시뮬 중: 376300 / 날짜: 2025-07-02 / 사용가능한 예수금: 95,981\n",
      "💰 시뮬 중: 376300 / 날짜: 2025-07-02 / 사용가능한 예수금: 95,981 / 거래 없음\n",
      "💰 시뮬 중: 033640 / 날짜: 2025-07-02 / 사용가능한 예수금: 95,981\n",
      "💰 시뮬 중: 033640 / 날짜: 2025-07-02 / 사용가능한 예수금: 95,981 / 거래 없음\n"
     ]
    },
    {
     "name": "stderr",
     "output_type": "stream",
     "text": [
      "/Users/hsh/dev_project/sb-fsts/app/utils/auto_trading_bot.py:2693: UserWarning: Boolean Series key will be reindexed to match DataFrame index.\n",
      "  valid = df.iloc[:max_confirmed_idx][df['horizontal_low'].notna()]\n",
      "/Users/hsh/dev_project/sb-fsts/app/utils/auto_trading_bot.py:2708: UserWarning: Boolean Series key will be reindexed to match DataFrame index.\n",
      "  valid = df.iloc[:max_confirmed_idx][df['horizontal_high'].notna()]\n",
      "/Users/hsh/dev_project/sb-fsts/app/utils/auto_trading_bot.py:2693: UserWarning: Boolean Series key will be reindexed to match DataFrame index.\n",
      "  valid = df.iloc[:max_confirmed_idx][df['horizontal_low'].notna()]\n",
      "/Users/hsh/dev_project/sb-fsts/app/utils/auto_trading_bot.py:2708: UserWarning: Boolean Series key will be reindexed to match DataFrame index.\n",
      "  valid = df.iloc[:max_confirmed_idx][df['horizontal_high'].notna()]\n",
      "/Users/hsh/dev_project/sb-fsts/app/utils/auto_trading_bot.py:2693: UserWarning: Boolean Series key will be reindexed to match DataFrame index.\n",
      "  valid = df.iloc[:max_confirmed_idx][df['horizontal_low'].notna()]\n",
      "/Users/hsh/dev_project/sb-fsts/app/utils/auto_trading_bot.py:2708: UserWarning: Boolean Series key will be reindexed to match DataFrame index.\n",
      "  valid = df.iloc[:max_confirmed_idx][df['horizontal_high'].notna()]\n"
     ]
    },
    {
     "name": "stdout",
     "output_type": "stream",
     "text": [
      "💰 시뮬 중: 031980 / 날짜: 2025-07-02 / 사용가능한 예수금: 95,981\n",
      "💰 시뮬 중: 031980 / 날짜: 2025-07-02 / 사용가능한 예수금: 95,981 / 거래 없음\n",
      "💰 시뮬 중: 196170 / 날짜: 2025-07-02 / 사용가능한 예수금: 95,981\n",
      "💰 시뮬 중: 196170 / 날짜: 2025-07-02 / 사용가능한 예수금: 95,981 / 거래 없음\n"
     ]
    },
    {
     "name": "stderr",
     "output_type": "stream",
     "text": [
      "/Users/hsh/dev_project/sb-fsts/app/utils/auto_trading_bot.py:2693: UserWarning: Boolean Series key will be reindexed to match DataFrame index.\n",
      "  valid = df.iloc[:max_confirmed_idx][df['horizontal_low'].notna()]\n",
      "/Users/hsh/dev_project/sb-fsts/app/utils/auto_trading_bot.py:2708: UserWarning: Boolean Series key will be reindexed to match DataFrame index.\n",
      "  valid = df.iloc[:max_confirmed_idx][df['horizontal_high'].notna()]\n",
      "/Users/hsh/dev_project/sb-fsts/app/utils/auto_trading_bot.py:2693: UserWarning: Boolean Series key will be reindexed to match DataFrame index.\n",
      "  valid = df.iloc[:max_confirmed_idx][df['horizontal_low'].notna()]\n",
      "/Users/hsh/dev_project/sb-fsts/app/utils/auto_trading_bot.py:2708: UserWarning: Boolean Series key will be reindexed to match DataFrame index.\n",
      "  valid = df.iloc[:max_confirmed_idx][df['horizontal_high'].notna()]\n"
     ]
    },
    {
     "name": "stdout",
     "output_type": "stream",
     "text": [
      "💰 시뮬 중: 042000 / 날짜: 2025-07-02 / 사용가능한 예수금: 95,981\n",
      "💰 시뮬 중: 042000 / 날짜: 2025-07-02 / 사용가능한 예수금: 95,981 / 거래 없음\n",
      "💰 시뮬 중: 310210 / 날짜: 2025-07-02 / 사용가능한 예수금: 95,981\n",
      "💰 시뮬 중: 310210 / 날짜: 2025-07-02 / 사용가능한 예수금: 95,981 / 거래 없음\n",
      "💰 시뮬 중: 084370 / 날짜: 2025-07-02 / 사용가능한 예수금: 95,981\n",
      "💰 시뮬 중: 084370 / 날짜: 2025-07-02 / 사용가능한 예수금: 95,981 / 거래 없음\n"
     ]
    },
    {
     "name": "stderr",
     "output_type": "stream",
     "text": [
      "/Users/hsh/dev_project/sb-fsts/app/utils/auto_trading_bot.py:2693: UserWarning: Boolean Series key will be reindexed to match DataFrame index.\n",
      "  valid = df.iloc[:max_confirmed_idx][df['horizontal_low'].notna()]\n",
      "/Users/hsh/dev_project/sb-fsts/app/utils/auto_trading_bot.py:2708: UserWarning: Boolean Series key will be reindexed to match DataFrame index.\n",
      "  valid = df.iloc[:max_confirmed_idx][df['horizontal_high'].notna()]\n",
      "/Users/hsh/dev_project/sb-fsts/app/utils/auto_trading_bot.py:2693: UserWarning: Boolean Series key will be reindexed to match DataFrame index.\n",
      "  valid = df.iloc[:max_confirmed_idx][df['horizontal_low'].notna()]\n",
      "/Users/hsh/dev_project/sb-fsts/app/utils/auto_trading_bot.py:2708: UserWarning: Boolean Series key will be reindexed to match DataFrame index.\n",
      "  valid = df.iloc[:max_confirmed_idx][df['horizontal_high'].notna()]\n",
      "/Users/hsh/dev_project/sb-fsts/app/utils/auto_trading_bot.py:2693: UserWarning: Boolean Series key will be reindexed to match DataFrame index.\n",
      "  valid = df.iloc[:max_confirmed_idx][df['horizontal_low'].notna()]\n",
      "/Users/hsh/dev_project/sb-fsts/app/utils/auto_trading_bot.py:2708: UserWarning: Boolean Series key will be reindexed to match DataFrame index.\n",
      "  valid = df.iloc[:max_confirmed_idx][df['horizontal_high'].notna()]\n"
     ]
    },
    {
     "name": "stdout",
     "output_type": "stream",
     "text": [
      "💰 시뮬 중: 112040 / 날짜: 2025-07-02 / 사용가능한 예수금: 95,981\n",
      "💰 시뮬 중: 112040 / 날짜: 2025-07-02 / 사용가능한 예수금: 95,981 / 거래 없음\n",
      "💰 시뮬 중: 383310 / 날짜: 2025-07-02 / 사용가능한 예수금: 95,981\n",
      "💰 시뮬 중: 383310 / 날짜: 2025-07-02 / 사용가능한 예수금: 95,981 / 거래 없음\n"
     ]
    },
    {
     "name": "stderr",
     "output_type": "stream",
     "text": [
      "/Users/hsh/dev_project/sb-fsts/app/utils/auto_trading_bot.py:2693: UserWarning: Boolean Series key will be reindexed to match DataFrame index.\n",
      "  valid = df.iloc[:max_confirmed_idx][df['horizontal_low'].notna()]\n",
      "/Users/hsh/dev_project/sb-fsts/app/utils/auto_trading_bot.py:2708: UserWarning: Boolean Series key will be reindexed to match DataFrame index.\n",
      "  valid = df.iloc[:max_confirmed_idx][df['horizontal_high'].notna()]\n",
      "/Users/hsh/dev_project/sb-fsts/app/utils/auto_trading_bot.py:2693: UserWarning: Boolean Series key will be reindexed to match DataFrame index.\n",
      "  valid = df.iloc[:max_confirmed_idx][df['horizontal_low'].notna()]\n",
      "/Users/hsh/dev_project/sb-fsts/app/utils/auto_trading_bot.py:2708: UserWarning: Boolean Series key will be reindexed to match DataFrame index.\n",
      "  valid = df.iloc[:max_confirmed_idx][df['horizontal_high'].notna()]\n"
     ]
    },
    {
     "name": "stdout",
     "output_type": "stream",
     "text": [
      "💰 시뮬 중: 036810 / 날짜: 2025-07-02 / 사용가능한 예수금: 95,981\n",
      "💰 시뮬 중: 036810 / 날짜: 2025-07-02 / 사용가능한 예수금: 95,981 / 거래 없음\n",
      "💰 시뮬 중: 099190 / 날짜: 2025-07-02 / 사용가능한 예수금: 95,981\n",
      "💰 시뮬 중: 099190 / 날짜: 2025-07-02 / 사용가능한 예수금: 95,981 / 거래 없음\n",
      "💰 시뮬 중: 183300 / 날짜: 2025-07-02 / 사용가능한 예수금: 95,981\n",
      "💰 시뮬 중: 183300 / 날짜: 2025-07-02 / 사용가능한 예수금: 95,981 / 거래 없음\n",
      "💰 시뮬 중: 222080 / 날짜: 2025-07-02 / 사용가능한 예수금: 95,981\n",
      "💰 시뮬 중: 222080 / 날짜: 2025-07-02 / 사용가능한 예수금: 95,981 / 거래 없음\n"
     ]
    },
    {
     "name": "stderr",
     "output_type": "stream",
     "text": [
      "/Users/hsh/dev_project/sb-fsts/app/utils/auto_trading_bot.py:2693: UserWarning: Boolean Series key will be reindexed to match DataFrame index.\n",
      "  valid = df.iloc[:max_confirmed_idx][df['horizontal_low'].notna()]\n",
      "/Users/hsh/dev_project/sb-fsts/app/utils/auto_trading_bot.py:2708: UserWarning: Boolean Series key will be reindexed to match DataFrame index.\n",
      "  valid = df.iloc[:max_confirmed_idx][df['horizontal_high'].notna()]\n",
      "/Users/hsh/dev_project/sb-fsts/app/utils/auto_trading_bot.py:2693: UserWarning: Boolean Series key will be reindexed to match DataFrame index.\n",
      "  valid = df.iloc[:max_confirmed_idx][df['horizontal_low'].notna()]\n",
      "/Users/hsh/dev_project/sb-fsts/app/utils/auto_trading_bot.py:2708: UserWarning: Boolean Series key will be reindexed to match DataFrame index.\n",
      "  valid = df.iloc[:max_confirmed_idx][df['horizontal_high'].notna()]\n",
      "/Users/hsh/dev_project/sb-fsts/app/utils/auto_trading_bot.py:2693: UserWarning: Boolean Series key will be reindexed to match DataFrame index.\n",
      "  valid = df.iloc[:max_confirmed_idx][df['horizontal_low'].notna()]\n",
      "/Users/hsh/dev_project/sb-fsts/app/utils/auto_trading_bot.py:2708: UserWarning: Boolean Series key will be reindexed to match DataFrame index.\n",
      "  valid = df.iloc[:max_confirmed_idx][df['horizontal_high'].notna()]\n",
      "/Users/hsh/dev_project/sb-fsts/app/utils/auto_trading_bot.py:2693: UserWarning: Boolean Series key will be reindexed to match DataFrame index.\n",
      "  valid = df.iloc[:max_confirmed_idx][df['horizontal_low'].notna()]\n",
      "/Users/hsh/dev_project/sb-fsts/app/utils/auto_trading_bot.py:2708: UserWarning: Boolean Series key will be reindexed to match DataFrame index.\n",
      "  valid = df.iloc[:max_confirmed_idx][df['horizontal_high'].notna()]\n"
     ]
    },
    {
     "name": "stdout",
     "output_type": "stream",
     "text": [
      "💰 시뮬 중: 178320 / 날짜: 2025-07-02 / 사용가능한 예수금: 95,981\n",
      "💰 시뮬 중: 178320 / 날짜: 2025-07-02 / 사용가능한 예수금: 95,981 / 거래 없음\n",
      "💰 시뮬 중: 095610 / 날짜: 2025-07-02 / 사용가능한 예수금: 95,981\n",
      "💰 시뮬 중: 095610 / 날짜: 2025-07-02 / 사용가능한 예수금: 95,981 / 거래 없음\n",
      "💰 시뮬 중: 025980 / 날짜: 2025-07-02 / 사용가능한 예수금: 95,981\n",
      "💰 시뮬 중: 025980 / 날짜: 2025-07-02 / 사용가능한 예수금: 95,981 / 거래 없음\n"
     ]
    },
    {
     "name": "stderr",
     "output_type": "stream",
     "text": [
      "/Users/hsh/dev_project/sb-fsts/app/utils/auto_trading_bot.py:2693: UserWarning: Boolean Series key will be reindexed to match DataFrame index.\n",
      "  valid = df.iloc[:max_confirmed_idx][df['horizontal_low'].notna()]\n",
      "/Users/hsh/dev_project/sb-fsts/app/utils/auto_trading_bot.py:2708: UserWarning: Boolean Series key will be reindexed to match DataFrame index.\n",
      "  valid = df.iloc[:max_confirmed_idx][df['horizontal_high'].notna()]\n",
      "/Users/hsh/dev_project/sb-fsts/app/utils/auto_trading_bot.py:2693: UserWarning: Boolean Series key will be reindexed to match DataFrame index.\n",
      "  valid = df.iloc[:max_confirmed_idx][df['horizontal_low'].notna()]\n",
      "/Users/hsh/dev_project/sb-fsts/app/utils/auto_trading_bot.py:2708: UserWarning: Boolean Series key will be reindexed to match DataFrame index.\n",
      "  valid = df.iloc[:max_confirmed_idx][df['horizontal_high'].notna()]\n",
      "/Users/hsh/dev_project/sb-fsts/app/utils/auto_trading_bot.py:2693: UserWarning: Boolean Series key will be reindexed to match DataFrame index.\n",
      "  valid = df.iloc[:max_confirmed_idx][df['horizontal_low'].notna()]\n",
      "/Users/hsh/dev_project/sb-fsts/app/utils/auto_trading_bot.py:2708: UserWarning: Boolean Series key will be reindexed to match DataFrame index.\n",
      "  valid = df.iloc[:max_confirmed_idx][df['horizontal_high'].notna()]\n"
     ]
    },
    {
     "name": "stdout",
     "output_type": "stream",
     "text": [
      "💰 시뮬 중: 319660 / 날짜: 2025-07-02 / 사용가능한 예수금: 95,981\n",
      "💰 시뮬 중: 319660 / 날짜: 2025-07-02 / 사용가능한 예수금: 95,981 / 거래 없음\n",
      "💰 시뮬 중: 121600 / 날짜: 2025-07-02 / 사용가능한 예수금: 95,981\n",
      "💰 시뮬 중: 121600 / 날짜: 2025-07-02 / 사용가능한 예수금: 95,981 / 거래 없음\n",
      "💰 시뮬 중: 214150 / 날짜: 2025-07-02 / 사용가능한 예수금: 95,981\n",
      "💰 시뮬 중: 214150 / 날짜: 2025-07-02 / 사용가능한 예수금: 95,981 / 거래 없음\n",
      "💰 시뮬 중: 086520 / 날짜: 2025-07-02 / 사용가능한 예수금: 95,981\n",
      "💰 시뮬 중: 086520 / 날짜: 2025-07-02 / 사용가능한 예수금: 95,981 / 거래 없음\n",
      "💰 시뮬 중: 317330 / 날짜: 2025-07-02 / 사용가능한 예수금: 95,981\n",
      "💰 시뮬 중: 317330 / 날짜: 2025-07-02 / 사용가능한 예수금: 95,981 / 거래 없음\n"
     ]
    },
    {
     "name": "stderr",
     "output_type": "stream",
     "text": [
      "/Users/hsh/dev_project/sb-fsts/app/utils/auto_trading_bot.py:2693: UserWarning: Boolean Series key will be reindexed to match DataFrame index.\n",
      "  valid = df.iloc[:max_confirmed_idx][df['horizontal_low'].notna()]\n",
      "/Users/hsh/dev_project/sb-fsts/app/utils/auto_trading_bot.py:2708: UserWarning: Boolean Series key will be reindexed to match DataFrame index.\n",
      "  valid = df.iloc[:max_confirmed_idx][df['horizontal_high'].notna()]\n",
      "/Users/hsh/dev_project/sb-fsts/app/utils/auto_trading_bot.py:2693: UserWarning: Boolean Series key will be reindexed to match DataFrame index.\n",
      "  valid = df.iloc[:max_confirmed_idx][df['horizontal_low'].notna()]\n",
      "/Users/hsh/dev_project/sb-fsts/app/utils/auto_trading_bot.py:2708: UserWarning: Boolean Series key will be reindexed to match DataFrame index.\n",
      "  valid = df.iloc[:max_confirmed_idx][df['horizontal_high'].notna()]\n",
      "/Users/hsh/dev_project/sb-fsts/app/utils/auto_trading_bot.py:2693: UserWarning: Boolean Series key will be reindexed to match DataFrame index.\n",
      "  valid = df.iloc[:max_confirmed_idx][df['horizontal_low'].notna()]\n",
      "/Users/hsh/dev_project/sb-fsts/app/utils/auto_trading_bot.py:2708: UserWarning: Boolean Series key will be reindexed to match DataFrame index.\n",
      "  valid = df.iloc[:max_confirmed_idx][df['horizontal_high'].notna()]\n",
      "/Users/hsh/dev_project/sb-fsts/app/utils/auto_trading_bot.py:2693: UserWarning: Boolean Series key will be reindexed to match DataFrame index.\n",
      "  valid = df.iloc[:max_confirmed_idx][df['horizontal_low'].notna()]\n",
      "/Users/hsh/dev_project/sb-fsts/app/utils/auto_trading_bot.py:2708: UserWarning: Boolean Series key will be reindexed to match DataFrame index.\n",
      "  valid = df.iloc[:max_confirmed_idx][df['horizontal_high'].notna()]\n",
      "/Users/hsh/dev_project/sb-fsts/app/utils/auto_trading_bot.py:2693: UserWarning: Boolean Series key will be reindexed to match DataFrame index.\n",
      "  valid = df.iloc[:max_confirmed_idx][df['horizontal_low'].notna()]\n",
      "/Users/hsh/dev_project/sb-fsts/app/utils/auto_trading_bot.py:2708: UserWarning: Boolean Series key will be reindexed to match DataFrame index.\n",
      "  valid = df.iloc[:max_confirmed_idx][df['horizontal_high'].notna()]\n"
     ]
    },
    {
     "name": "stdout",
     "output_type": "stream",
     "text": [
      "💰 시뮬 중: 372170 / 날짜: 2025-07-02 / 사용가능한 예수금: 95,981\n",
      "💰 시뮬 중: 372170 / 날짜: 2025-07-02 / 사용가능한 예수금: 95,981 / 거래 없음\n",
      "💰 시뮬 중: 053030 / 날짜: 2025-07-02 / 사용가능한 예수금: 95,981\n",
      "💰 시뮬 중: 053030 / 날짜: 2025-07-02 / 사용가능한 예수금: 95,981 / 거래 없음\n",
      "💰 시뮬 중: 298380 / 날짜: 2025-07-02 / 사용가능한 예수금: 95,981\n",
      "💰 시뮬 중: 298380 / 날짜: 2025-07-02 / 사용가능한 예수금: 95,981 / 거래 없음\n",
      "💰 시뮬 중: 241710 / 날짜: 2025-07-02 / 사용가능한 예수금: 95,981\n",
      "💰 시뮬 중: 241710 / 날짜: 2025-07-02 / 사용가능한 예수금: 95,981 / 거래 없음\n"
     ]
    },
    {
     "name": "stderr",
     "output_type": "stream",
     "text": [
      "/Users/hsh/dev_project/sb-fsts/app/utils/auto_trading_bot.py:2693: UserWarning: Boolean Series key will be reindexed to match DataFrame index.\n",
      "  valid = df.iloc[:max_confirmed_idx][df['horizontal_low'].notna()]\n",
      "/Users/hsh/dev_project/sb-fsts/app/utils/auto_trading_bot.py:2708: UserWarning: Boolean Series key will be reindexed to match DataFrame index.\n",
      "  valid = df.iloc[:max_confirmed_idx][df['horizontal_high'].notna()]\n",
      "/Users/hsh/dev_project/sb-fsts/app/utils/auto_trading_bot.py:2693: UserWarning: Boolean Series key will be reindexed to match DataFrame index.\n",
      "  valid = df.iloc[:max_confirmed_idx][df['horizontal_low'].notna()]\n",
      "/Users/hsh/dev_project/sb-fsts/app/utils/auto_trading_bot.py:2708: UserWarning: Boolean Series key will be reindexed to match DataFrame index.\n",
      "  valid = df.iloc[:max_confirmed_idx][df['horizontal_high'].notna()]\n",
      "/Users/hsh/dev_project/sb-fsts/app/utils/auto_trading_bot.py:2693: UserWarning: Boolean Series key will be reindexed to match DataFrame index.\n",
      "  valid = df.iloc[:max_confirmed_idx][df['horizontal_low'].notna()]\n",
      "/Users/hsh/dev_project/sb-fsts/app/utils/auto_trading_bot.py:2708: UserWarning: Boolean Series key will be reindexed to match DataFrame index.\n",
      "  valid = df.iloc[:max_confirmed_idx][df['horizontal_high'].notna()]\n",
      "/Users/hsh/dev_project/sb-fsts/app/utils/auto_trading_bot.py:2693: UserWarning: Boolean Series key will be reindexed to match DataFrame index.\n",
      "  valid = df.iloc[:max_confirmed_idx][df['horizontal_low'].notna()]\n",
      "/Users/hsh/dev_project/sb-fsts/app/utils/auto_trading_bot.py:2708: UserWarning: Boolean Series key will be reindexed to match DataFrame index.\n",
      "  valid = df.iloc[:max_confirmed_idx][df['horizontal_high'].notna()]\n"
     ]
    },
    {
     "name": "stdout",
     "output_type": "stream",
     "text": [
      "💰 시뮬 중: 425040 / 날짜: 2025-07-02 / 사용가능한 예수금: 95,981\n",
      "💰 시뮬 중: 425040 / 날짜: 2025-07-02 / 사용가능한 예수금: 95,981 / 거래 없음\n",
      "💰 시뮬 중: 095660 / 날짜: 2025-07-02 / 사용가능한 예수금: 95,981\n",
      "💰 시뮬 중: 095660 / 날짜: 2025-07-02 / 사용가능한 예수금: 95,981 / 거래 없음\n",
      "💰 시뮬 중: 399720 / 날짜: 2025-07-02 / 사용가능한 예수금: 95,981\n",
      "💰 시뮬 중: 399720 / 날짜: 2025-07-02 / 사용가능한 예수금: 95,981 / 거래 없음\n",
      "💰 시뮬 중: 140860 / 날짜: 2025-07-02 / 사용가능한 예수금: 95,981\n",
      "💰 시뮬 중: 140860 / 날짜: 2025-07-02 / 사용가능한 예수금: 95,981 / 거래 없음\n"
     ]
    },
    {
     "name": "stderr",
     "output_type": "stream",
     "text": [
      "/Users/hsh/dev_project/sb-fsts/app/utils/auto_trading_bot.py:2693: UserWarning: Boolean Series key will be reindexed to match DataFrame index.\n",
      "  valid = df.iloc[:max_confirmed_idx][df['horizontal_low'].notna()]\n",
      "/Users/hsh/dev_project/sb-fsts/app/utils/auto_trading_bot.py:2708: UserWarning: Boolean Series key will be reindexed to match DataFrame index.\n",
      "  valid = df.iloc[:max_confirmed_idx][df['horizontal_high'].notna()]\n",
      "/Users/hsh/dev_project/sb-fsts/app/utils/auto_trading_bot.py:2693: UserWarning: Boolean Series key will be reindexed to match DataFrame index.\n",
      "  valid = df.iloc[:max_confirmed_idx][df['horizontal_low'].notna()]\n",
      "/Users/hsh/dev_project/sb-fsts/app/utils/auto_trading_bot.py:2708: UserWarning: Boolean Series key will be reindexed to match DataFrame index.\n",
      "  valid = df.iloc[:max_confirmed_idx][df['horizontal_high'].notna()]\n",
      "/Users/hsh/dev_project/sb-fsts/app/utils/auto_trading_bot.py:2693: UserWarning: Boolean Series key will be reindexed to match DataFrame index.\n",
      "  valid = df.iloc[:max_confirmed_idx][df['horizontal_low'].notna()]\n",
      "/Users/hsh/dev_project/sb-fsts/app/utils/auto_trading_bot.py:2708: UserWarning: Boolean Series key will be reindexed to match DataFrame index.\n",
      "  valid = df.iloc[:max_confirmed_idx][df['horizontal_high'].notna()]\n",
      "/Users/hsh/dev_project/sb-fsts/app/utils/auto_trading_bot.py:2693: UserWarning: Boolean Series key will be reindexed to match DataFrame index.\n",
      "  valid = df.iloc[:max_confirmed_idx][df['horizontal_low'].notna()]\n",
      "/Users/hsh/dev_project/sb-fsts/app/utils/auto_trading_bot.py:2708: UserWarning: Boolean Series key will be reindexed to match DataFrame index.\n",
      "  valid = df.iloc[:max_confirmed_idx][df['horizontal_high'].notna()]\n"
     ]
    },
    {
     "name": "stdout",
     "output_type": "stream",
     "text": [
      "💰 시뮬 중: 237690 / 날짜: 2025-07-02 / 사용가능한 예수금: 95,981\n",
      "💰 시뮬 중: 237690 / 날짜: 2025-07-02 / 사용가능한 예수금: 95,981 / 거래 없음\n",
      "💰 시뮬 중: 048410 / 날짜: 2025-07-02 / 사용가능한 예수금: 95,981\n",
      "💰 시뮬 중: 048410 / 날짜: 2025-07-02 / 사용가능한 예수금: 95,981 / 거래 없음\n",
      "💰 시뮬 중: 049070 / 날짜: 2025-07-02 / 사용가능한 예수금: 95,981\n"
     ]
    },
    {
     "name": "stderr",
     "output_type": "stream",
     "text": [
      "/Users/hsh/dev_project/sb-fsts/app/utils/auto_trading_bot.py:2693: UserWarning: Boolean Series key will be reindexed to match DataFrame index.\n",
      "  valid = df.iloc[:max_confirmed_idx][df['horizontal_low'].notna()]\n",
      "/Users/hsh/dev_project/sb-fsts/app/utils/auto_trading_bot.py:2708: UserWarning: Boolean Series key will be reindexed to match DataFrame index.\n",
      "  valid = df.iloc[:max_confirmed_idx][df['horizontal_high'].notna()]\n",
      "/Users/hsh/dev_project/sb-fsts/app/utils/auto_trading_bot.py:2693: UserWarning: Boolean Series key will be reindexed to match DataFrame index.\n",
      "  valid = df.iloc[:max_confirmed_idx][df['horizontal_low'].notna()]\n",
      "/Users/hsh/dev_project/sb-fsts/app/utils/auto_trading_bot.py:2708: UserWarning: Boolean Series key will be reindexed to match DataFrame index.\n",
      "  valid = df.iloc[:max_confirmed_idx][df['horizontal_high'].notna()]\n",
      "/Users/hsh/dev_project/sb-fsts/app/utils/auto_trading_bot.py:2693: UserWarning: Boolean Series key will be reindexed to match DataFrame index.\n",
      "  valid = df.iloc[:max_confirmed_idx][df['horizontal_low'].notna()]\n",
      "/Users/hsh/dev_project/sb-fsts/app/utils/auto_trading_bot.py:2708: UserWarning: Boolean Series key will be reindexed to match DataFrame index.\n",
      "  valid = df.iloc[:max_confirmed_idx][df['horizontal_high'].notna()]\n"
     ]
    },
    {
     "name": "stdout",
     "output_type": "stream",
     "text": [
      "💰 시뮬 중: 049070 / 날짜: 2025-07-02 / 사용가능한 예수금: 95,981 / 거래 없음\n",
      "💰 시뮬 중: 166090 / 날짜: 2025-07-02 / 사용가능한 예수금: 95,981\n",
      "💰 시뮬 중: 166090 / 날짜: 2025-07-02 / 사용가능한 예수금: 95,981 / 거래 없음\n"
     ]
    },
    {
     "name": "stderr",
     "output_type": "stream",
     "text": [
      "/Users/hsh/dev_project/sb-fsts/app/utils/auto_trading_bot.py:2693: UserWarning: Boolean Series key will be reindexed to match DataFrame index.\n",
      "  valid = df.iloc[:max_confirmed_idx][df['horizontal_low'].notna()]\n",
      "/Users/hsh/dev_project/sb-fsts/app/utils/auto_trading_bot.py:2708: UserWarning: Boolean Series key will be reindexed to match DataFrame index.\n",
      "  valid = df.iloc[:max_confirmed_idx][df['horizontal_high'].notna()]\n",
      "/Users/hsh/dev_project/sb-fsts/app/utils/auto_trading_bot.py:2693: UserWarning: Boolean Series key will be reindexed to match DataFrame index.\n",
      "  valid = df.iloc[:max_confirmed_idx][df['horizontal_low'].notna()]\n",
      "/Users/hsh/dev_project/sb-fsts/app/utils/auto_trading_bot.py:2708: UserWarning: Boolean Series key will be reindexed to match DataFrame index.\n",
      "  valid = df.iloc[:max_confirmed_idx][df['horizontal_high'].notna()]\n"
     ]
    },
    {
     "name": "stdout",
     "output_type": "stream",
     "text": [
      "💰 시뮬 중: 035600 / 날짜: 2025-07-02 / 사용가능한 예수금: 95,981\n",
      "💰 시뮬 중: 035600 / 날짜: 2025-07-02 / 사용가능한 예수금: 95,981 / 거래 없음\n",
      "💰 시뮬 중: 067310 / 날짜: 2025-07-02 / 사용가능한 예수금: 95,981\n",
      "💰 시뮬 중: 067310 / 날짜: 2025-07-02 / 사용가능한 예수금: 95,981 / 거래 없음\n",
      "💰 시뮬 중: 213420 / 날짜: 2025-07-02 / 사용가능한 예수금: 95,981\n",
      "💰 시뮬 중: 213420 / 날짜: 2025-07-02 / 사용가능한 예수금: 95,981 / 거래 없음\n"
     ]
    },
    {
     "name": "stderr",
     "output_type": "stream",
     "text": [
      "/Users/hsh/dev_project/sb-fsts/app/utils/auto_trading_bot.py:2693: UserWarning: Boolean Series key will be reindexed to match DataFrame index.\n",
      "  valid = df.iloc[:max_confirmed_idx][df['horizontal_low'].notna()]\n",
      "/Users/hsh/dev_project/sb-fsts/app/utils/auto_trading_bot.py:2708: UserWarning: Boolean Series key will be reindexed to match DataFrame index.\n",
      "  valid = df.iloc[:max_confirmed_idx][df['horizontal_high'].notna()]\n",
      "/Users/hsh/dev_project/sb-fsts/app/utils/auto_trading_bot.py:2693: UserWarning: Boolean Series key will be reindexed to match DataFrame index.\n",
      "  valid = df.iloc[:max_confirmed_idx][df['horizontal_low'].notna()]\n",
      "/Users/hsh/dev_project/sb-fsts/app/utils/auto_trading_bot.py:2708: UserWarning: Boolean Series key will be reindexed to match DataFrame index.\n",
      "  valid = df.iloc[:max_confirmed_idx][df['horizontal_high'].notna()]\n",
      "/Users/hsh/dev_project/sb-fsts/app/utils/auto_trading_bot.py:2693: UserWarning: Boolean Series key will be reindexed to match DataFrame index.\n",
      "  valid = df.iloc[:max_confirmed_idx][df['horizontal_low'].notna()]\n",
      "/Users/hsh/dev_project/sb-fsts/app/utils/auto_trading_bot.py:2708: UserWarning: Boolean Series key will be reindexed to match DataFrame index.\n",
      "  valid = df.iloc[:max_confirmed_idx][df['horizontal_high'].notna()]\n",
      "/Users/hsh/dev_project/sb-fsts/app/utils/auto_trading_bot.py:2693: UserWarning: Boolean Series key will be reindexed to match DataFrame index.\n",
      "  valid = df.iloc[:max_confirmed_idx][df['horizontal_low'].notna()]\n",
      "/Users/hsh/dev_project/sb-fsts/app/utils/auto_trading_bot.py:2708: UserWarning: Boolean Series key will be reindexed to match DataFrame index.\n",
      "  valid = df.iloc[:max_confirmed_idx][df['horizontal_high'].notna()]\n",
      "/Users/hsh/dev_project/sb-fsts/app/utils/auto_trading_bot.py:2693: UserWarning: Boolean Series key will be reindexed to match DataFrame index.\n",
      "  valid = df.iloc[:max_confirmed_idx][df['horizontal_low'].notna()]\n",
      "/Users/hsh/dev_project/sb-fsts/app/utils/auto_trading_bot.py:2708: UserWarning: Boolean Series key will be reindexed to match DataFrame index.\n",
      "  valid = df.iloc[:max_confirmed_idx][df['horizontal_high'].notna()]\n"
     ]
    },
    {
     "name": "stdout",
     "output_type": "stream",
     "text": [
      "💰 시뮬 중: 336570 / 날짜: 2025-07-02 / 사용가능한 예수금: 95,981\n",
      "💰 시뮬 중: 336570 / 날짜: 2025-07-02 / 사용가능한 예수금: 95,981 / 거래 없음\n",
      "💰 시뮬 중: 194480 / 날짜: 2025-07-02 / 사용가능한 예수금: 95,981\n",
      "💰 시뮬 중: 194480 / 날짜: 2025-07-02 / 사용가능한 예수금: 95,981 / 거래 없음\n",
      "💰 시뮬 중: 007390 / 날짜: 2025-07-02 / 사용가능한 예수금: 95,981\n",
      "💰 시뮬 중: 007390 / 날짜: 2025-07-02 / 사용가능한 예수금: 95,981 / 거래 없음\n",
      "💰 시뮬 중: 058470 / 날짜: 2025-07-02 / 사용가능한 예수금: 95,981\n",
      "💰 시뮬 중: 058470 / 날짜: 2025-07-02 / 사용가능한 예수금: 95,981 / 거래 없음\n",
      "💰 시뮬 중: 393890 / 날짜: 2025-07-02 / 사용가능한 예수금: 95,981\n",
      "💰 시뮬 중: 393890 / 날짜: 2025-07-02 / 사용가능한 예수금: 95,981 / 거래 없음\n",
      "💰 시뮬 중: 025900 / 날짜: 2025-07-02 / 사용가능한 예수금: 95,981\n",
      "💰 시뮬 중: 025900 / 날짜: 2025-07-02 / 사용가능한 예수금: 95,981 / 거래 없음\n"
     ]
    },
    {
     "name": "stderr",
     "output_type": "stream",
     "text": [
      "/Users/hsh/dev_project/sb-fsts/app/utils/auto_trading_bot.py:2693: UserWarning: Boolean Series key will be reindexed to match DataFrame index.\n",
      "  valid = df.iloc[:max_confirmed_idx][df['horizontal_low'].notna()]\n",
      "/Users/hsh/dev_project/sb-fsts/app/utils/auto_trading_bot.py:2708: UserWarning: Boolean Series key will be reindexed to match DataFrame index.\n",
      "  valid = df.iloc[:max_confirmed_idx][df['horizontal_high'].notna()]\n",
      "/Users/hsh/dev_project/sb-fsts/app/utils/auto_trading_bot.py:2693: UserWarning: Boolean Series key will be reindexed to match DataFrame index.\n",
      "  valid = df.iloc[:max_confirmed_idx][df['horizontal_low'].notna()]\n",
      "/Users/hsh/dev_project/sb-fsts/app/utils/auto_trading_bot.py:2708: UserWarning: Boolean Series key will be reindexed to match DataFrame index.\n",
      "  valid = df.iloc[:max_confirmed_idx][df['horizontal_high'].notna()]\n",
      "/Users/hsh/dev_project/sb-fsts/app/utils/auto_trading_bot.py:2693: UserWarning: Boolean Series key will be reindexed to match DataFrame index.\n",
      "  valid = df.iloc[:max_confirmed_idx][df['horizontal_low'].notna()]\n",
      "/Users/hsh/dev_project/sb-fsts/app/utils/auto_trading_bot.py:2708: UserWarning: Boolean Series key will be reindexed to match DataFrame index.\n",
      "  valid = df.iloc[:max_confirmed_idx][df['horizontal_high'].notna()]\n",
      "/Users/hsh/dev_project/sb-fsts/app/utils/auto_trading_bot.py:2693: UserWarning: Boolean Series key will be reindexed to match DataFrame index.\n",
      "  valid = df.iloc[:max_confirmed_idx][df['horizontal_low'].notna()]\n",
      "/Users/hsh/dev_project/sb-fsts/app/utils/auto_trading_bot.py:2708: UserWarning: Boolean Series key will be reindexed to match DataFrame index.\n",
      "  valid = df.iloc[:max_confirmed_idx][df['horizontal_high'].notna()]\n",
      "/Users/hsh/dev_project/sb-fsts/app/utils/auto_trading_bot.py:2693: UserWarning: Boolean Series key will be reindexed to match DataFrame index.\n",
      "  valid = df.iloc[:max_confirmed_idx][df['horizontal_low'].notna()]\n",
      "/Users/hsh/dev_project/sb-fsts/app/utils/auto_trading_bot.py:2708: UserWarning: Boolean Series key will be reindexed to match DataFrame index.\n",
      "  valid = df.iloc[:max_confirmed_idx][df['horizontal_high'].notna()]\n",
      "/Users/hsh/dev_project/sb-fsts/app/utils/auto_trading_bot.py:2693: UserWarning: Boolean Series key will be reindexed to match DataFrame index.\n",
      "  valid = df.iloc[:max_confirmed_idx][df['horizontal_low'].notna()]\n",
      "/Users/hsh/dev_project/sb-fsts/app/utils/auto_trading_bot.py:2708: UserWarning: Boolean Series key will be reindexed to match DataFrame index.\n",
      "  valid = df.iloc[:max_confirmed_idx][df['horizontal_high'].notna()]\n"
     ]
    },
    {
     "name": "stdout",
     "output_type": "stream",
     "text": [
      "💰 시뮬 중: 058610 / 날짜: 2025-07-02 / 사용가능한 예수금: 95,981\n",
      "💰 시뮬 중: 058610 / 날짜: 2025-07-02 / 사용가능한 예수금: 95,981 / 거래 없음\n",
      "💰 시뮬 중: 215000 / 날짜: 2025-07-02 / 사용가능한 예수금: 95,981\n",
      "💰 시뮬 중: 215000 / 날짜: 2025-07-02 / 사용가능한 예수금: 95,981 / 거래 없음\n",
      "💰 시뮬 중: 278280 / 날짜: 2025-07-02 / 사용가능한 예수금: 95,981\n",
      "💰 시뮬 중: 278280 / 날짜: 2025-07-02 / 사용가능한 예수금: 95,981 / 거래 없음\n",
      "💰 시뮬 중: 041190 / 날짜: 2025-07-02 / 사용가능한 예수금: 95,981\n",
      "💰 시뮬 중: 041190 / 날짜: 2025-07-02 / 사용가능한 예수금: 95,981 / 거래 없음\n",
      "💰 시뮬 중: 095340 / 날짜: 2025-07-02 / 사용가능한 예수금: 95,981\n",
      "💰 시뮬 중: 095340 / 날짜: 2025-07-02 / 사용가능한 예수금: 95,981 / 거래 없음\n"
     ]
    },
    {
     "name": "stderr",
     "output_type": "stream",
     "text": [
      "/Users/hsh/dev_project/sb-fsts/app/utils/auto_trading_bot.py:2693: UserWarning: Boolean Series key will be reindexed to match DataFrame index.\n",
      "  valid = df.iloc[:max_confirmed_idx][df['horizontal_low'].notna()]\n",
      "/Users/hsh/dev_project/sb-fsts/app/utils/auto_trading_bot.py:2708: UserWarning: Boolean Series key will be reindexed to match DataFrame index.\n",
      "  valid = df.iloc[:max_confirmed_idx][df['horizontal_high'].notna()]\n",
      "/Users/hsh/dev_project/sb-fsts/app/utils/auto_trading_bot.py:2693: UserWarning: Boolean Series key will be reindexed to match DataFrame index.\n",
      "  valid = df.iloc[:max_confirmed_idx][df['horizontal_low'].notna()]\n",
      "/Users/hsh/dev_project/sb-fsts/app/utils/auto_trading_bot.py:2708: UserWarning: Boolean Series key will be reindexed to match DataFrame index.\n",
      "  valid = df.iloc[:max_confirmed_idx][df['horizontal_high'].notna()]\n",
      "/Users/hsh/dev_project/sb-fsts/app/utils/auto_trading_bot.py:2693: UserWarning: Boolean Series key will be reindexed to match DataFrame index.\n",
      "  valid = df.iloc[:max_confirmed_idx][df['horizontal_low'].notna()]\n",
      "/Users/hsh/dev_project/sb-fsts/app/utils/auto_trading_bot.py:2708: UserWarning: Boolean Series key will be reindexed to match DataFrame index.\n",
      "  valid = df.iloc[:max_confirmed_idx][df['horizontal_high'].notna()]\n",
      "/Users/hsh/dev_project/sb-fsts/app/utils/auto_trading_bot.py:2693: UserWarning: Boolean Series key will be reindexed to match DataFrame index.\n",
      "  valid = df.iloc[:max_confirmed_idx][df['horizontal_low'].notna()]\n",
      "/Users/hsh/dev_project/sb-fsts/app/utils/auto_trading_bot.py:2708: UserWarning: Boolean Series key will be reindexed to match DataFrame index.\n",
      "  valid = df.iloc[:max_confirmed_idx][df['horizontal_high'].notna()]\n",
      "/Users/hsh/dev_project/sb-fsts/app/utils/auto_trading_bot.py:2693: UserWarning: Boolean Series key will be reindexed to match DataFrame index.\n",
      "  valid = df.iloc[:max_confirmed_idx][df['horizontal_low'].notna()]\n",
      "/Users/hsh/dev_project/sb-fsts/app/utils/auto_trading_bot.py:2708: UserWarning: Boolean Series key will be reindexed to match DataFrame index.\n",
      "  valid = df.iloc[:max_confirmed_idx][df['horizontal_high'].notna()]\n",
      "/Users/hsh/dev_project/sb-fsts/app/utils/auto_trading_bot.py:2693: UserWarning: Boolean Series key will be reindexed to match DataFrame index.\n",
      "  valid = df.iloc[:max_confirmed_idx][df['horizontal_low'].notna()]\n",
      "/Users/hsh/dev_project/sb-fsts/app/utils/auto_trading_bot.py:2708: UserWarning: Boolean Series key will be reindexed to match DataFrame index.\n",
      "  valid = df.iloc[:max_confirmed_idx][df['horizontal_high'].notna()]\n"
     ]
    },
    {
     "name": "stdout",
     "output_type": "stream",
     "text": [
      "💰 시뮬 중: 084850 / 날짜: 2025-07-02 / 사용가능한 예수금: 95,981\n",
      "💰 시뮬 중: 084850 / 날짜: 2025-07-02 / 사용가능한 예수금: 95,981 / 거래 없음\n",
      "💰 시뮬 중: 171090 / 날짜: 2025-07-02 / 사용가능한 예수금: 95,981\n",
      "💰 시뮬 중: 171090 / 날짜: 2025-07-02 / 사용가능한 예수금: 95,981 / 거래 없음\n",
      "💰 시뮬 중: 039200 / 날짜: 2025-07-02 / 사용가능한 예수금: 95,981\n",
      "💰 시뮬 중: 039200 / 날짜: 2025-07-02 / 사용가능한 예수금: 95,981 / 거래 없음\n",
      "💰 시뮬 중: 417200 / 날짜: 2025-07-02 / 사용가능한 예수금: 95,981\n",
      "💰 시뮬 중: 417200 / 날짜: 2025-07-02 / 사용가능한 예수금: 95,981 / 거래 없음\n",
      "💰 시뮬 중: 068240 / 날짜: 2025-07-02 / 사용가능한 예수금: 95,981\n",
      "💰 시뮬 중: 068240 / 날짜: 2025-07-02 / 사용가능한 예수금: 95,981 / 거래 없음\n",
      "\u001b[1;33m[07/02 23:21:07] WARNING: API 호출 횟수를 초과하여 호출 유량 획득까지 대기합니다.\u001b[0m\n"
     ]
    },
    {
     "name": "stderr",
     "output_type": "stream",
     "text": [
      "/Users/hsh/dev_project/sb-fsts/app/utils/auto_trading_bot.py:2693: UserWarning: Boolean Series key will be reindexed to match DataFrame index.\n",
      "  valid = df.iloc[:max_confirmed_idx][df['horizontal_low'].notna()]\n",
      "/Users/hsh/dev_project/sb-fsts/app/utils/auto_trading_bot.py:2708: UserWarning: Boolean Series key will be reindexed to match DataFrame index.\n",
      "  valid = df.iloc[:max_confirmed_idx][df['horizontal_high'].notna()]\n",
      "/Users/hsh/dev_project/sb-fsts/app/utils/auto_trading_bot.py:2693: UserWarning: Boolean Series key will be reindexed to match DataFrame index.\n",
      "  valid = df.iloc[:max_confirmed_idx][df['horizontal_low'].notna()]\n",
      "/Users/hsh/dev_project/sb-fsts/app/utils/auto_trading_bot.py:2708: UserWarning: Boolean Series key will be reindexed to match DataFrame index.\n",
      "  valid = df.iloc[:max_confirmed_idx][df['horizontal_high'].notna()]\n",
      "/Users/hsh/dev_project/sb-fsts/app/utils/auto_trading_bot.py:2693: UserWarning: Boolean Series key will be reindexed to match DataFrame index.\n",
      "  valid = df.iloc[:max_confirmed_idx][df['horizontal_low'].notna()]\n",
      "/Users/hsh/dev_project/sb-fsts/app/utils/auto_trading_bot.py:2708: UserWarning: Boolean Series key will be reindexed to match DataFrame index.\n",
      "  valid = df.iloc[:max_confirmed_idx][df['horizontal_high'].notna()]\n"
     ]
    },
    {
     "name": "stdout",
     "output_type": "stream",
     "text": [
      "💰 시뮬 중: 085660 / 날짜: 2025-07-02 / 사용가능한 예수금: 95,981\n",
      "💰 시뮬 중: 085660 / 날짜: 2025-07-02 / 사용가능한 예수금: 95,981 / 거래 없음\n",
      "💰 시뮬 중: 290650 / 날짜: 2025-07-02 / 사용가능한 예수금: 95,981\n",
      "💰 시뮬 중: 290650 / 날짜: 2025-07-02 / 사용가능한 예수금: 95,981 / 거래 없음\n",
      "💰 시뮬 중: 018290 / 날짜: 2025-07-02 / 사용가능한 예수금: 95,981\n",
      "💰 시뮬 중: 018290 / 날짜: 2025-07-02 / 사용가능한 예수금: 95,981 / 거래 없음\n",
      "💰 시뮬 중: 189300 / 날짜: 2025-07-02 / 사용가능한 예수금: 95,981\n",
      "💰 시뮬 중: 189300 / 날짜: 2025-07-02 / 사용가능한 예수금: 95,981 / 거래 없음\n"
     ]
    },
    {
     "name": "stderr",
     "output_type": "stream",
     "text": [
      "/Users/hsh/dev_project/sb-fsts/app/utils/auto_trading_bot.py:2693: UserWarning: Boolean Series key will be reindexed to match DataFrame index.\n",
      "  valid = df.iloc[:max_confirmed_idx][df['horizontal_low'].notna()]\n",
      "/Users/hsh/dev_project/sb-fsts/app/utils/auto_trading_bot.py:2708: UserWarning: Boolean Series key will be reindexed to match DataFrame index.\n",
      "  valid = df.iloc[:max_confirmed_idx][df['horizontal_high'].notna()]\n",
      "/Users/hsh/dev_project/sb-fsts/app/utils/auto_trading_bot.py:2693: UserWarning: Boolean Series key will be reindexed to match DataFrame index.\n",
      "  valid = df.iloc[:max_confirmed_idx][df['horizontal_low'].notna()]\n",
      "/Users/hsh/dev_project/sb-fsts/app/utils/auto_trading_bot.py:2708: UserWarning: Boolean Series key will be reindexed to match DataFrame index.\n",
      "  valid = df.iloc[:max_confirmed_idx][df['horizontal_high'].notna()]\n",
      "/Users/hsh/dev_project/sb-fsts/app/utils/auto_trading_bot.py:2693: UserWarning: Boolean Series key will be reindexed to match DataFrame index.\n",
      "  valid = df.iloc[:max_confirmed_idx][df['horizontal_low'].notna()]\n",
      "/Users/hsh/dev_project/sb-fsts/app/utils/auto_trading_bot.py:2708: UserWarning: Boolean Series key will be reindexed to match DataFrame index.\n",
      "  valid = df.iloc[:max_confirmed_idx][df['horizontal_high'].notna()]\n"
     ]
    },
    {
     "name": "stdout",
     "output_type": "stream",
     "text": [
      "💰 시뮬 중: 025320 / 날짜: 2025-07-02 / 사용가능한 예수금: 95,981\n",
      "💰 시뮬 중: 025320 / 날짜: 2025-07-02 / 사용가능한 예수금: 95,981 / 거래 없음\n",
      "💰 시뮬 중: 141080 / 날짜: 2025-07-02 / 사용가능한 예수금: 95,981\n",
      "💰 시뮬 중: 141080 / 날짜: 2025-07-02 / 사용가능한 예수금: 95,981 / 거래 없음\n"
     ]
    },
    {
     "name": "stderr",
     "output_type": "stream",
     "text": [
      "/Users/hsh/dev_project/sb-fsts/app/utils/auto_trading_bot.py:2693: UserWarning: Boolean Series key will be reindexed to match DataFrame index.\n",
      "  valid = df.iloc[:max_confirmed_idx][df['horizontal_low'].notna()]\n",
      "/Users/hsh/dev_project/sb-fsts/app/utils/auto_trading_bot.py:2708: UserWarning: Boolean Series key will be reindexed to match DataFrame index.\n",
      "  valid = df.iloc[:max_confirmed_idx][df['horizontal_high'].notna()]\n",
      "/Users/hsh/dev_project/sb-fsts/app/utils/auto_trading_bot.py:2693: UserWarning: Boolean Series key will be reindexed to match DataFrame index.\n",
      "  valid = df.iloc[:max_confirmed_idx][df['horizontal_low'].notna()]\n",
      "/Users/hsh/dev_project/sb-fsts/app/utils/auto_trading_bot.py:2708: UserWarning: Boolean Series key will be reindexed to match DataFrame index.\n",
      "  valid = df.iloc[:max_confirmed_idx][df['horizontal_high'].notna()]\n",
      "/Users/hsh/dev_project/sb-fsts/app/utils/auto_trading_bot.py:2693: UserWarning: Boolean Series key will be reindexed to match DataFrame index.\n",
      "  valid = df.iloc[:max_confirmed_idx][df['horizontal_low'].notna()]\n",
      "/Users/hsh/dev_project/sb-fsts/app/utils/auto_trading_bot.py:2708: UserWarning: Boolean Series key will be reindexed to match DataFrame index.\n",
      "  valid = df.iloc[:max_confirmed_idx][df['horizontal_high'].notna()]\n"
     ]
    },
    {
     "name": "stdout",
     "output_type": "stream",
     "text": [
      "💰 시뮬 중: 204270 / 날짜: 2025-07-02 / 사용가능한 예수금: 95,981\n",
      "💰 시뮬 중: 204270 / 날짜: 2025-07-02 / 사용가능한 예수금: 95,981 / 거래 없음\n",
      "💰 시뮬 중: 140410 / 날짜: 2025-07-02 / 사용가능한 예수금: 95,981\n",
      "💰 시뮬 중: 140410 / 날짜: 2025-07-02 / 사용가능한 예수금: 95,981 / 거래 없음\n",
      "💰 시뮬 중: 200130 / 날짜: 2025-07-02 / 사용가능한 예수금: 95,981\n",
      "💰 시뮬 중: 200130 / 날짜: 2025-07-02 / 사용가능한 예수금: 95,981 / 거래 없음\n"
     ]
    },
    {
     "name": "stderr",
     "output_type": "stream",
     "text": [
      "/Users/hsh/dev_project/sb-fsts/app/utils/auto_trading_bot.py:2693: UserWarning: Boolean Series key will be reindexed to match DataFrame index.\n",
      "  valid = df.iloc[:max_confirmed_idx][df['horizontal_low'].notna()]\n",
      "/Users/hsh/dev_project/sb-fsts/app/utils/auto_trading_bot.py:2708: UserWarning: Boolean Series key will be reindexed to match DataFrame index.\n",
      "  valid = df.iloc[:max_confirmed_idx][df['horizontal_high'].notna()]\n",
      "/Users/hsh/dev_project/sb-fsts/app/utils/auto_trading_bot.py:2693: UserWarning: Boolean Series key will be reindexed to match DataFrame index.\n",
      "  valid = df.iloc[:max_confirmed_idx][df['horizontal_low'].notna()]\n",
      "/Users/hsh/dev_project/sb-fsts/app/utils/auto_trading_bot.py:2708: UserWarning: Boolean Series key will be reindexed to match DataFrame index.\n",
      "  valid = df.iloc[:max_confirmed_idx][df['horizontal_high'].notna()]\n"
     ]
    },
    {
     "name": "stdout",
     "output_type": "stream",
     "text": [
      "💰 시뮬 중: 056190 / 날짜: 2025-07-02 / 사용가능한 예수금: 95,981\n",
      "💰 시뮬 중: 056190 / 날짜: 2025-07-02 / 사용가능한 예수금: 95,981 / 거래 없음\n",
      "💰 시뮬 중: 082270 / 날짜: 2025-07-02 / 사용가능한 예수금: 95,981\n",
      "💰 시뮬 중: 082270 / 날짜: 2025-07-02 / 사용가능한 예수금: 95,981 / 거래 없음\n"
     ]
    },
    {
     "name": "stderr",
     "output_type": "stream",
     "text": [
      "/Users/hsh/dev_project/sb-fsts/app/utils/auto_trading_bot.py:2693: UserWarning: Boolean Series key will be reindexed to match DataFrame index.\n",
      "  valid = df.iloc[:max_confirmed_idx][df['horizontal_low'].notna()]\n",
      "/Users/hsh/dev_project/sb-fsts/app/utils/auto_trading_bot.py:2708: UserWarning: Boolean Series key will be reindexed to match DataFrame index.\n",
      "  valid = df.iloc[:max_confirmed_idx][df['horizontal_high'].notna()]\n",
      "/Users/hsh/dev_project/sb-fsts/app/utils/auto_trading_bot.py:2693: UserWarning: Boolean Series key will be reindexed to match DataFrame index.\n",
      "  valid = df.iloc[:max_confirmed_idx][df['horizontal_low'].notna()]\n",
      "/Users/hsh/dev_project/sb-fsts/app/utils/auto_trading_bot.py:2708: UserWarning: Boolean Series key will be reindexed to match DataFrame index.\n",
      "  valid = df.iloc[:max_confirmed_idx][df['horizontal_high'].notna()]\n",
      "/Users/hsh/dev_project/sb-fsts/app/utils/auto_trading_bot.py:2693: UserWarning: Boolean Series key will be reindexed to match DataFrame index.\n",
      "  valid = df.iloc[:max_confirmed_idx][df['horizontal_low'].notna()]\n",
      "/Users/hsh/dev_project/sb-fsts/app/utils/auto_trading_bot.py:2708: UserWarning: Boolean Series key will be reindexed to match DataFrame index.\n",
      "  valid = df.iloc[:max_confirmed_idx][df['horizontal_high'].notna()]\n"
     ]
    },
    {
     "name": "stdout",
     "output_type": "stream",
     "text": [
      "💰 시뮬 중: 131970 / 날짜: 2025-07-02 / 사용가능한 예수금: 95,981\n",
      "💰 시뮬 중: 131970 / 날짜: 2025-07-02 / 사용가능한 예수금: 95,981 / 거래 없음\n",
      "💰 시뮬 중: 053610 / 날짜: 2025-07-02 / 사용가능한 예수금: 95,981\n",
      "💰 시뮬 중: 053610 / 날짜: 2025-07-02 / 사용가능한 예수금: 95,981 / 거래 없음\n",
      "💰 시뮬 중: 096530 / 날짜: 2025-07-02 / 사용가능한 예수금: 95,981\n",
      "💰 시뮬 중: 096530 / 날짜: 2025-07-02 / 사용가능한 예수금: 95,981 / 거래 없음\n"
     ]
    },
    {
     "name": "stderr",
     "output_type": "stream",
     "text": [
      "/Users/hsh/dev_project/sb-fsts/app/utils/auto_trading_bot.py:2693: UserWarning: Boolean Series key will be reindexed to match DataFrame index.\n",
      "  valid = df.iloc[:max_confirmed_idx][df['horizontal_low'].notna()]\n",
      "/Users/hsh/dev_project/sb-fsts/app/utils/auto_trading_bot.py:2708: UserWarning: Boolean Series key will be reindexed to match DataFrame index.\n",
      "  valid = df.iloc[:max_confirmed_idx][df['horizontal_high'].notna()]\n",
      "/Users/hsh/dev_project/sb-fsts/app/utils/auto_trading_bot.py:2693: UserWarning: Boolean Series key will be reindexed to match DataFrame index.\n",
      "  valid = df.iloc[:max_confirmed_idx][df['horizontal_low'].notna()]\n",
      "/Users/hsh/dev_project/sb-fsts/app/utils/auto_trading_bot.py:2708: UserWarning: Boolean Series key will be reindexed to match DataFrame index.\n",
      "  valid = df.iloc[:max_confirmed_idx][df['horizontal_high'].notna()]\n",
      "/Users/hsh/dev_project/sb-fsts/app/utils/auto_trading_bot.py:2693: UserWarning: Boolean Series key will be reindexed to match DataFrame index.\n",
      "  valid = df.iloc[:max_confirmed_idx][df['horizontal_low'].notna()]\n",
      "/Users/hsh/dev_project/sb-fsts/app/utils/auto_trading_bot.py:2708: UserWarning: Boolean Series key will be reindexed to match DataFrame index.\n",
      "  valid = df.iloc[:max_confirmed_idx][df['horizontal_high'].notna()]\n"
     ]
    },
    {
     "name": "stdout",
     "output_type": "stream",
     "text": [
      "💰 시뮬 중: 253450 / 날짜: 2025-07-02 / 사용가능한 예수금: 95,981\n",
      "💰 시뮬 중: 253450 / 날짜: 2025-07-02 / 사용가능한 예수금: 95,981 / 거래 없음\n",
      "💰 시뮬 중: 074600 / 날짜: 2025-07-02 / 사용가능한 예수금: 95,981\n",
      "💰 시뮬 중: 074600 / 날짜: 2025-07-02 / 사용가능한 예수금: 95,981 / 거래 없음\n",
      "💰 시뮬 중: 225570 / 날짜: 2025-07-02 / 사용가능한 예수금: 95,981\n",
      "💰 시뮬 중: 225570 / 날짜: 2025-07-02 / 사용가능한 예수금: 95,981 / 거래 없음\n",
      "💰 시뮬 중: 033100 / 날짜: 2025-07-02 / 사용가능한 예수금: 95,981\n",
      "💰 시뮬 중: 033100 / 날짜: 2025-07-02 / 사용가능한 예수금: 95,981 / 거래 없음\n"
     ]
    },
    {
     "name": "stderr",
     "output_type": "stream",
     "text": [
      "/Users/hsh/dev_project/sb-fsts/app/utils/auto_trading_bot.py:2693: UserWarning: Boolean Series key will be reindexed to match DataFrame index.\n",
      "  valid = df.iloc[:max_confirmed_idx][df['horizontal_low'].notna()]\n",
      "/Users/hsh/dev_project/sb-fsts/app/utils/auto_trading_bot.py:2708: UserWarning: Boolean Series key will be reindexed to match DataFrame index.\n",
      "  valid = df.iloc[:max_confirmed_idx][df['horizontal_high'].notna()]\n",
      "/Users/hsh/dev_project/sb-fsts/app/utils/auto_trading_bot.py:2693: UserWarning: Boolean Series key will be reindexed to match DataFrame index.\n",
      "  valid = df.iloc[:max_confirmed_idx][df['horizontal_low'].notna()]\n",
      "/Users/hsh/dev_project/sb-fsts/app/utils/auto_trading_bot.py:2708: UserWarning: Boolean Series key will be reindexed to match DataFrame index.\n",
      "  valid = df.iloc[:max_confirmed_idx][df['horizontal_high'].notna()]\n",
      "/Users/hsh/dev_project/sb-fsts/app/utils/auto_trading_bot.py:2693: UserWarning: Boolean Series key will be reindexed to match DataFrame index.\n",
      "  valid = df.iloc[:max_confirmed_idx][df['horizontal_low'].notna()]\n",
      "/Users/hsh/dev_project/sb-fsts/app/utils/auto_trading_bot.py:2708: UserWarning: Boolean Series key will be reindexed to match DataFrame index.\n",
      "  valid = df.iloc[:max_confirmed_idx][df['horizontal_high'].notna()]\n",
      "/Users/hsh/dev_project/sb-fsts/app/utils/auto_trading_bot.py:2693: UserWarning: Boolean Series key will be reindexed to match DataFrame index.\n",
      "  valid = df.iloc[:max_confirmed_idx][df['horizontal_low'].notna()]\n",
      "/Users/hsh/dev_project/sb-fsts/app/utils/auto_trading_bot.py:2708: UserWarning: Boolean Series key will be reindexed to match DataFrame index.\n",
      "  valid = df.iloc[:max_confirmed_idx][df['horizontal_high'].notna()]\n",
      "/Users/hsh/dev_project/sb-fsts/app/utils/auto_trading_bot.py:2693: UserWarning: Boolean Series key will be reindexed to match DataFrame index.\n",
      "  valid = df.iloc[:max_confirmed_idx][df['horizontal_low'].notna()]\n",
      "/Users/hsh/dev_project/sb-fsts/app/utils/auto_trading_bot.py:2708: UserWarning: Boolean Series key will be reindexed to match DataFrame index.\n",
      "  valid = df.iloc[:max_confirmed_idx][df['horizontal_high'].notna()]\n"
     ]
    },
    {
     "name": "stdout",
     "output_type": "stream",
     "text": [
      "💰 시뮬 중: 064760 / 날짜: 2025-07-02 / 사용가능한 예수금: 95,981\n",
      "💰 시뮬 중: 064760 / 날짜: 2025-07-02 / 사용가능한 예수금: 95,981 / 거래 없음\n",
      "💰 시뮬 중: 267980 / 날짜: 2025-07-02 / 사용가능한 예수금: 95,981\n",
      "💰 시뮬 중: 267980 / 날짜: 2025-07-02 / 사용가능한 예수금: 95,981 / 거래 없음\n",
      "💰 시뮬 중: 065350 / 날짜: 2025-07-02 / 사용가능한 예수금: 95,981\n",
      "💰 시뮬 중: 065350 / 날짜: 2025-07-02 / 사용가능한 예수금: 95,981 / 거래 없음\n",
      "💰 시뮬 중: 078600 / 날짜: 2025-07-02 / 사용가능한 예수금: 95,981\n",
      "💰 시뮬 중: 078600 / 날짜: 2025-07-02 / 사용가능한 예수금: 95,981 / 거래 없음\n"
     ]
    },
    {
     "name": "stderr",
     "output_type": "stream",
     "text": [
      "/Users/hsh/dev_project/sb-fsts/app/utils/auto_trading_bot.py:2693: UserWarning: Boolean Series key will be reindexed to match DataFrame index.\n",
      "  valid = df.iloc[:max_confirmed_idx][df['horizontal_low'].notna()]\n",
      "/Users/hsh/dev_project/sb-fsts/app/utils/auto_trading_bot.py:2708: UserWarning: Boolean Series key will be reindexed to match DataFrame index.\n",
      "  valid = df.iloc[:max_confirmed_idx][df['horizontal_high'].notna()]\n",
      "/Users/hsh/dev_project/sb-fsts/app/utils/auto_trading_bot.py:2693: UserWarning: Boolean Series key will be reindexed to match DataFrame index.\n",
      "  valid = df.iloc[:max_confirmed_idx][df['horizontal_low'].notna()]\n",
      "/Users/hsh/dev_project/sb-fsts/app/utils/auto_trading_bot.py:2708: UserWarning: Boolean Series key will be reindexed to match DataFrame index.\n",
      "  valid = df.iloc[:max_confirmed_idx][df['horizontal_high'].notna()]\n",
      "/Users/hsh/dev_project/sb-fsts/app/utils/auto_trading_bot.py:2693: UserWarning: Boolean Series key will be reindexed to match DataFrame index.\n",
      "  valid = df.iloc[:max_confirmed_idx][df['horizontal_low'].notna()]\n",
      "/Users/hsh/dev_project/sb-fsts/app/utils/auto_trading_bot.py:2708: UserWarning: Boolean Series key will be reindexed to match DataFrame index.\n",
      "  valid = df.iloc[:max_confirmed_idx][df['horizontal_high'].notna()]\n",
      "/Users/hsh/dev_project/sb-fsts/app/utils/auto_trading_bot.py:2693: UserWarning: Boolean Series key will be reindexed to match DataFrame index.\n",
      "  valid = df.iloc[:max_confirmed_idx][df['horizontal_low'].notna()]\n",
      "/Users/hsh/dev_project/sb-fsts/app/utils/auto_trading_bot.py:2708: UserWarning: Boolean Series key will be reindexed to match DataFrame index.\n",
      "  valid = df.iloc[:max_confirmed_idx][df['horizontal_high'].notna()]\n",
      "/Users/hsh/dev_project/sb-fsts/app/utils/auto_trading_bot.py:2693: UserWarning: Boolean Series key will be reindexed to match DataFrame index.\n",
      "  valid = df.iloc[:max_confirmed_idx][df['horizontal_low'].notna()]\n",
      "/Users/hsh/dev_project/sb-fsts/app/utils/auto_trading_bot.py:2708: UserWarning: Boolean Series key will be reindexed to match DataFrame index.\n",
      "  valid = df.iloc[:max_confirmed_idx][df['horizontal_high'].notna()]\n"
     ]
    },
    {
     "name": "stdout",
     "output_type": "stream",
     "text": [
      "💰 시뮬 중: 086900 / 날짜: 2025-07-02 / 사용가능한 예수금: 95,981\n",
      "💰 시뮬 중: 086900 / 날짜: 2025-07-02 / 사용가능한 예수금: 95,981 / 거래 없음\n",
      "💰 시뮬 중: 195940 / 날짜: 2025-07-02 / 사용가능한 예수금: 95,981\n",
      "💰 시뮬 중: 195940 / 날짜: 2025-07-02 / 사용가능한 예수금: 95,981 / 거래 없음\n",
      "💰 시뮬 중: 028300 / 날짜: 2025-07-02 / 사용가능한 예수금: 95,981\n",
      "💰 시뮬 중: 028300 / 날짜: 2025-07-02 / 사용가능한 예수금: 95,981 / 거래 없음\n",
      "💰 시뮬 중: 078340 / 날짜: 2025-07-02 / 사용가능한 예수금: 95,981\n",
      "💰 시뮬 중: 078340 / 날짜: 2025-07-02 / 사용가능한 예수금: 95,981 / 거래 없음\n",
      "💰 시뮬 중: 115450 / 날짜: 2025-07-02 / 사용가능한 예수금: 95,981\n",
      "💰 시뮬 중: 115450 / 날짜: 2025-07-02 / 사용가능한 예수금: 95,981 / 거래 없음\n",
      "💰 시뮬 중: 060250 / 날짜: 2025-07-02 / 사용가능한 예수금: 95,981\n",
      "💰 시뮬 중: 060250 / 날짜: 2025-07-02 / 사용가능한 예수금: 95,981 / 거래 없음\n",
      "💰 시뮬 중: 101360 / 날짜: 2025-07-02 / 사용가능한 예수금: 95,981\n",
      "💰 시뮬 중: 101360 / 날짜: 2025-07-02 / 사용가능한 예수금: 95,981 / 거래 없음\n",
      "💰 시뮬 중: 091120 / 날짜: 2025-07-02 / 사용가능한 예수금: 95,981\n",
      "💰 시뮬 중: 091120 / 날짜: 2025-07-02 / 사용가능한 예수금: 95,981 / 거래 없음\n",
      "💰 시뮬 중: 046890 / 날짜: 2025-07-02 / 사용가능한 예수금: 95,981\n",
      "💰 시뮬 중: 046890 / 날짜: 2025-07-02 / 사용가능한 예수금: 95,981 / 거래 없음\n",
      "\u001b[1;33m[07/02 23:21:09] WARNING: API 호출 횟수를 초과하여 호출 유량 획득까지 대기합니다.\u001b[0m\n"
     ]
    },
    {
     "name": "stderr",
     "output_type": "stream",
     "text": [
      "/Users/hsh/dev_project/sb-fsts/app/utils/auto_trading_bot.py:2693: UserWarning: Boolean Series key will be reindexed to match DataFrame index.\n",
      "  valid = df.iloc[:max_confirmed_idx][df['horizontal_low'].notna()]\n",
      "/Users/hsh/dev_project/sb-fsts/app/utils/auto_trading_bot.py:2708: UserWarning: Boolean Series key will be reindexed to match DataFrame index.\n",
      "  valid = df.iloc[:max_confirmed_idx][df['horizontal_high'].notna()]\n",
      "/Users/hsh/dev_project/sb-fsts/app/utils/auto_trading_bot.py:2693: UserWarning: Boolean Series key will be reindexed to match DataFrame index.\n",
      "  valid = df.iloc[:max_confirmed_idx][df['horizontal_low'].notna()]\n",
      "/Users/hsh/dev_project/sb-fsts/app/utils/auto_trading_bot.py:2708: UserWarning: Boolean Series key will be reindexed to match DataFrame index.\n",
      "  valid = df.iloc[:max_confirmed_idx][df['horizontal_high'].notna()]\n",
      "/Users/hsh/dev_project/sb-fsts/app/utils/auto_trading_bot.py:2693: UserWarning: Boolean Series key will be reindexed to match DataFrame index.\n",
      "  valid = df.iloc[:max_confirmed_idx][df['horizontal_low'].notna()]\n",
      "/Users/hsh/dev_project/sb-fsts/app/utils/auto_trading_bot.py:2708: UserWarning: Boolean Series key will be reindexed to match DataFrame index.\n",
      "  valid = df.iloc[:max_confirmed_idx][df['horizontal_high'].notna()]\n",
      "/Users/hsh/dev_project/sb-fsts/app/utils/auto_trading_bot.py:2693: UserWarning: Boolean Series key will be reindexed to match DataFrame index.\n",
      "  valid = df.iloc[:max_confirmed_idx][df['horizontal_low'].notna()]\n",
      "/Users/hsh/dev_project/sb-fsts/app/utils/auto_trading_bot.py:2708: UserWarning: Boolean Series key will be reindexed to match DataFrame index.\n",
      "  valid = df.iloc[:max_confirmed_idx][df['horizontal_high'].notna()]\n",
      "/Users/hsh/dev_project/sb-fsts/app/utils/auto_trading_bot.py:2693: UserWarning: Boolean Series key will be reindexed to match DataFrame index.\n",
      "  valid = df.iloc[:max_confirmed_idx][df['horizontal_low'].notna()]\n",
      "/Users/hsh/dev_project/sb-fsts/app/utils/auto_trading_bot.py:2708: UserWarning: Boolean Series key will be reindexed to match DataFrame index.\n",
      "  valid = df.iloc[:max_confirmed_idx][df['horizontal_high'].notna()]\n"
     ]
    },
    {
     "name": "stdout",
     "output_type": "stream",
     "text": [
      "💰 시뮬 중: 036540 / 날짜: 2025-07-02 / 사용가능한 예수금: 95,981\n",
      "💰 시뮬 중: 036540 / 날짜: 2025-07-02 / 사용가능한 예수금: 95,981 / 거래 없음\n",
      "💰 시뮬 중: 035760 / 날짜: 2025-07-02 / 사용가능한 예수금: 95,981\n",
      "💰 시뮬 중: 035760 / 날짜: 2025-07-02 / 사용가능한 예수금: 95,981 / 거래 없음\n"
     ]
    },
    {
     "name": "stderr",
     "output_type": "stream",
     "text": [
      "/Users/hsh/dev_project/sb-fsts/app/utils/auto_trading_bot.py:2693: UserWarning: Boolean Series key will be reindexed to match DataFrame index.\n",
      "  valid = df.iloc[:max_confirmed_idx][df['horizontal_low'].notna()]\n",
      "/Users/hsh/dev_project/sb-fsts/app/utils/auto_trading_bot.py:2708: UserWarning: Boolean Series key will be reindexed to match DataFrame index.\n",
      "  valid = df.iloc[:max_confirmed_idx][df['horizontal_high'].notna()]\n"
     ]
    },
    {
     "name": "stdout",
     "output_type": "stream",
     "text": [
      "🗑️ 삭제된 종목: 363250\n",
      "🗑️ 삭제된 종목: 383310\n",
      "🗑️ 삭제된 종목: 393890\n",
      "✅ 트랜잭션 성공: 1751466070692\n",
      "[💾 잔고 저장] 005380\n",
      "✅ 트랜잭션 성공: 1751466070799\n",
      "[💾 잔고 저장] 005930\n",
      "✅ 트랜잭션 성공: 1751466070891\n",
      "[💾 잔고 저장] 064350\n",
      "✅ 트랜잭션 성공: 1751466071002\n",
      "[💾 잔고 저장] 085660\n",
      "✅ 트랜잭션 성공: 1751466071105\n",
      "[💾 잔고 저장] 089980\n",
      "✅ 트랜잭션 성공: 1751466071225\n",
      "[💾 잔고 저장] 141080\n",
      "✅ 트랜잭션 성공: 1751466071325\n",
      "[💾 잔고 저장] 271940\n",
      "✅ 트랜잭션 성공: 1751466071431\n",
      "[💾 잔고 저장] 336260\n",
      "✅ 수익률 기록 저장 완료 (profits_history.csv)\n"
     ]
    }
   ],
   "source": [
    "from app.scheduler.auto_trading_scheduler import scheduled_trading\n",
    "\n",
    "scheduled_trading(id=\"schedulerbot\", virtual=False, trading_bot_name=\"dreaminmindbot\", sorting = \"\")"
   ]
  },
  {
   "cell_type": "code",
   "execution_count": null,
   "metadata": {},
   "outputs": [],
   "source": [
    "from app.utils.crud_sql import SQLExecutor\n",
    "from app.utils.database import get_db, get_db_session\n",
    "\n",
    "sql_executor = SQLExecutor()"
   ]
  },
  {
   "cell_type": "code",
   "execution_count": 14,
   "metadata": {},
   "outputs": [
    {
     "name": "stdout",
     "output_type": "stream",
     "text": [
      "[{'id': 'id1', 'name': 'name1'}, {'id': 'id2', 'name': 'name2'}]\n"
     ]
    }
   ],
   "source": [
    "query = \"\"\"\n",
    "        SELECT \n",
    "            *\n",
    "        FROM \n",
    "            fsts.test_table\n",
    "    \"\"\"\n",
    "\n",
    "params = {}\n",
    "\n",
    "with get_db_session() as db:\n",
    "    result = sql_executor.execute_select(db, query, params)\n",
    "\n",
    "print(result)"
   ]
  },
  {
   "cell_type": "code",
   "execution_count": 13,
   "metadata": {},
   "outputs": [
    {
     "name": "stdout",
     "output_type": "stream",
     "text": [
      "Insert succeeded: [{'id': 'id2', 'name': 'name2'}]\n"
     ]
    }
   ],
   "source": [
    "# RETURNING * 꼭 붙여야 함.\n",
    "query = \"\"\"\n",
    "    INSERT INTO fsts.test_table\n",
    "    (id, name)\n",
    "    VALUES (:id, :name)\n",
    "    RETURNING *;\n",
    "\"\"\"\n",
    "\n",
    "id = 'id2'\n",
    "name = 'name2'\n",
    "\n",
    "params = {\n",
    "    \"id\": id,\n",
    "    \"name\": name\n",
    "}\n",
    "\n",
    "with get_db_session() as db:\n",
    "    result = sql_executor.execute_insert(db, query, params)"
   ]
  },
  {
   "cell_type": "code",
   "execution_count": 27,
   "metadata": {},
   "outputs": [],
   "source": [
    "from pykis.kis import PyKis, KisAccessToken\n",
    "\n",
    "kis_id = 'dreaminmind'  # 한국투자증권 HTS ID\n",
    "app_key = \"PSyTGF07QupJyV76XGm3mkgcr4RDvSeODpVZ\"\n",
    "secret_key = \"eteoHNN+iHktbHC1TOKNdDc2ecFHqwyA+o1OijESqRtWY2cirhUqbiuFfO5zmEPNqB8/P0RSBuTjZnPq4zc5u3dKHIg/HOFQqmZcCik621aWqti5MBReqNpr/NChcs8edoBKd4cgJaC47m3IKncU4GglKzWNqHtic/4X8lmOAZx0oDGuFkI=\"\n",
    "account = \"67737279\"\n",
    "# kis_id = 'bnuazz15'\n",
    "# app_key = \"PSSTsRPEqwFOAqiw1WgOsmpsCToF0CT46YjJ\"\n",
    "# secret_key = \"oR1B8Z8jdnPb8Xj2m8N5c+A8LVF2Ai/2UCjO6taWq64OvBXf1arxxV6qfZDp49d0zedr90sub1zQqFYMjL76lbev/MKgHoGsrbVXlEYxP6QhyHJ1AIKLSq3sGSvuBcdAp+5PpM9CtSLRWL6SjxKpzZ0hDWlDwGSCWFtM3dL4XfTFIDfRC8Y=\"\n",
    "# account = \"64156776\"\n",
    "\n",
    "kis = PyKis(\n",
    "    id=kis_id,             # 한국투자증권 HTS ID\n",
    "    appkey=app_key,    # 발급받은 App Key\n",
    "    secretkey=secret_key, # 발급받은 App Secret\n",
    "    account=account, # 계좌번호 (예: \"12345678-01\")\n",
    "    keep_token=True           # 토큰 자동 갱신 여부\n",
    ")"
   ]
  },
  {
   "cell_type": "code",
   "execution_count": 28,
   "metadata": {},
   "outputs": [],
   "source": [
    "from pykis import KisBalance\n",
    "\n",
    "account = kis.account()\n",
    "balance: KisBalance = account.balance()"
   ]
  },
  {
   "cell_type": "code",
   "execution_count": 29,
   "metadata": {},
   "outputs": [],
   "source": [
    "non_zero_stocks = [stock for stock in balance.stocks if stock.qty != 0]\n",
    "\n",
    "balance.stocks = non_zero_stocks"
   ]
  },
  {
   "cell_type": "code",
   "execution_count": 30,
   "metadata": {},
   "outputs": [
    {
     "data": {
      "text/plain": [
       "KisIntegrationBalance(\n",
       "    account_number=KisAccountNumber('67737279-01'),\n",
       "    deposits={\n",
       "        'KRW': KisDomesticDeposit(account_number=KisAccountNumber('67737279-01'), currency='KRW', amount=43321, exchange_rate=1)\n",
       "    },\n",
       "    stocks=[\n",
       "        KisDomesticBalanceStock(account_number=KisAccountNumber('67737279-01'), market='KRX', symbol='383310', qty=72, price=25000, amount=1800000, profit=-206400, profit_rate=-10.28708133971291866028708134),\n",
       "        KisDomesticBalanceStock(account_number=KisAccountNumber('67737279-01'), market='KRX', symbol='393890', qty=134, price=7410, amount=992940, profit=-9380, profit_rate=-0.9358288770053475935828877005)\n",
       "    ],\n",
       "    purchase_amount=3008720,\n",
       "    current_amount=2792940,\n",
       "    profit=-215780,\n",
       "    profit_rate=-7.171820574862399957456991678\n",
       ")"
      ]
     },
     "execution_count": 30,
     "metadata": {},
     "output_type": "execute_result"
    }
   ],
   "source": [
    "balance"
   ]
  },
  {
   "cell_type": "code",
   "execution_count": 33,
   "metadata": {},
   "outputs": [],
   "source": [
    "from pykis import KisOrderableAmount\n",
    "\n",
    "# 엔비디아 주간거래 시장가 매수 가능 금액 조회\n",
    "orderable_amount: KisOrderableAmount = account.orderable_amount(\n",
    "    market=\"KRX\",\n",
    "    price=1,\n",
    "    symbol=\"039200\"\n",
    ")"
   ]
  },
  {
   "cell_type": "code",
   "execution_count": 36,
   "metadata": {},
   "outputs": [
    {
     "data": {
      "text/plain": [
       "2336447"
      ]
     },
     "execution_count": 36,
     "metadata": {},
     "output_type": "execute_result"
    }
   ],
   "source": [
    "int(orderable_amount.qty)"
   ]
  },
  {
   "cell_type": "code",
   "execution_count": null,
   "metadata": {},
   "outputs": [],
   "source": [
    "for holding in balance.stocks:\n",
    "    print(holding)\n",
    "    symbol = holding.symbol\n",
    "    original_symbol_name = holding.symbol_name"
   ]
  },
  {
   "cell_type": "code",
   "execution_count": 12,
   "metadata": {},
   "outputs": [],
   "source": [
    "import boto3\n",
    "import json\n",
    "\n",
    "s3_client = boto3.client('s3', region_name='ap-northeast-2', endpoint_url='https://s3.ap-northeast-2.amazonaws.com', config=boto3.session.Config(signature_version='s3v4'))\n",
    "bucket_name=\"sb-fsts\"\n",
    "\n",
    "token_save_path = f\"credentials/pykis/token.json\"\n",
    "\n",
    "response = s3_client.get_object(Bucket=bucket_name, Key=token_save_path)\n",
    "\n",
    "# 본문 읽기 및 JSON 파싱\n",
    "content = response['Body'].read().decode('utf-8')\n",
    "data = json.loads(content)\n",
    "data\n",
    "with open(\"token.json\", \"w\", encoding=\"utf-8\") as f:\n",
    "    json.dump(data, f, ensure_ascii=False, indent=4)"
   ]
  },
  {
   "cell_type": "code",
   "execution_count": 13,
   "metadata": {},
   "outputs": [
    {
     "ename": "KisHTTPError",
     "evalue": "HTTP 요청에 실패했습니다.\n(403) Forbidden\n{\"error_description\":\"접근토큰 발급 잠시 후 다시 시도하세요(1분당 1회)\",\"error_code\":\"EGW00133\"}\n\n[  Request  ]: POST https://openapi.koreainvestment.com:9443/oauth2/tokenP\nHeaders: {'User-Agent': 'PyKis/2.1.3', 'Accept-Encoding': 'gzip, deflate, zstd', 'Accept': '*/*', 'Connection': 'keep-alive', 'Content-Length': '283', 'Content-Type': 'application/json'}\nParams: {}\nBody: [PROTECTED BODY]",
     "output_type": "error",
     "traceback": [
      "\u001b[0;31m---------------------------------------------------------------------------\u001b[0m",
      "\u001b[0;31mKisHTTPError\u001b[0m                              Traceback (most recent call last)",
      "Cell \u001b[0;32mIn[13], line 9\u001b[0m\n\u001b[1;32m      1\u001b[0m kis \u001b[38;5;241m=\u001b[39m PyKis(\n\u001b[1;32m      2\u001b[0m     \u001b[38;5;28mid\u001b[39m\u001b[38;5;241m=\u001b[39mkis_id,             \u001b[38;5;66;03m# 한국투자증권 HTS ID\u001b[39;00m\n\u001b[1;32m      3\u001b[0m     appkey\u001b[38;5;241m=\u001b[39mapp_key,    \u001b[38;5;66;03m# 발급받은 App Key\u001b[39;00m\n\u001b[0;32m   (...)\u001b[0m\n\u001b[1;32m      7\u001b[0m     keep_token\u001b[38;5;241m=\u001b[39m\u001b[38;5;28;01mTrue\u001b[39;00m           \u001b[38;5;66;03m# 토큰 자동 갱신 여부\u001b[39;00m\n\u001b[1;32m      8\u001b[0m )\n\u001b[0;32m----> 9\u001b[0m \u001b[43mkis\u001b[49m\u001b[38;5;241;43m.\u001b[39;49m\u001b[43mtoken\u001b[49m\u001b[38;5;241m.\u001b[39msave(\u001b[38;5;124m\"\u001b[39m\u001b[38;5;124mtoken.json\u001b[39m\u001b[38;5;124m\"\u001b[39m)\n",
      "File \u001b[0;32m~/miniconda3/envs/sb-fsts/lib/python3.12/site-packages/pykis/utils/thread_safe.py:24\u001b[0m, in \u001b[0;36mthread_safe.<locals>.decorator.<locals>.wrapper\u001b[0;34m(self, *args, **kwargs)\u001b[0m\n\u001b[1;32m     21\u001b[0m         \u001b[38;5;28msetattr\u001b[39m(\u001b[38;5;28mself\u001b[39m, key, lock)\n\u001b[1;32m     23\u001b[0m \u001b[38;5;28;01mwith\u001b[39;00m lock:\n\u001b[0;32m---> 24\u001b[0m     \u001b[38;5;28;01mreturn\u001b[39;00m \u001b[43mfn\u001b[49m\u001b[43m(\u001b[49m\u001b[38;5;28;43mself\u001b[39;49m\u001b[43m,\u001b[49m\u001b[43m \u001b[49m\u001b[38;5;241;43m*\u001b[39;49m\u001b[43margs\u001b[49m\u001b[43m,\u001b[49m\u001b[43m \u001b[49m\u001b[38;5;241;43m*\u001b[39;49m\u001b[38;5;241;43m*\u001b[39;49m\u001b[43mkwargs\u001b[49m\u001b[43m)\u001b[49m\n",
      "File \u001b[0;32m~/miniconda3/envs/sb-fsts/lib/python3.12/site-packages/pykis/kis.py:671\u001b[0m, in \u001b[0;36mPyKis.token\u001b[0;34m(self)\u001b[0m\n\u001b[1;32m    668\u001b[0m \u001b[38;5;28;01mif\u001b[39;00m \u001b[38;5;28mself\u001b[39m\u001b[38;5;241m.\u001b[39m_token \u001b[38;5;129;01mis\u001b[39;00m \u001b[38;5;28;01mNone\u001b[39;00m \u001b[38;5;129;01mor\u001b[39;00m \u001b[38;5;28mself\u001b[39m\u001b[38;5;241m.\u001b[39m_token\u001b[38;5;241m.\u001b[39mremaining \u001b[38;5;241m<\u001b[39m timedelta(minutes\u001b[38;5;241m=\u001b[39m\u001b[38;5;241m10\u001b[39m):\n\u001b[1;32m    669\u001b[0m     \u001b[38;5;28;01mfrom\u001b[39;00m \u001b[38;5;21;01mpykis\u001b[39;00m\u001b[38;5;21;01m.\u001b[39;00m\u001b[38;5;21;01mapi\u001b[39;00m\u001b[38;5;21;01m.\u001b[39;00m\u001b[38;5;21;01mauth\u001b[39;00m\u001b[38;5;21;01m.\u001b[39;00m\u001b[38;5;21;01mtoken\u001b[39;00m \u001b[38;5;28;01mimport\u001b[39;00m token_issue\n\u001b[0;32m--> 671\u001b[0m     \u001b[38;5;28mself\u001b[39m\u001b[38;5;241m.\u001b[39m_token \u001b[38;5;241m=\u001b[39m \u001b[43mtoken_issue\u001b[49m\u001b[43m(\u001b[49m\u001b[38;5;28;43mself\u001b[39;49m\u001b[43m,\u001b[49m\u001b[43m \u001b[49m\u001b[43mdomain\u001b[49m\u001b[38;5;241;43m=\u001b[39;49m\u001b[38;5;124;43m\"\u001b[39;49m\u001b[38;5;124;43mreal\u001b[39;49m\u001b[38;5;124;43m\"\u001b[39;49m\u001b[43m)\u001b[49m\n\u001b[1;32m    672\u001b[0m     logging\u001b[38;5;241m.\u001b[39mlogger\u001b[38;5;241m.\u001b[39mdebug(\u001b[38;5;124mf\u001b[39m\u001b[38;5;124m\"\u001b[39m\u001b[38;5;124m실전도메인 API 접속 토큰을 발급했습니다.\u001b[39m\u001b[38;5;124m\"\u001b[39m)\n\u001b[1;32m    674\u001b[0m     \u001b[38;5;28;01mif\u001b[39;00m \u001b[38;5;28mself\u001b[39m\u001b[38;5;241m.\u001b[39m_keep_token:\n",
      "File \u001b[0;32m~/miniconda3/envs/sb-fsts/lib/python3.12/site-packages/pykis/api/auth/token.py:79\u001b[0m, in \u001b[0;36mtoken_issue\u001b[0;34m(self, domain)\u001b[0m\n\u001b[1;32m     72\u001b[0m \u001b[38;5;28;01mdef\u001b[39;00m \u001b[38;5;21mtoken_issue\u001b[39m(\u001b[38;5;28mself\u001b[39m: \u001b[38;5;124m\"\u001b[39m\u001b[38;5;124mPyKis\u001b[39m\u001b[38;5;124m\"\u001b[39m, domain: Literal[\u001b[38;5;124m\"\u001b[39m\u001b[38;5;124mreal\u001b[39m\u001b[38;5;124m\"\u001b[39m, \u001b[38;5;124m\"\u001b[39m\u001b[38;5;124mvirtual\u001b[39m\u001b[38;5;124m\"\u001b[39m] \u001b[38;5;241m|\u001b[39m \u001b[38;5;28;01mNone\u001b[39;00m \u001b[38;5;241m=\u001b[39m \u001b[38;5;28;01mNone\u001b[39;00m) \u001b[38;5;241m-\u001b[39m\u001b[38;5;241m>\u001b[39m KisAccessToken:\n\u001b[1;32m     73\u001b[0m \u001b[38;5;250m    \u001b[39m\u001b[38;5;124;03m\"\"\"\u001b[39;00m\n\u001b[1;32m     74\u001b[0m \u001b[38;5;124;03m    API 접속 토큰을 발급합니다.\u001b[39;00m\n\u001b[1;32m     75\u001b[0m \n\u001b[1;32m     76\u001b[0m \u001b[38;5;124;03m    OAuth인증 -> 접근토큰발급(P)[인증-001]\u001b[39;00m\n\u001b[1;32m     77\u001b[0m \u001b[38;5;124;03m    (업데이트 날짜: 2023/09/05)\u001b[39;00m\n\u001b[1;32m     78\u001b[0m \u001b[38;5;124;03m    \"\"\"\u001b[39;00m\n\u001b[0;32m---> 79\u001b[0m     \u001b[38;5;28;01mreturn\u001b[39;00m \u001b[38;5;28;43mself\u001b[39;49m\u001b[38;5;241;43m.\u001b[39;49m\u001b[43mfetch\u001b[49m\u001b[43m(\u001b[49m\n\u001b[1;32m     80\u001b[0m \u001b[43m        \u001b[49m\u001b[38;5;124;43m\"\u001b[39;49m\u001b[38;5;124;43m/oauth2/tokenP\u001b[39;49m\u001b[38;5;124;43m\"\u001b[39;49m\u001b[43m,\u001b[49m\n\u001b[1;32m     81\u001b[0m \u001b[43m        \u001b[49m\u001b[43mbody\u001b[49m\u001b[38;5;241;43m=\u001b[39;49m\u001b[43m{\u001b[49m\n\u001b[1;32m     82\u001b[0m \u001b[43m            \u001b[49m\u001b[38;5;124;43m\"\u001b[39;49m\u001b[38;5;124;43mgrant_type\u001b[39;49m\u001b[38;5;124;43m\"\u001b[39;49m\u001b[43m:\u001b[49m\u001b[43m \u001b[49m\u001b[38;5;124;43m\"\u001b[39;49m\u001b[38;5;124;43mclient_credentials\u001b[39;49m\u001b[38;5;124;43m\"\u001b[39;49m\u001b[43m,\u001b[49m\n\u001b[1;32m     83\u001b[0m \u001b[43m        \u001b[49m\u001b[43m}\u001b[49m\u001b[43m,\u001b[49m\n\u001b[1;32m     84\u001b[0m \u001b[43m        \u001b[49m\u001b[43mappkey_location\u001b[49m\u001b[38;5;241;43m=\u001b[39;49m\u001b[38;5;124;43m\"\u001b[39;49m\u001b[38;5;124;43mbody\u001b[39;49m\u001b[38;5;124;43m\"\u001b[39;49m\u001b[43m,\u001b[49m\n\u001b[1;32m     85\u001b[0m \u001b[43m        \u001b[49m\u001b[43mresponse_type\u001b[49m\u001b[38;5;241;43m=\u001b[39;49m\u001b[43mKisAccessToken\u001b[49m\u001b[43m,\u001b[49m\n\u001b[1;32m     86\u001b[0m \u001b[43m        \u001b[49m\u001b[43mmethod\u001b[49m\u001b[38;5;241;43m=\u001b[39;49m\u001b[38;5;124;43m\"\u001b[39;49m\u001b[38;5;124;43mPOST\u001b[39;49m\u001b[38;5;124;43m\"\u001b[39;49m\u001b[43m,\u001b[49m\n\u001b[1;32m     87\u001b[0m \u001b[43m        \u001b[49m\u001b[43mdomain\u001b[49m\u001b[38;5;241;43m=\u001b[39;49m\u001b[43mdomain\u001b[49m\u001b[43m,\u001b[49m\n\u001b[1;32m     88\u001b[0m \u001b[43m        \u001b[49m\u001b[43mauth\u001b[49m\u001b[38;5;241;43m=\u001b[39;49m\u001b[38;5;28;43;01mFalse\u001b[39;49;00m\u001b[43m,\u001b[49m\n\u001b[1;32m     89\u001b[0m \u001b[43m        \u001b[49m\u001b[43mverbose\u001b[49m\u001b[38;5;241;43m=\u001b[39;49m\u001b[38;5;28;43;01mFalse\u001b[39;49;00m\u001b[43m,\u001b[49m\n\u001b[1;32m     90\u001b[0m \u001b[43m    \u001b[49m\u001b[43m)\u001b[49m\n",
      "File \u001b[0;32m~/miniconda3/envs/sb-fsts/lib/python3.12/site-packages/pykis/kis.py:626\u001b[0m, in \u001b[0;36mPyKis.fetch\u001b[0;34m(self, path, method, params, body, form, headers, domain, appkey_location, form_location, auth, api, continuous, response_type, verbose)\u001b[0m\n\u001b[1;32m    622\u001b[0m         headers \u001b[38;5;241m=\u001b[39m {}\n\u001b[1;32m    624\u001b[0m     headers[\u001b[38;5;124m\"\u001b[39m\u001b[38;5;124mtr_cont\u001b[39m\u001b[38;5;124m\"\u001b[39m] \u001b[38;5;241m=\u001b[39m \u001b[38;5;124m\"\u001b[39m\u001b[38;5;124mN\u001b[39m\u001b[38;5;124m\"\u001b[39m\n\u001b[0;32m--> 626\u001b[0m response \u001b[38;5;241m=\u001b[39m \u001b[38;5;28;43mself\u001b[39;49m\u001b[38;5;241;43m.\u001b[39;49m\u001b[43mrequest\u001b[49m\u001b[43m(\u001b[49m\n\u001b[1;32m    627\u001b[0m \u001b[43m    \u001b[49m\u001b[43mpath\u001b[49m\u001b[43m,\u001b[49m\n\u001b[1;32m    628\u001b[0m \u001b[43m    \u001b[49m\u001b[43mmethod\u001b[49m\u001b[38;5;241;43m=\u001b[39;49m\u001b[43mmethod\u001b[49m\u001b[43m,\u001b[49m\n\u001b[1;32m    629\u001b[0m \u001b[43m    \u001b[49m\u001b[43mparams\u001b[49m\u001b[38;5;241;43m=\u001b[39;49m\u001b[43mparams\u001b[49m\u001b[43m,\u001b[49m\n\u001b[1;32m    630\u001b[0m \u001b[43m    \u001b[49m\u001b[43mbody\u001b[49m\u001b[38;5;241;43m=\u001b[39;49m\u001b[43mbody\u001b[49m\u001b[43m,\u001b[49m\n\u001b[1;32m    631\u001b[0m \u001b[43m    \u001b[49m\u001b[43mform\u001b[49m\u001b[38;5;241;43m=\u001b[39;49m\u001b[43mform\u001b[49m\u001b[43m,\u001b[49m\n\u001b[1;32m    632\u001b[0m \u001b[43m    \u001b[49m\u001b[43mheaders\u001b[49m\u001b[38;5;241;43m=\u001b[39;49m\u001b[43mheaders\u001b[49m\u001b[43m,\u001b[49m\n\u001b[1;32m    633\u001b[0m \u001b[43m    \u001b[49m\u001b[43mdomain\u001b[49m\u001b[38;5;241;43m=\u001b[39;49m\u001b[43mdomain\u001b[49m\u001b[43m,\u001b[49m\n\u001b[1;32m    634\u001b[0m \u001b[43m    \u001b[49m\u001b[43mappkey_location\u001b[49m\u001b[38;5;241;43m=\u001b[39;49m\u001b[43mappkey_location\u001b[49m\u001b[43m,\u001b[49m\n\u001b[1;32m    635\u001b[0m \u001b[43m    \u001b[49m\u001b[43mform_location\u001b[49m\u001b[38;5;241;43m=\u001b[39;49m\u001b[43mform_location\u001b[49m\u001b[43m,\u001b[49m\n\u001b[1;32m    636\u001b[0m \u001b[43m    \u001b[49m\u001b[43mauth\u001b[49m\u001b[38;5;241;43m=\u001b[39;49m\u001b[43mauth\u001b[49m\u001b[43m,\u001b[49m\n\u001b[1;32m    637\u001b[0m \u001b[43m\u001b[49m\u001b[43m)\u001b[49m\n\u001b[1;32m    639\u001b[0m data \u001b[38;5;241m=\u001b[39m response\u001b[38;5;241m.\u001b[39mjson()\n\u001b[1;32m    640\u001b[0m data[\u001b[38;5;124m\"\u001b[39m\u001b[38;5;124m__response__\u001b[39m\u001b[38;5;124m\"\u001b[39m] \u001b[38;5;241m=\u001b[39m response\n",
      "File \u001b[0;32m~/miniconda3/envs/sb-fsts/lib/python3.12/site-packages/pykis/kis.py:594\u001b[0m, in \u001b[0;36mPyKis.request\u001b[0;34m(self, path, method, params, body, form, headers, domain, appkey_location, form_location, auth)\u001b[0m\n\u001b[1;32m    591\u001b[0m         \u001b[38;5;28mself\u001b[39m\u001b[38;5;241m.\u001b[39m_virtual_token \u001b[38;5;241m=\u001b[39m \u001b[38;5;28;01mNone\u001b[39;00m\n\u001b[1;32m    593\u001b[0m \u001b[38;5;28;01mcase\u001b[39;00m\u001b[38;5;250m \u001b[39m\u001b[38;5;28;01m_\u001b[39;00m:\n\u001b[0;32m--> 594\u001b[0m     \u001b[38;5;28;01mraise\u001b[39;00m KisHTTPError(response\u001b[38;5;241m=\u001b[39mresp)\n",
      "\u001b[0;31mKisHTTPError\u001b[0m: HTTP 요청에 실패했습니다.\n(403) Forbidden\n{\"error_description\":\"접근토큰 발급 잠시 후 다시 시도하세요(1분당 1회)\",\"error_code\":\"EGW00133\"}\n\n[  Request  ]: POST https://openapi.koreainvestment.com:9443/oauth2/tokenP\nHeaders: {'User-Agent': 'PyKis/2.1.3', 'Accept-Encoding': 'gzip, deflate, zstd', 'Accept': '*/*', 'Connection': 'keep-alive', 'Content-Length': '283', 'Content-Type': 'application/json'}\nParams: {}\nBody: [PROTECTED BODY]"
     ]
    }
   ],
   "source": [
    "kis = PyKis(\n",
    "    id=kis_id,             # 한국투자증권 HTS ID\n",
    "    appkey=app_key,    # 발급받은 App Key\n",
    "    secretkey=secret_key, # 발급받은 App Secret\n",
    "    account=account, # 계좌번호 (예: \"12345678-01\")\n",
    "    token=KisAccessToken.load(\"token.json\"),\n",
    "    keep_token=True           # 토큰 자동 갱신 여부\n",
    ")\n",
    "kis.token.save(\"token.json\")"
   ]
  },
  {
   "cell_type": "code",
   "execution_count": 50,
   "metadata": {},
   "outputs": [],
   "source": [
    "s3_client.upload_file(\n",
    "    Filename=\"token.json\",\n",
    "    Bucket=bucket_name,\n",
    "    Key=token_save_path\n",
    ")"
   ]
  },
  {
   "cell_type": "code",
   "execution_count": null,
   "metadata": {},
   "outputs": [],
   "source": []
  }
 ],
 "metadata": {
  "kernelspec": {
   "display_name": "sb-fsts",
   "language": "python",
   "name": "python3"
  },
  "language_info": {
   "codemirror_mode": {
    "name": "ipython",
    "version": 3
   },
   "file_extension": ".py",
   "mimetype": "text/x-python",
   "name": "python",
   "nbconvert_exporter": "python",
   "pygments_lexer": "ipython3",
   "version": "3.12.8"
  }
 },
 "nbformat": 4,
 "nbformat_minor": 2
}
