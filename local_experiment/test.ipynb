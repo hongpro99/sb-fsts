{
 "cells": [
  {
   "cell_type": "code",
   "execution_count": null,
   "metadata": {},
   "outputs": [],
   "source": [
    "import requests\n",
    "\n",
    "\n",
    "webhook_url = 'https://discord.com/api/webhooks/1313346849838596106/6Rn_8BNDeL9bMYfFtqscpu4hPah5c2RsNl0rBiPoSw_Qb9RXgDdVHoHmwEuStPv_ufnV'  # 복사한 Discord 웹훅 URL로 변경\n",
    "username = \"Stock Trading Bot\"\n",
    "\n",
    "message = \"매수가 완료되었습니다.\"\n",
    "\n",
    "data = {\n",
    "    \"content\": message,\n",
    "    \"username\": username,  # 원하는 이름으로 설정 가능\n",
    "}\n",
    "\n",
    "# 요청 보내기\n",
    "response = requests.post(webhook_url, json=data)\n",
    "\n",
    "# 응답 확인\n",
    "if response.status_code == 204:\n",
    "    print(\"메시지가 성공적으로 전송되었습니다.\")\n",
    "else:\n",
    "    print(f\"메시지 전송 실패: {response.status_code}, {response.text}\")"
   ]
  },
  {
   "cell_type": "code",
   "execution_count": 2,
   "metadata": {},
   "outputs": [],
   "source": [
    "import os\n",
    "\n",
    "# 루트 경로 설정 (예: 프로젝트 루트 경로)\n",
    "project_root = \"/Users/hsh/dev_project/sb-fsts\"\n",
    "os.chdir(project_root)  # 루트 경로로 변경"
   ]
  },
  {
   "cell_type": "code",
   "execution_count": 2,
   "metadata": {},
   "outputs": [
    {
     "name": "stderr",
     "output_type": "stream",
     "text": [
      "0.00s - Debugger warning: It seems that frozen modules are being used, which may\n",
      "0.00s - make the debugger miss breakpoints. Please pass -Xfrozen_modules=off\n",
      "0.00s - to python to disable frozen modules.\n",
      "0.00s - Note: Debugging will proceed. Set PYDEVD_DISABLE_FILE_VALIDATION=1 to disable this validation.\n"
     ]
    },
    {
     "name": "stdout",
     "output_type": "stream",
     "text": [
      "실전투자 API 객체가 성공적으로 생성되었습니다.\n",
      "dreaminmindbot의 자동 트레이딩을 시작합니다\n",
      "sorted_result : [StockSymbol(created_at=1745301561544, symbol='358570', symbol_name='지아이이노베이션', type='kosdaq150'), StockSymbol(created_at=1745301588718, symbol='131290', symbol_name='티에스이', type='kosdaq150'), StockSymbol(created_at=1745301571979, symbol='036830', symbol_name='솔브레인홀딩스', type='kosdaq150'), StockSymbol(created_at=1745301542856, symbol='357780', symbol_name='솔브레인', type='kosdaq150'), StockSymbol(created_at=1745301608461, symbol='144510', symbol_name='지씨셀', type='kosdaq150'), StockSymbol(created_at=1745301532106, symbol='035900', symbol_name='JYP Ent.', type='kosdaq150'), StockSymbol(created_at=1745301602379, symbol='114840', symbol_name='아이패밀리에스씨', type='kosdaq150'), StockSymbol(created_at=1745301535540, symbol='257720', symbol_name='실리콘투', type='kosdaq150'), StockSymbol(created_at=1745301529956, symbol='000250', symbol_name='삼천당제약', type='kosdaq150'), StockSymbol(created_at=1745301540653, symbol='005290', symbol_name='동진쎄미켐', type='kosdaq150'), StockSymbol(created_at=1745301571359, symbol='003380', symbol_name='하림지주', type='kosdaq150'), StockSymbol(created_at=1745301550654, symbol='122870', symbol_name='와이지엔터테인먼트', type='kosdaq150'), StockSymbol(created_at=1745301610803, symbol='352480', symbol_name='씨앤씨인터내셔널', type='kosdaq150'), StockSymbol(created_at=1745301595266, symbol='069080', symbol_name='웹젠', type='kosdaq150'), StockSymbol(created_at=1745301544808, symbol='214370', symbol_name='케어젠', type='kosdaq150'), StockSymbol(created_at=1745301600076, symbol='006730', symbol_name='서부T&D', type='kosdaq150'), StockSymbol(created_at=1745301576510, symbol='348210', symbol_name='넥스틴', type='kosdaq150'), StockSymbol(created_at=1745301612568, symbol='418550', symbol_name='제이오', type='kosdaq150'), StockSymbol(created_at=1745301578862, symbol='030520', symbol_name='한글과컴퓨터', type='kosdaq150'), StockSymbol(created_at=1745301527878, symbol='087010', symbol_name='펩트론', type='kosdaq150'), StockSymbol(created_at=1745301613156, symbol='394280', symbol_name='오픈엣지테크놀로지', type='kosdaq150'), StockSymbol(created_at=1745301617115, symbol='095500', symbol_name='미래나노텍', type='kosdaq150'), StockSymbol(created_at=1745301536229, symbol='403870', symbol_name='HPSP', type='kosdaq150'), StockSymbol(created_at=1745301538424, symbol='348370', symbol_name='엔켐', type='kosdaq150'), StockSymbol(created_at=1745301554407, symbol='293490', symbol_name='카카오게임즈', type='kosdaq150'), StockSymbol(created_at=1745301598251, symbol='091700', symbol_name='파트론', type='kosdaq150'), StockSymbol(created_at=1745301559965, symbol='067160', symbol_name='SOOP', type='kosdaq150'), StockSymbol(created_at=1745301525359, symbol='277810', symbol_name='레인보우로보틱스', type='kosdaq150'), StockSymbol(created_at=1745301597665, symbol='064550', symbol_name='바이오니아', type='kosdaq150'), StockSymbol(created_at=1745301563898, symbol='232140', symbol_name='와이씨', type='kosdaq150'), StockSymbol(created_at=1745301539075, symbol='328130', symbol_name='루닛', type='kosdaq150'), StockSymbol(created_at=1745301528663, symbol='214450', symbol_name='파마리서치', type='kosdaq150'), StockSymbol(created_at=1745301609622, symbol='032500', symbol_name='케이엠더블유', type='kosdaq150'), StockSymbol(created_at=1745301591088, symbol='272290', symbol_name='이녹스첨단소재', type='kosdaq150'), StockSymbol(created_at=1745301562136, symbol='281740', symbol_name='레이크머티리얼즈', type='kosdaq150'), StockSymbol(created_at=1745301601353, symbol='365340', symbol_name='성일하이텍', type='kosdaq150'), StockSymbol(created_at=1745301602962, symbol='218410', symbol_name='RFHIC', type='kosdaq150'), StockSymbol(created_at=1745301553649, symbol='089030', symbol_name='테크윙', type='kosdaq150'), StockSymbol(created_at=1745301565066, symbol='101490', symbol_name='에스앤에스텍', type='kosdaq150'), StockSymbol(created_at=1745301592895, symbol='032190', symbol_name='다우데이타', type='kosdaq150'), StockSymbol(created_at=1745301594656, symbol='080220', symbol_name='제주반도체', type='kosdaq150'), StockSymbol(created_at=1745301534263, symbol='068760', symbol_name='셀트리온제약', type='kosdaq150'), StockSymbol(created_at=1745301537764, symbol='036930', symbol_name='주성엔지니어링', type='kosdaq150'), StockSymbol(created_at=1745301592252, symbol='015750', symbol_name='성우하이텍', type='kosdaq150'), StockSymbol(created_at=1745301531408, symbol='041510', symbol_name='에스엠', type='kosdaq150'), StockSymbol(created_at=1745301610209, symbol='420770', symbol_name='기가비스', type='kosdaq150'), StockSymbol(created_at=1745301605421, symbol='179900', symbol_name='유티아이', type='kosdaq150'), StockSymbol(created_at=1745301606065, symbol='108860', symbol_name='셀바스AI', type='kosdaq150'), StockSymbol(created_at=1745301618872, symbol='118990', symbol_name='모트렉스', type='kosdaq150'), StockSymbol(created_at=1745301574710, symbol='058970', symbol_name='엠로', type='kosdaq150'), StockSymbol(created_at=1745301604230, symbol='094360', symbol_name='칩스앤미디어', type='kosdaq150'), StockSymbol(created_at=1745301584204, symbol='215200', symbol_name='메가스터디교육', type='kosdaq150'), StockSymbol(created_at=1745301555680, symbol='240810', symbol_name='원익IPS', type='kosdaq150'), StockSymbol(created_at=1745301570115, symbol='086450', symbol_name='동국제약', type='kosdaq150'), StockSymbol(created_at=1745301598855, symbol='253590', symbol_name='네오셈', type='kosdaq150'), StockSymbol(created_at=1745301606666, symbol='060280', symbol_name='큐렉소', type='kosdaq150'), StockSymbol(created_at=1745301532923, symbol='263750', symbol_name='펄어비스', type='kosdaq150'), StockSymbol(created_at=1745301526087, symbol='145020', symbol_name='휴젤', type='kosdaq150'), StockSymbol(created_at=1745301583031, symbol='009520', symbol_name='포스코엠텍', type='kosdaq150'), StockSymbol(created_at=1745301564485, symbol='053800', symbol_name='안랩', type='kosdaq150'), StockSymbol(created_at=1745301557507, symbol='376300', symbol_name='디어유', type='kosdaq150'), StockSymbol(created_at=1745301619487, symbol='033640', symbol_name='네패스', type='kosdaq150'), StockSymbol(created_at=1745301566272, symbol='031980', symbol_name='피에스케이홀딩스', type='kosdaq150'), StockSymbol(created_at=1745301523031, symbol='196170', symbol_name='알테오젠', type='kosdaq150'), StockSymbol(created_at=1745301560952, symbol='098460', symbol_name='고영', type='kosdaq150'), StockSymbol(created_at=1745301543590, symbol='042000', symbol_name='카페24', type='kosdaq150'), StockSymbol(created_at=1745301534911, symbol='310210', symbol_name='보로노이', type='kosdaq150'), StockSymbol(created_at=1745301565662, symbol='084370', symbol_name='유진테크', type='kosdaq150'), StockSymbol(created_at=1745301558148, symbol='112040', symbol_name='위메이드', type='kosdaq150'), StockSymbol(created_at=1745301577658, symbol='383310', symbol_name='에코프로에이치엔', type='kosdaq150'), StockSymbol(created_at=1745301600712, symbol='036810', symbol_name='에프에스티', type='kosdaq150'), StockSymbol(created_at=1745301593476, symbol='099190', symbol_name='아이센스', type='kosdaq150'), StockSymbol(created_at=1745301572558, symbol='183300', symbol_name='코미코', type='kosdaq150'), StockSymbol(created_at=1745301578292, symbol='222080', symbol_name='씨아이에스', type='kosdaq150'), StockSymbol(created_at=1745301555075, symbol='178320', symbol_name='서진시스템', type='kosdaq150'), StockSymbol(created_at=1745301597063, symbol='095610', symbol_name='테스', type='kosdaq150'), StockSymbol(created_at=1745301575289, symbol='025980', symbol_name='아난티', type='kosdaq150'), StockSymbol(created_at=1745301580649, symbol='319660', symbol_name='피에스케이', type='kosdaq150'), StockSymbol(created_at=1745301573717, symbol='121600', symbol_name='나노신소재', type='kosdaq150'), StockSymbol(created_at=1745301527299, symbol='214150', symbol_name='클래시스', type='kosdaq150'), StockSymbol(created_at=1745301524784, symbol='086520', symbol_name='에코프로', type='kosdaq150'), StockSymbol(created_at=1745301590500, symbol='317330', symbol_name='덕산테코피아', type='kosdaq150'), StockSymbol(created_at=1745301614328, symbol='372170', symbol_name='윤성에프앤씨', type='kosdaq150'), StockSymbol(created_at=1745301558746, symbol='137400', symbol_name='피엔티', type='kosdaq150'), StockSymbol(created_at=1745301582426, symbol='053030', symbol_name='바이넥스', type='kosdaq150'), StockSymbol(created_at=1745301529271, symbol='298380', symbol_name='에이비엘바이오', type='kosdaq150'), StockSymbol(created_at=1745301583616, symbol='241710', symbol_name='코스메카코리아', type='kosdaq150'), StockSymbol(created_at=1745301620076, symbol='425040', symbol_name='티이엠씨', type='kosdaq150'), StockSymbol(created_at=1745301584813, symbol='095660', symbol_name='네오위즈', type='kosdaq150'), StockSymbol(created_at=1745301587152, symbol='399720', symbol_name='가온칩스', type='kosdaq150'), StockSymbol(created_at=1745301542187, symbol='140860', symbol_name='파크시스템스', type='kosdaq150'), StockSymbol(created_at=1745301539850, symbol='237690', symbol_name='에스티팜', type='kosdaq150'), StockSymbol(created_at=1745301580052, symbol='048410', symbol_name='현대바이오', type='kosdaq150'), StockSymbol(created_at=1745301613722, symbol='049070', symbol_name='인탑스', type='kosdaq150'), StockSymbol(created_at=1745301581218, symbol='166090', symbol_name='하나머티리얼즈', type='kosdaq150'), StockSymbol(created_at=1745301614913, symbol='035600', symbol_name='KG이니시스', type='kosdaq150'), StockSymbol(created_at=1745301567653, symbol='067310', symbol_name='하나마이크론', type='kosdaq150'), StockSymbol(created_at=1745301581843, symbol='222800', symbol_name='심텍', type='kosdaq150'), StockSymbol(created_at=1745301568931, symbol='213420', symbol_name='덕산네오룩스', type='kosdaq150'), StockSymbol(created_at=1745301566918, symbol='336570', symbol_name='원텍', type='kosdaq150'), StockSymbol(created_at=1745301591684, symbol='194480', symbol_name='데브시스터즈', type='kosdaq150'), StockSymbol(created_at=1745301533584, symbol='007390', symbol_name='네이처셀', type='kosdaq150'), StockSymbol(created_at=1745301530703, symbol='058470', symbol_name='리노공업', type='kosdaq150'), StockSymbol(created_at=1745301616516, symbol='393890', symbol_name='더블유씨피', type='kosdaq150'), StockSymbol(created_at=1745301595860, symbol='025900', symbol_name='동화기업', type='kosdaq150'), StockSymbol(created_at=1745301577099, symbol='058610', symbol_name='에스피지', type='kosdaq150'), StockSymbol(created_at=1745301599455, symbol='215000', symbol_name='골프존', type='kosdaq150'), StockSymbol(created_at=1745301607251, symbol='278280', symbol_name='천보', type='kosdaq150'), StockSymbol(created_at=1745301579468, symbol='041190', symbol_name='우리기술투자', type='kosdaq150'), StockSymbol(created_at=1745301556938, symbol='095340', symbol_name='ISC', type='kosdaq150'), StockSymbol(created_at=1745301617662, symbol='084850', symbol_name='아이티엠반도체', type='kosdaq150'), StockSymbol(created_at=1745301607855, symbol='171090', symbol_name='선익시스템', type='kosdaq150'), StockSymbol(created_at=1745301552921, symbol='039200', symbol_name='오스코텍', type='kosdaq150'), StockSymbol(created_at=1745301569542, symbol='417200', symbol_name='LS머트리얼즈', type='kosdaq150'), StockSymbol(created_at=1745301609021, symbol='068240', symbol_name='다원시스', type='kosdaq150'), StockSymbol(created_at=1745301573134, symbol='085660', symbol_name='차바이오텍', type='kosdaq150'), StockSymbol(created_at=1745301588140, symbol='290650', symbol_name='엘앤씨바이오', type='kosdaq150'), StockSymbol(created_at=1745301547497, symbol='018290', symbol_name='브이티', type='kosdaq150'), StockSymbol(created_at=1745301596463, symbol='189300', symbol_name='인텔리안테크', type='kosdaq150'), StockSymbol(created_at=1745301575922, symbol='025320', symbol_name='시노펙스', type='kosdaq150'), StockSymbol(created_at=1745301526640, symbol='141080', symbol_name='리가켐바이오', type='kosdaq150'), StockSymbol(created_at=1745301563329, symbol='204270', symbol_name='제이앤티씨', type='kosdaq150'), StockSymbol(created_at=1745301541399, symbol='039030', symbol_name='이오테크닉스', type='kosdaq150'), StockSymbol(created_at=1745301552043, symbol='140410', symbol_name='메지온', type='kosdaq150'), StockSymbol(created_at=1745301604838, symbol='200130', symbol_name='콜마비앤에이치', type='kosdaq150'), StockSymbol(created_at=1745301568310, symbol='056190', symbol_name='에스에프에이', type='kosdaq150'), StockSymbol(created_at=1745301545725, symbol='082270', symbol_name='젬백스', type='kosdaq150'), StockSymbol(created_at=1745301589888, symbol='131970', symbol_name='두산테스나', type='kosdaq150'), StockSymbol(created_at=1745301615937, symbol='053610', symbol_name='프로텍', type='kosdaq150'), StockSymbol(created_at=1745301546585, symbol='096530', symbol_name='씨젠', type='kosdaq150'), StockSymbol(created_at=1745301548421, symbol='253450', symbol_name='스튜디오드래곤', type='kosdaq150'), StockSymbol(created_at=1745301594075, symbol='074600', symbol_name='원익QnC', type='kosdaq150'), StockSymbol(created_at=1745301562708, symbol='225570', symbol_name='넥슨게임즈', type='kosdaq150'), StockSymbol(created_at=1745301585402, symbol='033100', symbol_name='제룡전기', type='kosdaq150'), StockSymbol(created_at=1745301559364, symbol='064760', symbol_name='티씨케이', type='kosdaq150'), StockSymbol(created_at=1745301611981, symbol='267980', symbol_name='매일유업', type='kosdaq150'), StockSymbol(created_at=1745301537003, symbol='065350', symbol_name='신성델타테크', type='kosdaq150'), StockSymbol(created_at=1745301549960, symbol='078600', symbol_name='대주전자재료', type='kosdaq150'), StockSymbol(created_at=1745301551280, symbol='086900', symbol_name='메디톡스', type='kosdaq150'), StockSymbol(created_at=1745301556315, symbol='195940', symbol_name='HK이노엔', type='kosdaq150'), StockSymbol(created_at=1745301524207, symbol='028300', symbol_name='HLB', type='kosdaq150'), StockSymbol(created_at=1745301586565, symbol='078340', symbol_name='컴투스', type='kosdaq150'), StockSymbol(created_at=1745301570723, symbol='115450', symbol_name='HLB테라퓨틱스', type='kosdaq150'), StockSymbol(created_at=1745301611391, symbol='060250', symbol_name='NHN KCP', type='kosdaq150'), StockSymbol(created_at=1745301589307, symbol='101360', symbol_name='에코앤드림', type='kosdaq150'), StockSymbol(created_at=1745301618289, symbol='091120', symbol_name='이엠텍', type='kosdaq150'), StockSymbol(created_at=1745301523650, symbol='247540', symbol_name='에코프로비엠', type='kosdaq150'), StockSymbol(created_at=1745301603644, symbol='046890', symbol_name='서울반도체', type='kosdaq150'), StockSymbol(created_at=1745301585969, symbol='036540', symbol_name='SFA반도체', type='kosdaq150'), StockSymbol(created_at=1745301549191, symbol='035760', symbol_name='CJ ENM', type='kosdaq150')]\n",
      "🚫 035720 - 매입금액 0원: 손익률 계산 생략\n",
      "🚫 237690 - 매입금액 0원: 손익률 계산 생략\n",
      "🚫 377300 - 매입금액 0원: 손익률 계산 생략\n",
      "------ dreaminmindbot의 계좌 익절/손절이 완료되었습니다. 이제부터 주식 자동 트레이딩을 시작합니다!\n",
      "메시지가 성공적으로 전송되었습니다.\n",
      "\u001b[1;33m[07/01 18:26:13] WARNING: API 호출 횟수를 초과하였습니다.\u001b[0m\n",
      "\u001b[1;33m[07/01 18:26:13] WARNING: API 호출 횟수를 초과하여 호출 유량 획득까지 대기합니다.\u001b[0m\n",
      "\u001b[1;33m[07/01 18:26:14] WARNING: API 호출 횟수를 초과하여 호출 유량 획득까지 대기합니다.\u001b[0m\n",
      "\u001b[1;33m[07/01 18:26:15] WARNING: API 호출 횟수를 초과하여 호출 유량 획득까지 대기합니다.\u001b[0m\n",
      "\u001b[1;33m[07/01 18:26:17] WARNING: API 호출 횟수를 초과하여 호출 유량 획득까지 대기합니다.\u001b[0m\n",
      "\u001b[1;33m[07/01 18:26:18] WARNING: API 호출 횟수를 초과하여 호출 유량 획득까지 대기합니다.\u001b[0m\n",
      "\u001b[1;33m[07/01 18:26:19] WARNING: API 호출 횟수를 초과하여 호출 유량 획득까지 대기합니다.\u001b[0m\n",
      "\u001b[1;33m[07/01 18:26:20] WARNING: API 호출 횟수를 초과하여 호출 유량 획득까지 대기합니다.\u001b[0m\n",
      "\u001b[1;33m[07/01 18:26:21] WARNING: API 호출 횟수를 초과하여 호출 유량 획득까지 대기합니다.\u001b[0m\n",
      "\u001b[1;33m[07/01 18:26:21] WARNING: API 호출 횟수를 초과하였습니다.\u001b[0m\n",
      "\u001b[1;33m[07/01 18:26:22] WARNING: API 호출 횟수를 초과하여 호출 유량 획득까지 대기합니다.\u001b[0m\n",
      "\u001b[1;33m[07/01 18:26:23] WARNING: API 호출 횟수를 초과하여 호출 유량 획득까지 대기합니다.\u001b[0m\n",
      "\u001b[1;33m[07/01 18:26:24] WARNING: API 호출 횟수를 초과하여 호출 유량 획득까지 대기합니다.\u001b[0m\n",
      "\u001b[1;33m[07/01 18:26:25] WARNING: API 호출 횟수를 초과하여 호출 유량 획득까지 대기합니다.\u001b[0m\n",
      "\u001b[1;33m[07/01 18:26:26] WARNING: API 호출 횟수를 초과하여 호출 유량 획득까지 대기합니다.\u001b[0m\n",
      "\u001b[1;33m[07/01 18:26:27] WARNING: API 호출 횟수를 초과하여 호출 유량 획득까지 대기합니다.\u001b[0m\n",
      "\u001b[1;33m[07/01 18:26:28] WARNING: API 호출 횟수를 초과하여 호출 유량 획득까지 대기합니다.\u001b[0m\n",
      "\u001b[1;33m[07/01 18:26:29] WARNING: API 호출 횟수를 초과하여 호출 유량 획득까지 대기합니다.\u001b[0m\n",
      "\u001b[1;33m[07/01 18:26:30] WARNING: API 호출 횟수를 초과하여 호출 유량 획득까지 대기합니다.\u001b[0m\n",
      "\u001b[1;33m[07/01 18:26:31] WARNING: API 호출 횟수를 초과하여 호출 유량 획득까지 대기합니다.\u001b[0m\n",
      "\u001b[1;33m[07/01 18:26:32] WARNING: API 호출 횟수를 초과하여 호출 유량 획득까지 대기합니다.\u001b[0m\n",
      "\u001b[1;33m[07/01 18:26:33] WARNING: API 호출 횟수를 초과하여 호출 유량 획득까지 대기합니다.\u001b[0m\n",
      "\u001b[1;33m[07/01 18:26:34] WARNING: API 호출 횟수를 초과하여 호출 유량 획득까지 대기합니다.\u001b[0m\n",
      "리노공업 지표 계산 실패. 사유 : ('Connection aborted.', RemoteDisconnected('Remote end closed connection without response'))\n",
      "\u001b[1;33m[07/01 18:26:35] WARNING: API 호출 횟수를 초과하여 호출 유량 획득까지 대기합니다.\u001b[0m\n",
      "\u001b[1;33m[07/01 18:26:37] WARNING: API 호출 횟수를 초과하여 호출 유량 획득까지 대기합니다.\u001b[0m\n",
      "\u001b[1;33m[07/01 18:26:38] WARNING: API 호출 횟수를 초과하여 호출 유량 획득까지 대기합니다.\u001b[0m\n",
      "\u001b[1;33m[07/01 18:26:39] WARNING: API 호출 횟수를 초과하여 호출 유량 획득까지 대기합니다.\u001b[0m\n",
      "\u001b[1;33m[07/01 18:26:40] WARNING: API 호출 횟수를 초과하여 호출 유량 획득까지 대기합니다.\u001b[0m\n",
      "\u001b[1;33m[07/01 18:26:41] WARNING: API 호출 횟수를 초과하여 호출 유량 획득까지 대기합니다.\u001b[0m\n",
      "\u001b[1;33m[07/01 18:26:42] WARNING: API 호출 횟수를 초과하여 호출 유량 획득까지 대기합니다.\u001b[0m\n",
      "\u001b[1;33m[07/01 18:26:43] WARNING: API 호출 횟수를 초과하여 호출 유량 획득까지 대기합니다.\u001b[0m\n",
      "\u001b[1;33m[07/01 18:26:44] WARNING: API 호출 횟수를 초과하여 호출 유량 획득까지 대기합니다.\u001b[0m\n",
      "\u001b[1;33m[07/01 18:26:45] WARNING: API 호출 횟수를 초과하여 호출 유량 획득까지 대기합니다.\u001b[0m\n"
     ]
    },
    {
     "name": "stderr",
     "output_type": "stream",
     "text": [
      "/Users/hsh/dev_project/sb-fsts/app/utils/auto_trading_bot.py:2691: UserWarning: Boolean Series key will be reindexed to match DataFrame index.\n",
      "  valid = df.iloc[:max_confirmed_idx][df['horizontal_low'].notna()]\n",
      "/Users/hsh/dev_project/sb-fsts/app/utils/auto_trading_bot.py:2706: UserWarning: Boolean Series key will be reindexed to match DataFrame index.\n",
      "  valid = df.iloc[:max_confirmed_idx][df['horizontal_high'].notna()]\n",
      "/Users/hsh/dev_project/sb-fsts/app/utils/auto_trading_bot.py:2691: UserWarning: Boolean Series key will be reindexed to match DataFrame index.\n",
      "  valid = df.iloc[:max_confirmed_idx][df['horizontal_low'].notna()]\n",
      "/Users/hsh/dev_project/sb-fsts/app/utils/auto_trading_bot.py:2706: UserWarning: Boolean Series key will be reindexed to match DataFrame index.\n",
      "  valid = df.iloc[:max_confirmed_idx][df['horizontal_high'].notna()]\n",
      "/Users/hsh/dev_project/sb-fsts/app/utils/auto_trading_bot.py:2691: UserWarning: Boolean Series key will be reindexed to match DataFrame index.\n",
      "  valid = df.iloc[:max_confirmed_idx][df['horizontal_low'].notna()]\n",
      "/Users/hsh/dev_project/sb-fsts/app/utils/auto_trading_bot.py:2706: UserWarning: Boolean Series key will be reindexed to match DataFrame index.\n",
      "  valid = df.iloc[:max_confirmed_idx][df['horizontal_high'].notna()]\n"
     ]
    },
    {
     "name": "stdout",
     "output_type": "stream",
     "text": [
      "💰 시뮬 중: 383310 / 날짜: 2025-07-01 / 사용가능한 예수금: 0\n",
      "💰 시뮬 중: 393890 / 날짜: 2025-07-01 / 사용가능한 예수금: 0\n",
      "💰 시뮬 중: 358570 / 날짜: 2025-07-01 / 사용가능한 예수금: 2,332,913\n"
     ]
    },
    {
     "ename": "KeyboardInterrupt",
     "evalue": "",
     "output_type": "error",
     "traceback": [
      "\u001b[0;31m---------------------------------------------------------------------------\u001b[0m",
      "\u001b[0;31mKeyboardInterrupt\u001b[0m                         Traceback (most recent call last)",
      "Cell \u001b[0;32mIn[2], line 3\u001b[0m\n\u001b[1;32m      1\u001b[0m \u001b[38;5;28;01mfrom\u001b[39;00m \u001b[38;5;21;01mapp\u001b[39;00m\u001b[38;5;21;01m.\u001b[39;00m\u001b[38;5;21;01mscheduler\u001b[39;00m\u001b[38;5;21;01m.\u001b[39;00m\u001b[38;5;21;01mauto_trading_scheduler\u001b[39;00m \u001b[38;5;28;01mimport\u001b[39;00m scheduled_trading\n\u001b[0;32m----> 3\u001b[0m \u001b[43mscheduled_trading\u001b[49m\u001b[43m(\u001b[49m\u001b[38;5;28;43mid\u001b[39;49m\u001b[38;5;241;43m=\u001b[39;49m\u001b[38;5;124;43m\"\u001b[39;49m\u001b[38;5;124;43mid1\u001b[39;49m\u001b[38;5;124;43m\"\u001b[39;49m\u001b[43m,\u001b[49m\u001b[43m \u001b[49m\u001b[43mvirtual\u001b[49m\u001b[38;5;241;43m=\u001b[39;49m\u001b[38;5;28;43;01mFalse\u001b[39;49;00m\u001b[43m,\u001b[49m\u001b[43m \u001b[49m\u001b[43mtrading_bot_name\u001b[49m\u001b[38;5;241;43m=\u001b[39;49m\u001b[38;5;124;43m\"\u001b[39;49m\u001b[38;5;124;43mdreaminmindbot\u001b[39;49m\u001b[38;5;124;43m\"\u001b[39;49m\u001b[43m,\u001b[49m\u001b[43m \u001b[49m\u001b[43msorting\u001b[49m\u001b[43m \u001b[49m\u001b[38;5;241;43m=\u001b[39;49m\u001b[43m \u001b[49m\u001b[38;5;124;43m\"\u001b[39;49m\u001b[38;5;124;43m\"\u001b[39;49m\u001b[43m)\u001b[49m\n",
      "File \u001b[0;32m~/dev_project/sb-fsts/app/scheduler/auto_trading_scheduler.py:155\u001b[0m, in \u001b[0;36mscheduled_trading\u001b[0;34m(id, virtual, trading_bot_name, sorting)\u001b[0m\n\u001b[1;32m    149\u001b[0m \u001b[38;5;28mprint\u001b[39m(\u001b[38;5;124mf\u001b[39m\u001b[38;5;124m'\u001b[39m\u001b[38;5;124m------ \u001b[39m\u001b[38;5;132;01m{\u001b[39;00mtrading_bot_name\u001b[38;5;132;01m}\u001b[39;00m\u001b[38;5;124m의 계좌 익절/손절이 완료되었습니다. 이제부터 주식 자동 트레이딩을 시작합니다!\u001b[39m\u001b[38;5;124m'\u001b[39m)            \n\u001b[1;32m    150\u001b[0m webhook\u001b[38;5;241m.\u001b[39msend_discord_webhook(\n\u001b[1;32m    151\u001b[0m \u001b[38;5;124mf\u001b[39m\u001b[38;5;124m'\u001b[39m\u001b[38;5;124m----------------------- \u001b[39m\u001b[38;5;132;01m{\u001b[39;00mtrading_bot_name\u001b[38;5;132;01m}\u001b[39;00m\u001b[38;5;124m의 계좌 익절/손절이 완료되었습니다. 이제부터 주식 자동 트레이딩을 시작합니다!\u001b[39m\u001b[38;5;124m'\u001b[39m,\n\u001b[1;32m    152\u001b[0m \u001b[38;5;124m\"\u001b[39m\u001b[38;5;124mtrading\u001b[39m\u001b[38;5;124m\"\u001b[39m\n\u001b[1;32m    153\u001b[0m )\n\u001b[0;32m--> 155\u001b[0m \u001b[43mtrading_bot\u001b[49m\u001b[38;5;241;43m.\u001b[39;49m\u001b[43mtrade\u001b[49m\u001b[43m(\u001b[49m\n\u001b[1;32m    156\u001b[0m \u001b[43m    \u001b[49m\u001b[43mtrading_bot_name\u001b[49m\u001b[38;5;241;43m=\u001b[39;49m\u001b[43mtrading_bot_name\u001b[49m\u001b[43m,\u001b[49m\n\u001b[1;32m    157\u001b[0m \u001b[43m    \u001b[49m\u001b[43mbuy_trading_logic\u001b[49m\u001b[38;5;241;43m=\u001b[39;49m\u001b[43mbuy_trading_logic\u001b[49m\u001b[43m,\u001b[49m\n\u001b[1;32m    158\u001b[0m \u001b[43m    \u001b[49m\u001b[43msell_trading_logic\u001b[49m\u001b[38;5;241;43m=\u001b[39;49m\u001b[43msell_trading_logic\u001b[49m\u001b[43m,\u001b[49m\n\u001b[1;32m    159\u001b[0m \u001b[43m    \u001b[49m\u001b[43mselected_symbols\u001b[49m\u001b[38;5;241;43m=\u001b[39;49m\u001b[43msorted_symbols\u001b[49m\u001b[43m,\u001b[49m\n\u001b[1;32m    160\u001b[0m \u001b[43m    \u001b[49m\u001b[43mstart_date\u001b[49m\u001b[38;5;241;43m=\u001b[39;49m\u001b[43mstart_date\u001b[49m\u001b[43m,\u001b[49m\n\u001b[1;32m    161\u001b[0m \u001b[43m    \u001b[49m\u001b[43mend_date\u001b[49m\u001b[38;5;241;43m=\u001b[39;49m\u001b[43mend_date\u001b[49m\u001b[43m,\u001b[49m\n\u001b[1;32m    162\u001b[0m \u001b[43m    \u001b[49m\u001b[43mtarget_trade_value_krw\u001b[49m\u001b[38;5;241;43m=\u001b[39;49m\u001b[43mtarget_trade_value_krw\u001b[49m\u001b[43m,\u001b[49m\n\u001b[1;32m    163\u001b[0m \u001b[43m    \u001b[49m\u001b[43mtarget_trade_value_ratio\u001b[49m\u001b[38;5;241;43m=\u001b[39;49m\u001b[43mtarget_trade_value_ratio\u001b[49m\u001b[43m,\u001b[49m\n\u001b[1;32m    164\u001b[0m \u001b[43m    \u001b[49m\u001b[43mmin_trade_value\u001b[49m\u001b[38;5;241;43m=\u001b[39;49m\u001b[43mmin_trade_value\u001b[49m\u001b[43m,\u001b[49m\n\u001b[1;32m    165\u001b[0m \u001b[43m    \u001b[49m\u001b[43minterval\u001b[49m\u001b[38;5;241;43m=\u001b[39;49m\u001b[43minterval\u001b[49m\u001b[43m,\u001b[49m\n\u001b[1;32m    166\u001b[0m \u001b[43m    \u001b[49m\u001b[43mmax_allocation\u001b[49m\u001b[43m \u001b[49m\u001b[38;5;241;43m=\u001b[39;49m\u001b[43m \u001b[49m\u001b[43mmax_allocation\u001b[49m\u001b[43m,\u001b[49m\n\u001b[1;32m    167\u001b[0m \u001b[43m    \u001b[49m\u001b[43mrsi_period\u001b[49m\u001b[38;5;241;43m=\u001b[39;49m\u001b[38;5;241;43m25\u001b[39;49m\u001b[43m,\u001b[49m\n\u001b[1;32m    168\u001b[0m \u001b[43m    \u001b[49m\u001b[43mtake_profit_logic\u001b[49m\u001b[38;5;241;43m=\u001b[39;49m\u001b[43mtake_profit_logic\u001b[49m\u001b[43m,\u001b[49m\n\u001b[1;32m    169\u001b[0m \u001b[43m    \u001b[49m\u001b[43mstop_loss_logic\u001b[49m\u001b[38;5;241;43m=\u001b[39;49m\u001b[43mstop_loss_logic\u001b[49m\u001b[43m,\u001b[49m\u001b[43m \u001b[49m\n\u001b[1;32m    170\u001b[0m \u001b[43m\u001b[49m\u001b[43m)\u001b[49m\n\u001b[1;32m    172\u001b[0m \u001b[38;5;66;03m#✅ enumerate로 종목 번호 부여 (1부터 시작)\u001b[39;00m\n\u001b[1;32m    173\u001b[0m \u001b[38;5;28;01mfor\u001b[39;00m i, stock \u001b[38;5;129;01min\u001b[39;00m \u001b[38;5;28menumerate\u001b[39m(sorted_symbols, start\u001b[38;5;241m=\u001b[39m\u001b[38;5;241m1\u001b[39m):\n",
      "File \u001b[0;32m~/dev_project/sb-fsts/app/utils/auto_trading_bot.py:1922\u001b[0m, in \u001b[0;36mAutoTradingBot.trade\u001b[0;34m(self, trading_bot_name, buy_trading_logic, sell_trading_logic, selected_symbols, start_date, end_date, target_trade_value_krw, target_trade_value_ratio, min_trade_value, interval, max_allocation, rsi_period, take_profit_logic, stop_loss_logic)\u001b[0m\n\u001b[1;32m   1919\u001b[0m sell_logic_reasons \u001b[38;5;241m=\u001b[39m []\n\u001b[1;32m   1921\u001b[0m \u001b[38;5;66;03m# 데이터 최신화\u001b[39;00m\n\u001b[0;32m-> 1922\u001b[0m holding[\u001b[38;5;124m'\u001b[39m\u001b[38;5;124mtimestamp_str\u001b[39m\u001b[38;5;124m'\u001b[39m] \u001b[38;5;241m=\u001b[39m \u001b[43mtimestamp_str\u001b[49m\n\u001b[1;32m   1923\u001b[0m holding[\u001b[38;5;124m'\u001b[39m\u001b[38;5;124mclose_price\u001b[39m\u001b[38;5;124m'\u001b[39m] \u001b[38;5;241m=\u001b[39m close_price\n\u001b[1;32m   1925\u001b[0m \u001b[38;5;66;03m# ✅ 매수 조건\u001b[39;00m\n",
      "File \u001b[0;32m~/miniconda3/envs/sb-fsts/lib/python3.12/site-packages/debugpy/_vendored/pydevd/_pydevd_bundle/pydevd_frame.py:988\u001b[0m, in \u001b[0;36mPyDBFrame.trace_dispatch\u001b[0;34m(self, frame, event, arg)\u001b[0m\n\u001b[1;32m    986\u001b[0m \u001b[38;5;66;03m# if thread has a suspend flag, we suspend with a busy wait\u001b[39;00m\n\u001b[1;32m    987\u001b[0m \u001b[38;5;28;01mif\u001b[39;00m info\u001b[38;5;241m.\u001b[39mpydev_state \u001b[38;5;241m==\u001b[39m STATE_SUSPEND:\n\u001b[0;32m--> 988\u001b[0m     \u001b[38;5;28;43mself\u001b[39;49m\u001b[38;5;241;43m.\u001b[39;49m\u001b[43mdo_wait_suspend\u001b[49m\u001b[43m(\u001b[49m\u001b[43mthread\u001b[49m\u001b[43m,\u001b[49m\u001b[43m \u001b[49m\u001b[43mframe\u001b[49m\u001b[43m,\u001b[49m\u001b[43m \u001b[49m\u001b[43mevent\u001b[49m\u001b[43m,\u001b[49m\u001b[43m \u001b[49m\u001b[43marg\u001b[49m\u001b[43m)\u001b[49m\n\u001b[1;32m    989\u001b[0m     \u001b[38;5;28;01mreturn\u001b[39;00m \u001b[38;5;28mself\u001b[39m\u001b[38;5;241m.\u001b[39mtrace_dispatch\n\u001b[1;32m    990\u001b[0m \u001b[38;5;28;01melse\u001b[39;00m:\n",
      "File \u001b[0;32m~/miniconda3/envs/sb-fsts/lib/python3.12/site-packages/debugpy/_vendored/pydevd/_pydevd_bundle/pydevd_frame.py:165\u001b[0m, in \u001b[0;36mPyDBFrame.do_wait_suspend\u001b[0;34m(self, *args, **kwargs)\u001b[0m\n\u001b[1;32m    164\u001b[0m \u001b[38;5;28;01mdef\u001b[39;00m \u001b[38;5;21mdo_wait_suspend\u001b[39m(\u001b[38;5;28mself\u001b[39m, \u001b[38;5;241m*\u001b[39margs, \u001b[38;5;241m*\u001b[39m\u001b[38;5;241m*\u001b[39mkwargs):\n\u001b[0;32m--> 165\u001b[0m     \u001b[38;5;28;43mself\u001b[39;49m\u001b[38;5;241;43m.\u001b[39;49m\u001b[43m_args\u001b[49m\u001b[43m[\u001b[49m\u001b[38;5;241;43m0\u001b[39;49m\u001b[43m]\u001b[49m\u001b[38;5;241;43m.\u001b[39;49m\u001b[43mdo_wait_suspend\u001b[49m\u001b[43m(\u001b[49m\u001b[38;5;241;43m*\u001b[39;49m\u001b[43margs\u001b[49m\u001b[43m,\u001b[49m\u001b[43m \u001b[49m\u001b[38;5;241;43m*\u001b[39;49m\u001b[38;5;241;43m*\u001b[39;49m\u001b[43mkwargs\u001b[49m\u001b[43m)\u001b[49m\n",
      "File \u001b[0;32m~/miniconda3/envs/sb-fsts/lib/python3.12/site-packages/debugpy/_vendored/pydevd/pydevd.py:2070\u001b[0m, in \u001b[0;36mPyDB.do_wait_suspend\u001b[0;34m(self, thread, frame, event, arg, exception_type)\u001b[0m\n\u001b[1;32m   2067\u001b[0m             from_this_thread\u001b[38;5;241m.\u001b[39mappend(frame_custom_thread_id)\n\u001b[1;32m   2069\u001b[0m     \u001b[38;5;28;01mwith\u001b[39;00m \u001b[38;5;28mself\u001b[39m\u001b[38;5;241m.\u001b[39m_threads_suspended_single_notification\u001b[38;5;241m.\u001b[39mnotify_thread_suspended(thread_id, thread, stop_reason):\n\u001b[0;32m-> 2070\u001b[0m         keep_suspended \u001b[38;5;241m=\u001b[39m \u001b[38;5;28;43mself\u001b[39;49m\u001b[38;5;241;43m.\u001b[39;49m\u001b[43m_do_wait_suspend\u001b[49m\u001b[43m(\u001b[49m\u001b[43mthread\u001b[49m\u001b[43m,\u001b[49m\u001b[43m \u001b[49m\u001b[43mframe\u001b[49m\u001b[43m,\u001b[49m\u001b[43m \u001b[49m\u001b[43mevent\u001b[49m\u001b[43m,\u001b[49m\u001b[43m \u001b[49m\u001b[43marg\u001b[49m\u001b[43m,\u001b[49m\u001b[43m \u001b[49m\u001b[43msuspend_type\u001b[49m\u001b[43m,\u001b[49m\u001b[43m \u001b[49m\u001b[43mfrom_this_thread\u001b[49m\u001b[43m,\u001b[49m\u001b[43m \u001b[49m\u001b[43mframes_tracker\u001b[49m\u001b[43m)\u001b[49m\n\u001b[1;32m   2072\u001b[0m frames_list \u001b[38;5;241m=\u001b[39m \u001b[38;5;28;01mNone\u001b[39;00m\n\u001b[1;32m   2074\u001b[0m \u001b[38;5;28;01mif\u001b[39;00m keep_suspended:\n\u001b[1;32m   2075\u001b[0m     \u001b[38;5;66;03m# This means that we should pause again after a set next statement.\u001b[39;00m\n",
      "File \u001b[0;32m~/miniconda3/envs/sb-fsts/lib/python3.12/site-packages/debugpy/_vendored/pydevd/pydevd.py:2106\u001b[0m, in \u001b[0;36mPyDB._do_wait_suspend\u001b[0;34m(self, thread, frame, event, arg, suspend_type, from_this_thread, frames_tracker)\u001b[0m\n\u001b[1;32m   2103\u001b[0m         \u001b[38;5;28mself\u001b[39m\u001b[38;5;241m.\u001b[39m_call_input_hook()\n\u001b[1;32m   2105\u001b[0m     \u001b[38;5;28mself\u001b[39m\u001b[38;5;241m.\u001b[39mprocess_internal_commands()\n\u001b[0;32m-> 2106\u001b[0m     \u001b[43mtime\u001b[49m\u001b[38;5;241;43m.\u001b[39;49m\u001b[43msleep\u001b[49m\u001b[43m(\u001b[49m\u001b[38;5;241;43m0.01\u001b[39;49m\u001b[43m)\u001b[49m\n\u001b[1;32m   2108\u001b[0m \u001b[38;5;28mself\u001b[39m\u001b[38;5;241m.\u001b[39mcancel_async_evaluation(get_current_thread_id(thread), \u001b[38;5;28mstr\u001b[39m(\u001b[38;5;28mid\u001b[39m(frame)))\n\u001b[1;32m   2110\u001b[0m \u001b[38;5;66;03m# process any stepping instructions\u001b[39;00m\n",
      "\u001b[0;31mKeyboardInterrupt\u001b[0m: "
     ]
    }
   ],
   "source": [
    "from app.scheduler.auto_trading_scheduler import scheduled_trading\n",
    "\n",
    "scheduled_trading(id=\"id1\", virtual=False, trading_bot_name=\"dreaminmindbot\", sorting = \"\")"
   ]
  },
  {
   "cell_type": "code",
   "execution_count": null,
   "metadata": {},
   "outputs": [],
   "source": [
    "from app.utils.crud_sql import SQLExecutor\n",
    "from app.utils.database import get_db, get_db_session\n",
    "\n",
    "sql_executor = SQLExecutor()"
   ]
  },
  {
   "cell_type": "code",
   "execution_count": 14,
   "metadata": {},
   "outputs": [
    {
     "name": "stdout",
     "output_type": "stream",
     "text": [
      "[{'id': 'id1', 'name': 'name1'}, {'id': 'id2', 'name': 'name2'}]\n"
     ]
    }
   ],
   "source": [
    "query = \"\"\"\n",
    "        SELECT \n",
    "            *\n",
    "        FROM \n",
    "            fsts.test_table\n",
    "    \"\"\"\n",
    "\n",
    "params = {}\n",
    "\n",
    "with get_db_session() as db:\n",
    "    result = sql_executor.execute_select(db, query, params)\n",
    "\n",
    "print(result)"
   ]
  },
  {
   "cell_type": "code",
   "execution_count": 13,
   "metadata": {},
   "outputs": [
    {
     "name": "stdout",
     "output_type": "stream",
     "text": [
      "Insert succeeded: [{'id': 'id2', 'name': 'name2'}]\n"
     ]
    }
   ],
   "source": [
    "# RETURNING * 꼭 붙여야 함.\n",
    "query = \"\"\"\n",
    "    INSERT INTO fsts.test_table\n",
    "    (id, name)\n",
    "    VALUES (:id, :name)\n",
    "    RETURNING *;\n",
    "\"\"\"\n",
    "\n",
    "id = 'id2'\n",
    "name = 'name2'\n",
    "\n",
    "params = {\n",
    "    \"id\": id,\n",
    "    \"name\": name\n",
    "}\n",
    "\n",
    "with get_db_session() as db:\n",
    "    result = sql_executor.execute_insert(db, query, params)"
   ]
  },
  {
   "cell_type": "code",
   "execution_count": 27,
   "metadata": {},
   "outputs": [],
   "source": [
    "from pykis.kis import PyKis, KisAccessToken\n",
    "\n",
    "kis_id = 'dreaminmind'  # 한국투자증권 HTS ID\n",
    "app_key = \"PSyTGF07QupJyV76XGm3mkgcr4RDvSeODpVZ\"\n",
    "secret_key = \"eteoHNN+iHktbHC1TOKNdDc2ecFHqwyA+o1OijESqRtWY2cirhUqbiuFfO5zmEPNqB8/P0RSBuTjZnPq4zc5u3dKHIg/HOFQqmZcCik621aWqti5MBReqNpr/NChcs8edoBKd4cgJaC47m3IKncU4GglKzWNqHtic/4X8lmOAZx0oDGuFkI=\"\n",
    "account = \"67737279\"\n",
    "# kis_id = 'bnuazz15'\n",
    "# app_key = \"PSSTsRPEqwFOAqiw1WgOsmpsCToF0CT46YjJ\"\n",
    "# secret_key = \"oR1B8Z8jdnPb8Xj2m8N5c+A8LVF2Ai/2UCjO6taWq64OvBXf1arxxV6qfZDp49d0zedr90sub1zQqFYMjL76lbev/MKgHoGsrbVXlEYxP6QhyHJ1AIKLSq3sGSvuBcdAp+5PpM9CtSLRWL6SjxKpzZ0hDWlDwGSCWFtM3dL4XfTFIDfRC8Y=\"\n",
    "# account = \"64156776\"\n",
    "\n",
    "kis = PyKis(\n",
    "    id=kis_id,             # 한국투자증권 HTS ID\n",
    "    appkey=app_key,    # 발급받은 App Key\n",
    "    secretkey=secret_key, # 발급받은 App Secret\n",
    "    account=account, # 계좌번호 (예: \"12345678-01\")\n",
    "    keep_token=True           # 토큰 자동 갱신 여부\n",
    ")"
   ]
  },
  {
   "cell_type": "code",
   "execution_count": 28,
   "metadata": {},
   "outputs": [],
   "source": [
    "from pykis import KisBalance\n",
    "\n",
    "account = kis.account()\n",
    "balance: KisBalance = account.balance()"
   ]
  },
  {
   "cell_type": "code",
   "execution_count": 29,
   "metadata": {},
   "outputs": [],
   "source": [
    "non_zero_stocks = [stock for stock in balance.stocks if stock.qty != 0]\n",
    "\n",
    "balance.stocks = non_zero_stocks"
   ]
  },
  {
   "cell_type": "code",
   "execution_count": 30,
   "metadata": {},
   "outputs": [
    {
     "data": {
      "text/plain": [
       "KisIntegrationBalance(\n",
       "    account_number=KisAccountNumber('67737279-01'),\n",
       "    deposits={\n",
       "        'KRW': KisDomesticDeposit(account_number=KisAccountNumber('67737279-01'), currency='KRW', amount=43321, exchange_rate=1)\n",
       "    },\n",
       "    stocks=[\n",
       "        KisDomesticBalanceStock(account_number=KisAccountNumber('67737279-01'), market='KRX', symbol='383310', qty=72, price=25000, amount=1800000, profit=-206400, profit_rate=-10.28708133971291866028708134),\n",
       "        KisDomesticBalanceStock(account_number=KisAccountNumber('67737279-01'), market='KRX', symbol='393890', qty=134, price=7410, amount=992940, profit=-9380, profit_rate=-0.9358288770053475935828877005)\n",
       "    ],\n",
       "    purchase_amount=3008720,\n",
       "    current_amount=2792940,\n",
       "    profit=-215780,\n",
       "    profit_rate=-7.171820574862399957456991678\n",
       ")"
      ]
     },
     "execution_count": 30,
     "metadata": {},
     "output_type": "execute_result"
    }
   ],
   "source": [
    "balance"
   ]
  },
  {
   "cell_type": "code",
   "execution_count": 33,
   "metadata": {},
   "outputs": [],
   "source": [
    "from pykis import KisOrderableAmount\n",
    "\n",
    "# 엔비디아 주간거래 시장가 매수 가능 금액 조회\n",
    "orderable_amount: KisOrderableAmount = account.orderable_amount(\n",
    "    market=\"KRX\",\n",
    "    price=1,\n",
    "    symbol=\"039200\"\n",
    ")"
   ]
  },
  {
   "cell_type": "code",
   "execution_count": 36,
   "metadata": {},
   "outputs": [
    {
     "data": {
      "text/plain": [
       "2336447"
      ]
     },
     "execution_count": 36,
     "metadata": {},
     "output_type": "execute_result"
    }
   ],
   "source": [
    "int(orderable_amount.qty)"
   ]
  },
  {
   "cell_type": "code",
   "execution_count": null,
   "metadata": {},
   "outputs": [],
   "source": [
    "for holding in balance.stocks:\n",
    "    print(holding)\n",
    "    symbol = holding.symbol\n",
    "    original_symbol_name = holding.symbol_name"
   ]
  },
  {
   "cell_type": "code",
   "execution_count": 12,
   "metadata": {},
   "outputs": [],
   "source": [
    "import boto3\n",
    "import json\n",
    "\n",
    "s3_client = boto3.client('s3', region_name='ap-northeast-2', endpoint_url='https://s3.ap-northeast-2.amazonaws.com', config=boto3.session.Config(signature_version='s3v4'))\n",
    "bucket_name=\"sb-fsts\"\n",
    "\n",
    "token_save_path = f\"credentials/pykis/token.json\"\n",
    "\n",
    "response = s3_client.get_object(Bucket=bucket_name, Key=token_save_path)\n",
    "\n",
    "# 본문 읽기 및 JSON 파싱\n",
    "content = response['Body'].read().decode('utf-8')\n",
    "data = json.loads(content)\n",
    "data\n",
    "with open(\"token.json\", \"w\", encoding=\"utf-8\") as f:\n",
    "    json.dump(data, f, ensure_ascii=False, indent=4)"
   ]
  },
  {
   "cell_type": "code",
   "execution_count": 13,
   "metadata": {},
   "outputs": [
    {
     "ename": "KisHTTPError",
     "evalue": "HTTP 요청에 실패했습니다.\n(403) Forbidden\n{\"error_description\":\"접근토큰 발급 잠시 후 다시 시도하세요(1분당 1회)\",\"error_code\":\"EGW00133\"}\n\n[  Request  ]: POST https://openapi.koreainvestment.com:9443/oauth2/tokenP\nHeaders: {'User-Agent': 'PyKis/2.1.3', 'Accept-Encoding': 'gzip, deflate, zstd', 'Accept': '*/*', 'Connection': 'keep-alive', 'Content-Length': '283', 'Content-Type': 'application/json'}\nParams: {}\nBody: [PROTECTED BODY]",
     "output_type": "error",
     "traceback": [
      "\u001b[0;31m---------------------------------------------------------------------------\u001b[0m",
      "\u001b[0;31mKisHTTPError\u001b[0m                              Traceback (most recent call last)",
      "Cell \u001b[0;32mIn[13], line 9\u001b[0m\n\u001b[1;32m      1\u001b[0m kis \u001b[38;5;241m=\u001b[39m PyKis(\n\u001b[1;32m      2\u001b[0m     \u001b[38;5;28mid\u001b[39m\u001b[38;5;241m=\u001b[39mkis_id,             \u001b[38;5;66;03m# 한국투자증권 HTS ID\u001b[39;00m\n\u001b[1;32m      3\u001b[0m     appkey\u001b[38;5;241m=\u001b[39mapp_key,    \u001b[38;5;66;03m# 발급받은 App Key\u001b[39;00m\n\u001b[0;32m   (...)\u001b[0m\n\u001b[1;32m      7\u001b[0m     keep_token\u001b[38;5;241m=\u001b[39m\u001b[38;5;28;01mTrue\u001b[39;00m           \u001b[38;5;66;03m# 토큰 자동 갱신 여부\u001b[39;00m\n\u001b[1;32m      8\u001b[0m )\n\u001b[0;32m----> 9\u001b[0m \u001b[43mkis\u001b[49m\u001b[38;5;241;43m.\u001b[39;49m\u001b[43mtoken\u001b[49m\u001b[38;5;241m.\u001b[39msave(\u001b[38;5;124m\"\u001b[39m\u001b[38;5;124mtoken.json\u001b[39m\u001b[38;5;124m\"\u001b[39m)\n",
      "File \u001b[0;32m~/miniconda3/envs/sb-fsts/lib/python3.12/site-packages/pykis/utils/thread_safe.py:24\u001b[0m, in \u001b[0;36mthread_safe.<locals>.decorator.<locals>.wrapper\u001b[0;34m(self, *args, **kwargs)\u001b[0m\n\u001b[1;32m     21\u001b[0m         \u001b[38;5;28msetattr\u001b[39m(\u001b[38;5;28mself\u001b[39m, key, lock)\n\u001b[1;32m     23\u001b[0m \u001b[38;5;28;01mwith\u001b[39;00m lock:\n\u001b[0;32m---> 24\u001b[0m     \u001b[38;5;28;01mreturn\u001b[39;00m \u001b[43mfn\u001b[49m\u001b[43m(\u001b[49m\u001b[38;5;28;43mself\u001b[39;49m\u001b[43m,\u001b[49m\u001b[43m \u001b[49m\u001b[38;5;241;43m*\u001b[39;49m\u001b[43margs\u001b[49m\u001b[43m,\u001b[49m\u001b[43m \u001b[49m\u001b[38;5;241;43m*\u001b[39;49m\u001b[38;5;241;43m*\u001b[39;49m\u001b[43mkwargs\u001b[49m\u001b[43m)\u001b[49m\n",
      "File \u001b[0;32m~/miniconda3/envs/sb-fsts/lib/python3.12/site-packages/pykis/kis.py:671\u001b[0m, in \u001b[0;36mPyKis.token\u001b[0;34m(self)\u001b[0m\n\u001b[1;32m    668\u001b[0m \u001b[38;5;28;01mif\u001b[39;00m \u001b[38;5;28mself\u001b[39m\u001b[38;5;241m.\u001b[39m_token \u001b[38;5;129;01mis\u001b[39;00m \u001b[38;5;28;01mNone\u001b[39;00m \u001b[38;5;129;01mor\u001b[39;00m \u001b[38;5;28mself\u001b[39m\u001b[38;5;241m.\u001b[39m_token\u001b[38;5;241m.\u001b[39mremaining \u001b[38;5;241m<\u001b[39m timedelta(minutes\u001b[38;5;241m=\u001b[39m\u001b[38;5;241m10\u001b[39m):\n\u001b[1;32m    669\u001b[0m     \u001b[38;5;28;01mfrom\u001b[39;00m \u001b[38;5;21;01mpykis\u001b[39;00m\u001b[38;5;21;01m.\u001b[39;00m\u001b[38;5;21;01mapi\u001b[39;00m\u001b[38;5;21;01m.\u001b[39;00m\u001b[38;5;21;01mauth\u001b[39;00m\u001b[38;5;21;01m.\u001b[39;00m\u001b[38;5;21;01mtoken\u001b[39;00m \u001b[38;5;28;01mimport\u001b[39;00m token_issue\n\u001b[0;32m--> 671\u001b[0m     \u001b[38;5;28mself\u001b[39m\u001b[38;5;241m.\u001b[39m_token \u001b[38;5;241m=\u001b[39m \u001b[43mtoken_issue\u001b[49m\u001b[43m(\u001b[49m\u001b[38;5;28;43mself\u001b[39;49m\u001b[43m,\u001b[49m\u001b[43m \u001b[49m\u001b[43mdomain\u001b[49m\u001b[38;5;241;43m=\u001b[39;49m\u001b[38;5;124;43m\"\u001b[39;49m\u001b[38;5;124;43mreal\u001b[39;49m\u001b[38;5;124;43m\"\u001b[39;49m\u001b[43m)\u001b[49m\n\u001b[1;32m    672\u001b[0m     logging\u001b[38;5;241m.\u001b[39mlogger\u001b[38;5;241m.\u001b[39mdebug(\u001b[38;5;124mf\u001b[39m\u001b[38;5;124m\"\u001b[39m\u001b[38;5;124m실전도메인 API 접속 토큰을 발급했습니다.\u001b[39m\u001b[38;5;124m\"\u001b[39m)\n\u001b[1;32m    674\u001b[0m     \u001b[38;5;28;01mif\u001b[39;00m \u001b[38;5;28mself\u001b[39m\u001b[38;5;241m.\u001b[39m_keep_token:\n",
      "File \u001b[0;32m~/miniconda3/envs/sb-fsts/lib/python3.12/site-packages/pykis/api/auth/token.py:79\u001b[0m, in \u001b[0;36mtoken_issue\u001b[0;34m(self, domain)\u001b[0m\n\u001b[1;32m     72\u001b[0m \u001b[38;5;28;01mdef\u001b[39;00m \u001b[38;5;21mtoken_issue\u001b[39m(\u001b[38;5;28mself\u001b[39m: \u001b[38;5;124m\"\u001b[39m\u001b[38;5;124mPyKis\u001b[39m\u001b[38;5;124m\"\u001b[39m, domain: Literal[\u001b[38;5;124m\"\u001b[39m\u001b[38;5;124mreal\u001b[39m\u001b[38;5;124m\"\u001b[39m, \u001b[38;5;124m\"\u001b[39m\u001b[38;5;124mvirtual\u001b[39m\u001b[38;5;124m\"\u001b[39m] \u001b[38;5;241m|\u001b[39m \u001b[38;5;28;01mNone\u001b[39;00m \u001b[38;5;241m=\u001b[39m \u001b[38;5;28;01mNone\u001b[39;00m) \u001b[38;5;241m-\u001b[39m\u001b[38;5;241m>\u001b[39m KisAccessToken:\n\u001b[1;32m     73\u001b[0m \u001b[38;5;250m    \u001b[39m\u001b[38;5;124;03m\"\"\"\u001b[39;00m\n\u001b[1;32m     74\u001b[0m \u001b[38;5;124;03m    API 접속 토큰을 발급합니다.\u001b[39;00m\n\u001b[1;32m     75\u001b[0m \n\u001b[1;32m     76\u001b[0m \u001b[38;5;124;03m    OAuth인증 -> 접근토큰발급(P)[인증-001]\u001b[39;00m\n\u001b[1;32m     77\u001b[0m \u001b[38;5;124;03m    (업데이트 날짜: 2023/09/05)\u001b[39;00m\n\u001b[1;32m     78\u001b[0m \u001b[38;5;124;03m    \"\"\"\u001b[39;00m\n\u001b[0;32m---> 79\u001b[0m     \u001b[38;5;28;01mreturn\u001b[39;00m \u001b[38;5;28;43mself\u001b[39;49m\u001b[38;5;241;43m.\u001b[39;49m\u001b[43mfetch\u001b[49m\u001b[43m(\u001b[49m\n\u001b[1;32m     80\u001b[0m \u001b[43m        \u001b[49m\u001b[38;5;124;43m\"\u001b[39;49m\u001b[38;5;124;43m/oauth2/tokenP\u001b[39;49m\u001b[38;5;124;43m\"\u001b[39;49m\u001b[43m,\u001b[49m\n\u001b[1;32m     81\u001b[0m \u001b[43m        \u001b[49m\u001b[43mbody\u001b[49m\u001b[38;5;241;43m=\u001b[39;49m\u001b[43m{\u001b[49m\n\u001b[1;32m     82\u001b[0m \u001b[43m            \u001b[49m\u001b[38;5;124;43m\"\u001b[39;49m\u001b[38;5;124;43mgrant_type\u001b[39;49m\u001b[38;5;124;43m\"\u001b[39;49m\u001b[43m:\u001b[49m\u001b[43m \u001b[49m\u001b[38;5;124;43m\"\u001b[39;49m\u001b[38;5;124;43mclient_credentials\u001b[39;49m\u001b[38;5;124;43m\"\u001b[39;49m\u001b[43m,\u001b[49m\n\u001b[1;32m     83\u001b[0m \u001b[43m        \u001b[49m\u001b[43m}\u001b[49m\u001b[43m,\u001b[49m\n\u001b[1;32m     84\u001b[0m \u001b[43m        \u001b[49m\u001b[43mappkey_location\u001b[49m\u001b[38;5;241;43m=\u001b[39;49m\u001b[38;5;124;43m\"\u001b[39;49m\u001b[38;5;124;43mbody\u001b[39;49m\u001b[38;5;124;43m\"\u001b[39;49m\u001b[43m,\u001b[49m\n\u001b[1;32m     85\u001b[0m \u001b[43m        \u001b[49m\u001b[43mresponse_type\u001b[49m\u001b[38;5;241;43m=\u001b[39;49m\u001b[43mKisAccessToken\u001b[49m\u001b[43m,\u001b[49m\n\u001b[1;32m     86\u001b[0m \u001b[43m        \u001b[49m\u001b[43mmethod\u001b[49m\u001b[38;5;241;43m=\u001b[39;49m\u001b[38;5;124;43m\"\u001b[39;49m\u001b[38;5;124;43mPOST\u001b[39;49m\u001b[38;5;124;43m\"\u001b[39;49m\u001b[43m,\u001b[49m\n\u001b[1;32m     87\u001b[0m \u001b[43m        \u001b[49m\u001b[43mdomain\u001b[49m\u001b[38;5;241;43m=\u001b[39;49m\u001b[43mdomain\u001b[49m\u001b[43m,\u001b[49m\n\u001b[1;32m     88\u001b[0m \u001b[43m        \u001b[49m\u001b[43mauth\u001b[49m\u001b[38;5;241;43m=\u001b[39;49m\u001b[38;5;28;43;01mFalse\u001b[39;49;00m\u001b[43m,\u001b[49m\n\u001b[1;32m     89\u001b[0m \u001b[43m        \u001b[49m\u001b[43mverbose\u001b[49m\u001b[38;5;241;43m=\u001b[39;49m\u001b[38;5;28;43;01mFalse\u001b[39;49;00m\u001b[43m,\u001b[49m\n\u001b[1;32m     90\u001b[0m \u001b[43m    \u001b[49m\u001b[43m)\u001b[49m\n",
      "File \u001b[0;32m~/miniconda3/envs/sb-fsts/lib/python3.12/site-packages/pykis/kis.py:626\u001b[0m, in \u001b[0;36mPyKis.fetch\u001b[0;34m(self, path, method, params, body, form, headers, domain, appkey_location, form_location, auth, api, continuous, response_type, verbose)\u001b[0m\n\u001b[1;32m    622\u001b[0m         headers \u001b[38;5;241m=\u001b[39m {}\n\u001b[1;32m    624\u001b[0m     headers[\u001b[38;5;124m\"\u001b[39m\u001b[38;5;124mtr_cont\u001b[39m\u001b[38;5;124m\"\u001b[39m] \u001b[38;5;241m=\u001b[39m \u001b[38;5;124m\"\u001b[39m\u001b[38;5;124mN\u001b[39m\u001b[38;5;124m\"\u001b[39m\n\u001b[0;32m--> 626\u001b[0m response \u001b[38;5;241m=\u001b[39m \u001b[38;5;28;43mself\u001b[39;49m\u001b[38;5;241;43m.\u001b[39;49m\u001b[43mrequest\u001b[49m\u001b[43m(\u001b[49m\n\u001b[1;32m    627\u001b[0m \u001b[43m    \u001b[49m\u001b[43mpath\u001b[49m\u001b[43m,\u001b[49m\n\u001b[1;32m    628\u001b[0m \u001b[43m    \u001b[49m\u001b[43mmethod\u001b[49m\u001b[38;5;241;43m=\u001b[39;49m\u001b[43mmethod\u001b[49m\u001b[43m,\u001b[49m\n\u001b[1;32m    629\u001b[0m \u001b[43m    \u001b[49m\u001b[43mparams\u001b[49m\u001b[38;5;241;43m=\u001b[39;49m\u001b[43mparams\u001b[49m\u001b[43m,\u001b[49m\n\u001b[1;32m    630\u001b[0m \u001b[43m    \u001b[49m\u001b[43mbody\u001b[49m\u001b[38;5;241;43m=\u001b[39;49m\u001b[43mbody\u001b[49m\u001b[43m,\u001b[49m\n\u001b[1;32m    631\u001b[0m \u001b[43m    \u001b[49m\u001b[43mform\u001b[49m\u001b[38;5;241;43m=\u001b[39;49m\u001b[43mform\u001b[49m\u001b[43m,\u001b[49m\n\u001b[1;32m    632\u001b[0m \u001b[43m    \u001b[49m\u001b[43mheaders\u001b[49m\u001b[38;5;241;43m=\u001b[39;49m\u001b[43mheaders\u001b[49m\u001b[43m,\u001b[49m\n\u001b[1;32m    633\u001b[0m \u001b[43m    \u001b[49m\u001b[43mdomain\u001b[49m\u001b[38;5;241;43m=\u001b[39;49m\u001b[43mdomain\u001b[49m\u001b[43m,\u001b[49m\n\u001b[1;32m    634\u001b[0m \u001b[43m    \u001b[49m\u001b[43mappkey_location\u001b[49m\u001b[38;5;241;43m=\u001b[39;49m\u001b[43mappkey_location\u001b[49m\u001b[43m,\u001b[49m\n\u001b[1;32m    635\u001b[0m \u001b[43m    \u001b[49m\u001b[43mform_location\u001b[49m\u001b[38;5;241;43m=\u001b[39;49m\u001b[43mform_location\u001b[49m\u001b[43m,\u001b[49m\n\u001b[1;32m    636\u001b[0m \u001b[43m    \u001b[49m\u001b[43mauth\u001b[49m\u001b[38;5;241;43m=\u001b[39;49m\u001b[43mauth\u001b[49m\u001b[43m,\u001b[49m\n\u001b[1;32m    637\u001b[0m \u001b[43m\u001b[49m\u001b[43m)\u001b[49m\n\u001b[1;32m    639\u001b[0m data \u001b[38;5;241m=\u001b[39m response\u001b[38;5;241m.\u001b[39mjson()\n\u001b[1;32m    640\u001b[0m data[\u001b[38;5;124m\"\u001b[39m\u001b[38;5;124m__response__\u001b[39m\u001b[38;5;124m\"\u001b[39m] \u001b[38;5;241m=\u001b[39m response\n",
      "File \u001b[0;32m~/miniconda3/envs/sb-fsts/lib/python3.12/site-packages/pykis/kis.py:594\u001b[0m, in \u001b[0;36mPyKis.request\u001b[0;34m(self, path, method, params, body, form, headers, domain, appkey_location, form_location, auth)\u001b[0m\n\u001b[1;32m    591\u001b[0m         \u001b[38;5;28mself\u001b[39m\u001b[38;5;241m.\u001b[39m_virtual_token \u001b[38;5;241m=\u001b[39m \u001b[38;5;28;01mNone\u001b[39;00m\n\u001b[1;32m    593\u001b[0m \u001b[38;5;28;01mcase\u001b[39;00m\u001b[38;5;250m \u001b[39m\u001b[38;5;28;01m_\u001b[39;00m:\n\u001b[0;32m--> 594\u001b[0m     \u001b[38;5;28;01mraise\u001b[39;00m KisHTTPError(response\u001b[38;5;241m=\u001b[39mresp)\n",
      "\u001b[0;31mKisHTTPError\u001b[0m: HTTP 요청에 실패했습니다.\n(403) Forbidden\n{\"error_description\":\"접근토큰 발급 잠시 후 다시 시도하세요(1분당 1회)\",\"error_code\":\"EGW00133\"}\n\n[  Request  ]: POST https://openapi.koreainvestment.com:9443/oauth2/tokenP\nHeaders: {'User-Agent': 'PyKis/2.1.3', 'Accept-Encoding': 'gzip, deflate, zstd', 'Accept': '*/*', 'Connection': 'keep-alive', 'Content-Length': '283', 'Content-Type': 'application/json'}\nParams: {}\nBody: [PROTECTED BODY]"
     ]
    }
   ],
   "source": [
    "kis = PyKis(\n",
    "    id=kis_id,             # 한국투자증권 HTS ID\n",
    "    appkey=app_key,    # 발급받은 App Key\n",
    "    secretkey=secret_key, # 발급받은 App Secret\n",
    "    account=account, # 계좌번호 (예: \"12345678-01\")\n",
    "    token=KisAccessToken.load(\"token.json\"),\n",
    "    keep_token=True           # 토큰 자동 갱신 여부\n",
    ")\n",
    "kis.token.save(\"token.json\")"
   ]
  },
  {
   "cell_type": "code",
   "execution_count": 50,
   "metadata": {},
   "outputs": [],
   "source": [
    "s3_client.upload_file(\n",
    "    Filename=\"token.json\",\n",
    "    Bucket=bucket_name,\n",
    "    Key=token_save_path\n",
    ")"
   ]
  },
  {
   "cell_type": "code",
   "execution_count": null,
   "metadata": {},
   "outputs": [],
   "source": []
  }
 ],
 "metadata": {
  "kernelspec": {
   "display_name": "sb-fsts",
   "language": "python",
   "name": "python3"
  },
  "language_info": {
   "codemirror_mode": {
    "name": "ipython",
    "version": 3
   },
   "file_extension": ".py",
   "mimetype": "text/x-python",
   "name": "python",
   "nbconvert_exporter": "python",
   "pygments_lexer": "ipython3",
   "version": "3.12.8"
  }
 },
 "nbformat": 4,
 "nbformat_minor": 2
}
