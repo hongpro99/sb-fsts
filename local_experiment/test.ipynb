{
 "cells": [
  {
   "cell_type": "code",
   "execution_count": null,
   "metadata": {},
   "outputs": [],
   "source": [
    "import requests\n",
    "\n",
    "\n",
    "webhook_url = 'https://discord.com/api/webhooks/1313346849838596106/6Rn_8BNDeL9bMYfFtqscpu4hPah5c2RsNl0rBiPoSw_Qb9RXgDdVHoHmwEuStPv_ufnV'  # 복사한 Discord 웹훅 URL로 변경\n",
    "username = \"Stock Trading Bot\"\n",
    "\n",
    "message = \"매수가 완료되었습니다.\"\n",
    "\n",
    "data = {\n",
    "    \"content\": message,\n",
    "    \"username\": username,  # 원하는 이름으로 설정 가능\n",
    "}\n",
    "\n",
    "# 요청 보내기\n",
    "response = requests.post(webhook_url, json=data)\n",
    "\n",
    "# 응답 확인\n",
    "if response.status_code == 204:\n",
    "    print(\"메시지가 성공적으로 전송되었습니다.\")\n",
    "else:\n",
    "    print(f\"메시지 전송 실패: {response.status_code}, {response.text}\")"
   ]
  },
  {
   "cell_type": "code",
   "execution_count": null,
   "metadata": {},
   "outputs": [],
   "source": [
    "import os\n",
    "\n",
    "# 루트 경로 설정 (예: 프로젝트 루트 경로)\n",
    "project_root = \"/Users/hsh/dev_project/sb-fsts\"\n",
    "os.chdir(project_root)  # 루트 경로로 변경"
   ]
  },
  {
   "cell_type": "code",
   "execution_count": null,
   "metadata": {},
   "outputs": [],
   "source": [
    "from app.utils.crud_sql import SQLExecutor\n",
    "from app.utils.database import get_db, get_db_session\n",
    "\n",
    "sql_executor = SQLExecutor()"
   ]
  },
  {
   "cell_type": "code",
   "execution_count": 14,
   "metadata": {},
   "outputs": [
    {
     "name": "stdout",
     "output_type": "stream",
     "text": [
      "[{'id': 'id1', 'name': 'name1'}, {'id': 'id2', 'name': 'name2'}]\n"
     ]
    }
   ],
   "source": [
    "query = \"\"\"\n",
    "        SELECT \n",
    "            *\n",
    "        FROM \n",
    "            fsts.test_table\n",
    "    \"\"\"\n",
    "\n",
    "params = {}\n",
    "\n",
    "with get_db_session() as db:\n",
    "    result = sql_executor.execute_select(db, query, params)\n",
    "\n",
    "print(result)"
   ]
  },
  {
   "cell_type": "code",
   "execution_count": 13,
   "metadata": {},
   "outputs": [
    {
     "name": "stdout",
     "output_type": "stream",
     "text": [
      "Insert succeeded: [{'id': 'id2', 'name': 'name2'}]\n"
     ]
    }
   ],
   "source": [
    "# RETURNING * 꼭 붙여야 함.\n",
    "query = \"\"\"\n",
    "    INSERT INTO fsts.test_table\n",
    "    (id, name)\n",
    "    VALUES (:id, :name)\n",
    "    RETURNING *;\n",
    "\"\"\"\n",
    "\n",
    "id = 'id2'\n",
    "name = 'name2'\n",
    "\n",
    "params = {\n",
    "    \"id\": id,\n",
    "    \"name\": name\n",
    "}\n",
    "\n",
    "with get_db_session() as db:\n",
    "    result = sql_executor.execute_insert(db, query, params)"
   ]
  },
  {
   "cell_type": "code",
   "execution_count": 27,
   "metadata": {},
   "outputs": [],
   "source": [
    "from pykis.kis import PyKis, KisAccessToken\n",
    "\n",
    "kis_id = 'dreaminmind'  # 한국투자증권 HTS ID\n",
    "app_key = \"PSyTGF07QupJyV76XGm3mkgcr4RDvSeODpVZ\"\n",
    "secret_key = \"eteoHNN+iHktbHC1TOKNdDc2ecFHqwyA+o1OijESqRtWY2cirhUqbiuFfO5zmEPNqB8/P0RSBuTjZnPq4zc5u3dKHIg/HOFQqmZcCik621aWqti5MBReqNpr/NChcs8edoBKd4cgJaC47m3IKncU4GglKzWNqHtic/4X8lmOAZx0oDGuFkI=\"\n",
    "account = \"67737279\"\n",
    "\n",
    "kis = PyKis(\n",
    "    id=kis_id,             # 한국투자증권 HTS ID\n",
    "    appkey=app_key,    # 발급받은 App Key\n",
    "    secretkey=secret_key, # 발급받은 App Secret\n",
    "    account=account, # 계좌번호 (예: \"12345678-01\")\n",
    "    # keep_token=True           # 토큰 자동 갱신 여부\n",
    ")"
   ]
  },
  {
   "cell_type": "code",
   "execution_count": 28,
   "metadata": {},
   "outputs": [
    {
     "data": {
      "text/plain": [
       "<KisAccessToken Bearer expired_at=2025-05-30 18:01:51+09:00>"
      ]
     },
     "execution_count": 28,
     "metadata": {},
     "output_type": "execute_result"
    }
   ],
   "source": [
    "token = kis.token\n",
    "token"
   ]
  },
  {
   "cell_type": "code",
   "execution_count": 29,
   "metadata": {},
   "outputs": [],
   "source": [
    "token.save(\"token.json\")"
   ]
  },
  {
   "cell_type": "code",
   "execution_count": 30,
   "metadata": {},
   "outputs": [],
   "source": [
    "kis = PyKis(\n",
    "    id=kis_id,             # 한국투자증권 HTS ID\n",
    "    appkey=app_key,    # 발급받은 App Key\n",
    "    secretkey=secret_key, # 발급받은 App Secret\n",
    "    account=account, # 계좌번호 (예: \"12345678-01\")\n",
    "    token=KisAccessToken.load(\"token.json\"),\n",
    "    keep_token=True           # 토큰 자동 갱신 여부\n",
    ")"
   ]
  },
  {
   "cell_type": "code",
   "execution_count": 31,
   "metadata": {},
   "outputs": [
    {
     "data": {
      "text/plain": [
       "<KisAccessToken Bearer expired_at=2025-05-30 18:01:51+09:00>"
      ]
     },
     "execution_count": 31,
     "metadata": {},
     "output_type": "execute_result"
    }
   ],
   "source": [
    "token = kis.token\n",
    "token"
   ]
  },
  {
   "cell_type": "code",
   "execution_count": 46,
   "metadata": {},
   "outputs": [],
   "source": [
    "import boto3\n",
    "import json\n",
    "\n",
    "s3_client = boto3.client('s3', region_name='ap-northeast-2', endpoint_url='https://s3.ap-northeast-2.amazonaws.com', config=boto3.session.Config(signature_version='s3v4'))\n",
    "bucket_name=\"sb-fsts\"\n",
    "\n",
    "token_save_path = f\"credentials/pykis/token.json\"\n",
    "\n",
    "response = s3_client.get_object(Bucket=bucket_name, Key=token_save_path)\n",
    "\n",
    "# 본문 읽기 및 JSON 파싱\n",
    "content = response['Body'].read().decode('utf-8')\n",
    "data = json.loads(content)\n",
    "data\n",
    "with open(\"token.json\", \"w\", encoding=\"utf-8\") as f:\n",
    "    json.dump(data, f, ensure_ascii=False, indent=4)"
   ]
  },
  {
   "cell_type": "code",
   "execution_count": 49,
   "metadata": {},
   "outputs": [],
   "source": [
    "kis = PyKis(\n",
    "    id=kis_id,             # 한국투자증권 HTS ID\n",
    "    appkey=app_key,    # 발급받은 App Key\n",
    "    secretkey=secret_key, # 발급받은 App Secret\n",
    "    account=account, # 계좌번호 (예: \"12345678-01\")\n",
    "    token=KisAccessToken.load(\"token.json\"),\n",
    "    keep_token=True           # 토큰 자동 갱신 여부\n",
    ")\n",
    "kis.token.save(\"token.json\")"
   ]
  },
  {
   "cell_type": "code",
   "execution_count": 50,
   "metadata": {},
   "outputs": [],
   "source": [
    "s3_client.upload_file(\n",
    "    Filename=\"token.json\",\n",
    "    Bucket=bucket_name,\n",
    "    Key=token_save_path\n",
    ")"
   ]
  },
  {
   "cell_type": "code",
   "execution_count": null,
   "metadata": {},
   "outputs": [],
   "source": []
  }
 ],
 "metadata": {
  "kernelspec": {
   "display_name": "sb-fsts",
   "language": "python",
   "name": "python3"
  },
  "language_info": {
   "codemirror_mode": {
    "name": "ipython",
    "version": 3
   },
   "file_extension": ".py",
   "mimetype": "text/x-python",
   "name": "python",
   "nbconvert_exporter": "python",
   "pygments_lexer": "ipython3",
   "version": "3.12.8"
  }
 },
 "nbformat": 4,
 "nbformat_minor": 2
}
