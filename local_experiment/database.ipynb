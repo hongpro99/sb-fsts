{
 "cells": [
  {
   "cell_type": "code",
   "execution_count": 2,
   "metadata": {},
   "outputs": [
    {
     "name": "stdout",
     "output_type": "stream",
     "text": [
      "c:\\sb-fsts\\sb-fsts\n"
     ]
    }
   ],
   "source": [
    "#프로젝트의 루트 디렉토리를 설정하기 위한 코드\n",
    "import os\n",
    "current_dir = os.getcwd()  # 현재 작업 디렉토리\n",
    "print(os.path.dirname(current_dir))\n",
    "# print(os.path.dirname(os.path.dirname(current_dir)))\n",
    "# 루트 경로 설정 (예: 프로젝트 루트 경로)\n",
    "project_root = os.path.dirname(current_dir)\n",
    "os.chdir(project_root)  # 루트 경로로 변경"
   ]
  },
  {
   "cell_type": "code",
   "execution_count": 3,
   "metadata": {},
   "outputs": [],
   "source": [
    "from app.utils.crud_sql import SQLExecutor\n",
    "from app.utils.database import get_db, get_db_session\n",
    "\n",
    "sql_executor = SQLExecutor()"
   ]
  },
  {
   "cell_type": "code",
   "execution_count": 4,
   "metadata": {},
   "outputs": [
    {
     "name": "stdout",
     "output_type": "stream",
     "text": [
      "[{'id': 'id3', 'name': 'name3'}, {'id': 'id5', 'name': 'name5'}, {'id': 'id6', 'name': 'name6'}, {'id': 'id7', 'name': 'name7'}, {'id': 'id1', 'name': 'updated_name1'}, {'id': 'id2', 'name': 'upserted_name2'}, {'id': 'id4', 'name': 'upserted_name4'}]\n"
     ]
    }
   ],
   "source": [
    "query = \"\"\"\n",
    "        SELECT \n",
    "            *\n",
    "        FROM \n",
    "            fsts.test_table\n",
    "    \"\"\"\n",
    "\n",
    "params = {}\n",
    "\n",
    "with get_db_session() as db:\n",
    "    result = sql_executor.execute_select(db, query, params)\n",
    "\n",
    "print(result)"
   ]
  },
  {
   "cell_type": "code",
   "execution_count": null,
   "metadata": {},
   "outputs": [],
   "source": [
    "# RETURNING * 꼭 붙여야 함.\n",
    "query = \"\"\"\n",
    "    INSERT INTO fsts.test_table\n",
    "    (id, name)\n",
    "    VALUES (:id, :name)\n",
    "    RETURNING *;\n",
    "\"\"\"\n",
    "\n",
    "id = 'id4'\n",
    "name = 'name4'\n",
    "\n",
    "params = {\n",
    "    \"id\": id,\n",
    "    \"name\": name\n",
    "}\n",
    "\n",
    "with get_db_session() as db:\n",
    "    result = sql_executor.execute_insert(db, query, params)"
   ]
  },
  {
   "cell_type": "code",
   "execution_count": null,
   "metadata": {},
   "outputs": [],
   "source": [
    "#여러 데이터를 한번에 삽입하고 싶을 때\n",
    "# 여러 데이터 정의\n",
    "data = [\n",
    "    {\"id\": \"id5\", \"name\": \"name5\"},\n",
    "    {\"id\": \"id6\", \"name\": \"name6\"},\n",
    "    {\"id\": \"id7\", \"name\": \"name7\"}\n",
    "]\n",
    "\n",
    "# 다중 데이터 삽입 쿼리\n",
    "query = \"\"\"\n",
    "    INSERT INTO fsts.test_table\n",
    "    (id, name)\n",
    "    VALUES (:id, :name)\n",
    "    RETURNING *;\n",
    "\"\"\"\n",
    "\n",
    "# 데이터 삽입 및 결과 저장\n",
    "results = []\n",
    "with get_db_session() as db:\n",
    "    for row in data:\n",
    "        result = sql_executor.execute_insert(db, query, row)\n",
    "        results.append(result)\n",
    "\n",
    "print(\"삽입된 데이터:\")\n",
    "print(results)"
   ]
  },
  {
   "cell_type": "code",
   "execution_count": 6,
   "metadata": {},
   "outputs": [
    {
     "name": "stdout",
     "output_type": "stream",
     "text": [
      "Update succeeded: [{'id': 'id2', 'name': 'HONG'}]\n"
     ]
    }
   ],
   "source": [
    "# UPDATE 테스트\n",
    "query_update = \"\"\"\n",
    "    UPDATE fsts.test_table\n",
    "    SET name = :name\n",
    "    WHERE id = :id\n",
    "    RETURNING *;\n",
    "\"\"\"\n",
    "#:는 파라미터 바인딩 형식\n",
    "\n",
    "params_update = {\n",
    "    \"id\": \"id2\",\n",
    "    \"name\": \"HONG\"\n",
    "}\n",
    "\n",
    "with get_db_session() as db:\n",
    "    result_update = sql_executor.execute_update(db, query_update, params_update)"
   ]
  },
  {
   "cell_type": "code",
   "execution_count": null,
   "metadata": {},
   "outputs": [],
   "source": []
  }
 ],
 "metadata": {
  "kernelspec": {
   "display_name": "Python 3",
   "language": "python",
   "name": "python3"
  },
  "language_info": {
   "codemirror_mode": {
    "name": "ipython",
    "version": 3
   },
   "file_extension": ".py",
   "mimetype": "text/x-python",
   "name": "python",
   "nbconvert_exporter": "python",
   "pygments_lexer": "ipython3",
   "version": "3.12.3"
  }
 },
 "nbformat": 4,
 "nbformat_minor": 2
}
