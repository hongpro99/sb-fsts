{
 "cells": [
  {
   "cell_type": "code",
   "execution_count": 57,
   "metadata": {},
   "outputs": [
    {
     "name": "stdout",
     "output_type": "stream",
     "text": [
      "/Users/hsh/dev_project/sb-fsts\n"
     ]
    }
   ],
   "source": [
    "#프로젝트의 루트 디렉토리를 설정하기 위한 코드\n",
    "import os\n",
    "current_dir = os.getcwd()  # 현재 작업 디렉토리\n",
    "print(os.path.dirname(current_dir))\n",
    "# print(os.path.dirname(os.path.dirname(current_dir)))\n",
    "# 루트 경로 설정 (예: 프로젝트 루트 경로)\n",
    "project_root = os.path.dirname(current_dir)\n",
    "os.chdir(project_root)  # 루트 경로로 변경"
   ]
  },
  {
   "cell_type": "code",
   "execution_count": 58,
   "metadata": {},
   "outputs": [],
   "source": [
    "from app.utils.crud_sql import SQLExecutor\n",
    "from app.utils.database import get_db, get_db_session\n",
    "\n",
    "sql_executor = SQLExecutor()"
   ]
  },
  {
   "cell_type": "code",
   "execution_count": 4,
   "metadata": {},
   "outputs": [
    {
     "name": "stdout",
     "output_type": "stream",
     "text": [
      "[{'id': 'id3', 'name': 'name3'}, {'id': 'id5', 'name': 'name5'}, {'id': 'id6', 'name': 'name6'}, {'id': 'id7', 'name': 'name7'}, {'id': 'id1', 'name': 'updated_name1'}, {'id': 'id2', 'name': 'upserted_name2'}, {'id': 'id4', 'name': 'upserted_name4'}]\n"
     ]
    }
   ],
   "source": [
    "query = \"\"\"\n",
    "        SELECT \n",
    "            *\n",
    "        FROM \n",
    "            fsts.test_table\n",
    "    \"\"\"\n",
    "\n",
    "params = {}\n",
    "\n",
    "with get_db_session() as db:\n",
    "    result = sql_executor.execute_select(db, query, params)\n",
    "\n",
    "print(result)"
   ]
  },
  {
   "cell_type": "code",
   "execution_count": null,
   "metadata": {},
   "outputs": [],
   "source": [
    "# RETURNING * 꼭 붙여야 함.\n",
    "query = \"\"\"\n",
    "    INSERT INTO fsts.test_table\n",
    "    (id, name)\n",
    "    VALUES (:id, :name)\n",
    "    RETURNING *;\n",
    "\"\"\"\n",
    "\n",
    "id = 'id4'\n",
    "name = 'name4'\n",
    "\n",
    "params = {\n",
    "    \"id\": id,\n",
    "    \"name\": name\n",
    "}\n",
    "\n",
    "with get_db_session() as db:\n",
    "    result = sql_executor.execute_insert(db, query, params)"
   ]
  },
  {
   "cell_type": "code",
   "execution_count": null,
   "metadata": {},
   "outputs": [],
   "source": [
    "#여러 데이터를 한번에 삽입하고 싶을 때\n",
    "# 여러 데이터 정의\n",
    "data = [\n",
    "    {\"id\": \"id5\", \"name\": \"name5\"},\n",
    "    {\"id\": \"id6\", \"name\": \"name6\"},\n",
    "    {\"id\": \"id7\", \"name\": \"name7\"}\n",
    "]\n",
    "\n",
    "# 다중 데이터 삽입 쿼리\n",
    "query = \"\"\"\n",
    "    INSERT INTO fsts.test_table\n",
    "    (id, name)\n",
    "    VALUES (:id, :name)\n",
    "    RETURNING *;\n",
    "\"\"\"\n",
    "\n",
    "# 데이터 삽입 및 결과 저장\n",
    "results = []\n",
    "with get_db_session() as db:\n",
    "    for row in data:\n",
    "        result = sql_executor.execute_insert(db, query, row)\n",
    "        results.append(result)\n",
    "\n",
    "print(\"삽입된 데이터:\")\n",
    "print(results)"
   ]
  },
  {
   "cell_type": "code",
   "execution_count": 6,
   "metadata": {},
   "outputs": [
    {
     "name": "stdout",
     "output_type": "stream",
     "text": [
      "Update succeeded: [{'id': 'id2', 'name': 'HONG'}]\n"
     ]
    }
   ],
   "source": [
    "# UPDATE 테스트\n",
    "query_update = \"\"\"\n",
    "    UPDATE fsts.test_table\n",
    "    SET name = :name\n",
    "    WHERE id = :id\n",
    "    RETURNING *;\n",
    "\"\"\"\n",
    "#:는 파라미터 바인딩 형식\n",
    "\n",
    "params_update = {\n",
    "    \"id\": \"id2\",\n",
    "    \"name\": \"HONG\"\n",
    "}\n",
    "\n",
    "with get_db_session() as db:\n",
    "    result_update = sql_executor.execute_update(db, query_update, params_update)"
   ]
  },
  {
   "cell_type": "markdown",
   "metadata": {},
   "source": [
    "# DynamoDB"
   ]
  },
  {
   "cell_type": "code",
   "execution_count": 22,
   "metadata": {},
   "outputs": [],
   "source": [
    "from pynamodb.models import Model\n",
    "from pynamodb.attributes import UnicodeAttribute, NumberAttribute, ListAttribute, MapAttribute\n",
    "from datetime import datetime\n",
    "import time\n",
    "\n",
    "# 매매 이력 (trading_history)에서 사용될 속성 정의\n",
    "class TradeHistory(MapAttribute):\n",
    "    trading_logic = UnicodeAttribute()\n",
    "    symbol = UnicodeAttribute()\n",
    "    symbol_name = UnicodeAttribute()\n",
    "    position = UnicodeAttribute()\n",
    "    price = NumberAttribute()\n",
    "    quantity = NumberAttribute()\n",
    "    created_at = NumberAttribute()\n",
    "    updated_at = UnicodeAttribute(null=True)\n",
    "    data_type = UnicodeAttribute()\n",
    "\n",
    "# DynamoDB 테이블 모델 정의\n",
    "class TradingBot(Model):\n",
    "    class Meta:\n",
    "        table_name = \"fsts-trading-bot\"\n",
    "        region = \"ap-northeast-2\"\n",
    "\n",
    "    trading_bot_name = UnicodeAttribute(hash_key=True)  # PK 설정\n",
    "    created_at = NumberAttribute()\n",
    "    trading_history = ListAttribute(of=TradeHistory)  # 리스트 저장 가능\n",
    "\n",
    "# 테이블 생성 (최초 1회 실행)\n",
    "# if not TradingBot.exists():\n",
    "#     TradingBot.create_table(read_capacity_units=5, write_capacity_units=5, wait=True)"
   ]
  },
  {
   "cell_type": "code",
   "execution_count": 45,
   "metadata": {},
   "outputs": [],
   "source": [
    "from pynamodb.models import Model\n",
    "from pynamodb.attributes import UnicodeAttribute, NumberAttribute\n",
    "import time\n",
    "import uuid\n",
    "\n",
    "class TradingHistory(Model):\n",
    "    class Meta:\n",
    "        table_name = \"fsts-trading-history\"\n",
    "        region = \"ap-northeast-2\"\n",
    "\n",
    "    trading_bot_name = UnicodeAttribute(hash_key=True)  # ✅ PK\n",
    "    created_at = NumberAttribute(range_key=True)  # ✅ SK (밀리세컨드 단위)\n",
    "    updated_at = UnicodeAttribute(null=True)\n",
    "    symbol = UnicodeAttribute()\n",
    "    position = UnicodeAttribute()\n",
    "    price = NumberAttribute()\n",
    "    quantity = NumberAttribute()\n",
    "    data_type = UnicodeAttribute()"
   ]
  },
  {
   "cell_type": "code",
   "execution_count": 40,
   "metadata": {},
   "outputs": [],
   "source": [
    "from pynamodb.transactions import TransactWrite\n",
    "from pynamodb.connection import Connection\n",
    "from botocore.exceptions import ClientError\n",
    "\n",
    "def add_trade(trading_bot_name, symbol, position, price, quantity, data_type):\n",
    "    max_retries = 3  # 최대 재시도 횟수\n",
    "    retry_count = 0\n",
    "\n",
    "    while retry_count < max_retries:\n",
    "        try:\n",
    "            created_at = int(time.time() * 1000)  # ✅ 밀리세컨드 단위로 SK 생성\n",
    "\n",
    "            new_trade = TradingHistory(\n",
    "                trading_bot_name=trading_bot_name,\n",
    "                created_at=created_at,\n",
    "                updated_at=None,\n",
    "                symbol=symbol,\n",
    "                position=position,\n",
    "                price=price,\n",
    "                quantity=quantity,\n",
    "                data_type=data_type\n",
    "            )\n",
    "\n",
    "            connection = Connection()\n",
    "\n",
    "            with TransactWrite(connection=connection) as transaction:\n",
    "                transaction.save(new_trade, condition=(TradingHistory.created_at.does_not_exist()))\n",
    "                print(f\"✅ 트랜잭션 성공: {created_at}\")\n",
    "                return True  # 성공적으로 저장되면 종료\n",
    "\n",
    "        except ClientError as e:\n",
    "            if e.response[\"Error\"][\"Code\"] == \"TransactionCanceledException\":\n",
    "                print(\"❌ 중복된 created_at 감지! 새로운 값으로 재시도...\")\n",
    "                retry_count += 1\n",
    "            else:\n",
    "                raise  # 다른 에러 발생 시 예외 던지기\n",
    "\n",
    "    print(\"🚨 최대 재시도 횟수 초과! 거래 저장 실패\")\n",
    "    return False"
   ]
  },
  {
   "cell_type": "code",
   "execution_count": 61,
   "metadata": {},
   "outputs": [],
   "source": [
    "def execute_save(data_model):\n",
    "        max_retries = 3  # 최대 재시도 횟수\n",
    "        retry_count = 0\n",
    "\n",
    "        while retry_count < max_retries:\n",
    "            try:\n",
    "                connection = Connection()\n",
    "\n",
    "                created_at = int(time.time() * 1000)  # ✅ 밀리세컨드 단위로 SK 생성\n",
    "\n",
    "                with TransactWrite(connection=connection) as transaction:\n",
    "                    # transaction.save(data_model, condition=(TradingHistory.created_at.does_not_exist()))\n",
    "                    transaction.save(data_model, condition=(type(data_model).created_at.does_not_exist()))\n",
    "                    print(f\"✅ 트랜잭션 성공: {created_at}\")\n",
    "                    return True  # 성공적으로 저장되면 종료\n",
    "\n",
    "            except ClientError as e:\n",
    "                if e.response[\"Error\"][\"Code\"] == \"TransactionCanceledException\":\n",
    "                    print(\"❌ 중복된 created_at 감지! 새로운 값으로 재시도...\")\n",
    "                    retry_count += 1\n",
    "                else:\n",
    "                    raise  # 다른 에러 발생 시 예외 던지기\n",
    "\n",
    "        print(\"🚨 최대 재시도 횟수 초과! 거래 저장 실패\")\n",
    "        return False"
   ]
  },
  {
   "cell_type": "code",
   "execution_count": 42,
   "metadata": {},
   "outputs": [
    {
     "name": "stdout",
     "output_type": "stream",
     "text": [
      "✅ 트랜잭션 성공: 1740408172439\n"
     ]
    },
    {
     "data": {
      "text/plain": [
       "True"
      ]
     },
     "execution_count": 42,
     "metadata": {},
     "output_type": "execute_result"
    }
   ],
   "source": [
    "add_trade(\n",
    "    trading_bot_name=\"MyTradingBot_1234\",\n",
    "    symbol=\"AAPL\",\n",
    "    position=\"BUY\",\n",
    "    price=200,\n",
    "    quantity=1,\n",
    "    data_type=\"test\"\n",
    ")"
   ]
  },
  {
   "cell_type": "code",
   "execution_count": 65,
   "metadata": {},
   "outputs": [
    {
     "name": "stdout",
     "output_type": "stream",
     "text": [
      "✅ 트랜잭션 성공: 1741075189398\n"
     ]
    },
    {
     "data": {
      "text/plain": [
       "True"
      ]
     },
     "execution_count": 65,
     "metadata": {},
     "output_type": "execute_result"
    }
   ],
   "source": [
    "from app.utils.dynamodb.model.trading_history_model import TradingHistory\n",
    "from pytz import timezone\n",
    "\n",
    "\n",
    "kst = timezone(\"Asia/Seoul\")\n",
    "# 현재 시간을 KST로 변환\n",
    "current_time = datetime.now(kst)\n",
    "created_at = int(current_time.timestamp() * 1000)  # ✅ 밀리세컨드 단위로 SK 생성\n",
    "\n",
    "model = TradingHistory(\n",
    "    trading_bot_name='123',\n",
    "    created_at=created_at,\n",
    "    updated_at=None,\n",
    "    trading_logic='123',\n",
    "    trade_date=created_at,\n",
    "    symbol='123',\n",
    "    symbol_name='123',\n",
    "    position='123',\n",
    "    price=float(12.2),\n",
    "    quantity=float(12.2),\n",
    "    data_type='test'\n",
    ")\n",
    "execute_save(model)"
   ]
  },
  {
   "cell_type": "markdown",
   "metadata": {},
   "source": [
    "### 데이터 조회"
   ]
  },
  {
   "cell_type": "code",
   "execution_count": 53,
   "metadata": {},
   "outputs": [
    {
     "name": "stdout",
     "output_type": "stream",
     "text": [
      "- Symbol: AAPL, Price: 200, Quantity: 1, Created At: 1740407407897\n",
      "- Symbol: AAPL, Price: 200, Quantity: 1, Created At: 1740408172439\n"
     ]
    }
   ],
   "source": [
    "# 특정 trading_bot_name의 데이터 조회\n",
    "history = TradingHistory.scan()\n",
    "\n",
    "for trade in history:\n",
    "    print(f\"- Symbol: {trade.symbol}, Price: {trade.price}, Quantity: {trade.quantity}, Created At: {trade.created_at}\")"
   ]
  },
  {
   "cell_type": "code",
   "execution_count": 52,
   "metadata": {},
   "outputs": [
    {
     "name": "stdout",
     "output_type": "stream",
     "text": [
      "- Symbol: AAPL, Price: 200, Quantity: 1, Created At: 1740407407897\n",
      "- Symbol: AAPL, Price: 200, Quantity: 1, Created At: 1740408172439\n"
     ]
    }
   ],
   "source": [
    "# 특정 trading_bot_name의 데이터 조회\n",
    "history = TradingHistory.query(\"MyTradingBot_1234\")\n",
    "\n",
    "for trade in history:\n",
    "    print(f\"- Symbol: {trade.symbol}, Price: {trade.price}, Quantity: {trade.quantity}, Created At: {trade.created_at}\")"
   ]
  },
  {
   "cell_type": "code",
   "execution_count": null,
   "metadata": {},
   "outputs": [],
   "source": []
  }
 ],
 "metadata": {
  "kernelspec": {
   "display_name": "Python 3",
   "language": "python",
   "name": "python3"
  },
  "language_info": {
   "codemirror_mode": {
    "name": "ipython",
    "version": 3
   },
   "file_extension": ".py",
   "mimetype": "text/x-python",
   "name": "python",
   "nbconvert_exporter": "python",
   "pygments_lexer": "ipython3",
   "version": "3.12.8"
  }
 },
 "nbformat": 4,
 "nbformat_minor": 2
}
