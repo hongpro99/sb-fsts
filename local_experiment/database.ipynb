{
 "cells": [
  {
   "cell_type": "code",
   "execution_count": 57,
   "metadata": {},
   "outputs": [
    {
     "name": "stdout",
     "output_type": "stream",
     "text": [
      "/Users/hsh/dev_project/sb-fsts\n"
     ]
    }
   ],
   "source": [
    "#프로젝트의 루트 디렉토리를 설정하기 위한 코드\n",
    "import os\n",
    "current_dir = os.getcwd()  # 현재 작업 디렉토리\n",
    "print(os.path.dirname(current_dir))\n",
    "# print(os.path.dirname(os.path.dirname(current_dir)))\n",
    "# 루트 경로 설정 (예: 프로젝트 루트 경로)\n",
    "project_root = os.path.dirname(current_dir)\n",
    "os.chdir(project_root)  # 루트 경로로 변경"
   ]
  },
  {
   "cell_type": "code",
   "execution_count": 58,
   "metadata": {},
   "outputs": [],
   "source": [
    "from app.utils.crud_sql import SQLExecutor\n",
    "from app.utils.database import get_db, get_db_session\n",
    "\n",
    "sql_executor = SQLExecutor()"
   ]
  },
  {
   "cell_type": "code",
   "execution_count": 4,
   "metadata": {},
   "outputs": [
    {
     "name": "stdout",
     "output_type": "stream",
     "text": [
      "[{'id': 'id3', 'name': 'name3'}, {'id': 'id5', 'name': 'name5'}, {'id': 'id6', 'name': 'name6'}, {'id': 'id7', 'name': 'name7'}, {'id': 'id1', 'name': 'updated_name1'}, {'id': 'id2', 'name': 'upserted_name2'}, {'id': 'id4', 'name': 'upserted_name4'}]\n"
     ]
    }
   ],
   "source": [
    "query = \"\"\"\n",
    "        SELECT \n",
    "            *\n",
    "        FROM \n",
    "            fsts.test_table\n",
    "    \"\"\"\n",
    "\n",
    "params = {}\n",
    "\n",
    "with get_db_session() as db:\n",
    "    result = sql_executor.execute_select(db, query, params)\n",
    "\n",
    "print(result)"
   ]
  },
  {
   "cell_type": "code",
   "execution_count": null,
   "metadata": {},
   "outputs": [],
   "source": [
    "# RETURNING * 꼭 붙여야 함.\n",
    "query = \"\"\"\n",
    "    INSERT INTO fsts.test_table\n",
    "    (id, name)\n",
    "    VALUES (:id, :name)\n",
    "    RETURNING *;\n",
    "\"\"\"\n",
    "\n",
    "id = 'id4'\n",
    "name = 'name4'\n",
    "\n",
    "params = {\n",
    "    \"id\": id,\n",
    "    \"name\": name\n",
    "}\n",
    "\n",
    "with get_db_session() as db:\n",
    "    result = sql_executor.execute_insert(db, query, params)"
   ]
  },
  {
   "cell_type": "code",
   "execution_count": null,
   "metadata": {},
   "outputs": [],
   "source": [
    "#여러 데이터를 한번에 삽입하고 싶을 때\n",
    "# 여러 데이터 정의\n",
    "data = [\n",
    "    {\"id\": \"id5\", \"name\": \"name5\"},\n",
    "    {\"id\": \"id6\", \"name\": \"name6\"},\n",
    "    {\"id\": \"id7\", \"name\": \"name7\"}\n",
    "]\n",
    "\n",
    "# 다중 데이터 삽입 쿼리\n",
    "query = \"\"\"\n",
    "    INSERT INTO fsts.test_table\n",
    "    (id, name)\n",
    "    VALUES (:id, :name)\n",
    "    RETURNING *;\n",
    "\"\"\"\n",
    "\n",
    "# 데이터 삽입 및 결과 저장\n",
    "results = []\n",
    "with get_db_session() as db:\n",
    "    for row in data:\n",
    "        result = sql_executor.execute_insert(db, query, row)\n",
    "        results.append(result)\n",
    "\n",
    "print(\"삽입된 데이터:\")\n",
    "print(results)"
   ]
  },
  {
   "cell_type": "code",
   "execution_count": 6,
   "metadata": {},
   "outputs": [
    {
     "name": "stdout",
     "output_type": "stream",
     "text": [
      "Update succeeded: [{'id': 'id2', 'name': 'HONG'}]\n"
     ]
    }
   ],
   "source": [
    "# UPDATE 테스트\n",
    "query_update = \"\"\"\n",
    "    UPDATE fsts.test_table\n",
    "    SET name = :name\n",
    "    WHERE id = :id\n",
    "    RETURNING *;\n",
    "\"\"\"\n",
    "#:는 파라미터 바인딩 형식\n",
    "\n",
    "params_update = {\n",
    "    \"id\": \"id2\",\n",
    "    \"name\": \"HONG\"\n",
    "}\n",
    "\n",
    "with get_db_session() as db:\n",
    "    result_update = sql_executor.execute_update(db, query_update, params_update)"
   ]
  },
  {
   "cell_type": "markdown",
   "metadata": {},
   "source": [
    "# DynamoDB"
   ]
  },
  {
   "cell_type": "code",
   "execution_count": 22,
   "metadata": {},
   "outputs": [],
   "source": [
    "from pynamodb.models import Model\n",
    "from pynamodb.attributes import UnicodeAttribute, NumberAttribute, ListAttribute, MapAttribute\n",
    "from datetime import datetime\n",
    "import time\n",
    "\n",
    "# 매매 이력 (trading_history)에서 사용될 속성 정의\n",
    "class TradeHistory(MapAttribute):\n",
    "    trading_logic = UnicodeAttribute()\n",
    "    symbol = UnicodeAttribute()\n",
    "    symbol_name = UnicodeAttribute()\n",
    "    position = UnicodeAttribute()\n",
    "    price = NumberAttribute()\n",
    "    quantity = NumberAttribute()\n",
    "    created_at = NumberAttribute()\n",
    "    updated_at = UnicodeAttribute(null=True)\n",
    "    data_type = UnicodeAttribute()\n",
    "\n",
    "# DynamoDB 테이블 모델 정의\n",
    "class TradingBot(Model):\n",
    "    class Meta:\n",
    "        table_name = \"fsts-trading-bot\"\n",
    "        region = \"ap-northeast-2\"\n",
    "\n",
    "    trading_bot_name = UnicodeAttribute(hash_key=True)  # PK 설정\n",
    "    created_at = NumberAttribute()\n",
    "    trading_history = ListAttribute(of=TradeHistory)  # 리스트 저장 가능\n",
    "\n",
    "# 테이블 생성 (최초 1회 실행)\n",
    "# if not TradingBot.exists():\n",
    "#     TradingBot.create_table(read_capacity_units=5, write_capacity_units=5, wait=True)"
   ]
  },
  {
   "cell_type": "code",
   "execution_count": 45,
   "metadata": {},
   "outputs": [],
   "source": [
    "from pynamodb.models import Model\n",
    "from pynamodb.attributes import UnicodeAttribute, NumberAttribute\n",
    "import time\n",
    "import uuid\n",
    "\n",
    "class TradingHistory(Model):\n",
    "    class Meta:\n",
    "        table_name = \"fsts-trading-history\"\n",
    "        region = \"ap-northeast-2\"\n",
    "\n",
    "    trading_bot_name = UnicodeAttribute(hash_key=True)  # ✅ PK\n",
    "    created_at = NumberAttribute(range_key=True)  # ✅ SK (밀리세컨드 단위)\n",
    "    updated_at = UnicodeAttribute(null=True)\n",
    "    symbol = UnicodeAttribute()\n",
    "    position = UnicodeAttribute()\n",
    "    price = NumberAttribute()\n",
    "    quantity = NumberAttribute()\n",
    "    data_type = UnicodeAttribute()"
   ]
  },
  {
   "cell_type": "code",
   "execution_count": 40,
   "metadata": {},
   "outputs": [],
   "source": [
    "from pynamodb.transactions import TransactWrite\n",
    "from pynamodb.connection import Connection\n",
    "from botocore.exceptions import ClientError\n",
    "\n",
    "def add_trade(trading_bot_name, symbol, position, price, quantity, data_type):\n",
    "    max_retries = 3  # 최대 재시도 횟수\n",
    "    retry_count = 0\n",
    "\n",
    "    while retry_count < max_retries:\n",
    "        try:\n",
    "            created_at = int(time.time() * 1000)  # ✅ 밀리세컨드 단위로 SK 생성\n",
    "\n",
    "            new_trade = TradingHistory(\n",
    "                trading_bot_name=trading_bot_name,\n",
    "                created_at=created_at,\n",
    "                updated_at=None,\n",
    "                symbol=symbol,\n",
    "                position=position,\n",
    "                price=price,\n",
    "                quantity=quantity,\n",
    "                data_type=data_type\n",
    "            )\n",
    "\n",
    "            connection = Connection()\n",
    "\n",
    "            with TransactWrite(connection=connection) as transaction:\n",
    "                transaction.save(new_trade, condition=(TradingHistory.created_at.does_not_exist()))\n",
    "                print(f\"✅ 트랜잭션 성공: {created_at}\")\n",
    "                return True  # 성공적으로 저장되면 종료\n",
    "\n",
    "        except ClientError as e:\n",
    "            if e.response[\"Error\"][\"Code\"] == \"TransactionCanceledException\":\n",
    "                print(\"❌ 중복된 created_at 감지! 새로운 값으로 재시도...\")\n",
    "                retry_count += 1\n",
    "            else:\n",
    "                raise  # 다른 에러 발생 시 예외 던지기\n",
    "\n",
    "    print(\"🚨 최대 재시도 횟수 초과! 거래 저장 실패\")\n",
    "    return False"
   ]
  },
  {
   "cell_type": "code",
   "execution_count": 66,
   "metadata": {},
   "outputs": [],
   "source": [
    "def execute_save(data_model):\n",
    "        max_retries = 3  # 최대 재시도 횟수\n",
    "        retry_count = 0\n",
    "\n",
    "        while retry_count < max_retries:\n",
    "            try:\n",
    "                connection = Connection()\n",
    "\n",
    "                created_at = int(time.time() * 1000)  # ✅ 밀리세컨드 단위로 SK 생성\n",
    "\n",
    "                with TransactWrite(connection=connection) as transaction:\n",
    "                    # transaction.save(data_model, condition=(TradingHistory.created_at.does_not_exist()))\n",
    "                    result = transaction.save(data_model, condition=(type(data_model).created_at.does_not_exist()))\n",
    "                    print(f\"✅ 트랜잭션 성공: {created_at}, {result}\")\n",
    "                    return True  # 성공적으로 저장되면 종료\n",
    "\n",
    "            except ClientError as e:\n",
    "                if e.response[\"Error\"][\"Code\"] == \"TransactionCanceledException\":\n",
    "                    print(\"❌ 중복된 created_at 감지! 새로운 값으로 재시도...\")\n",
    "                    retry_count += 1\n",
    "                else:\n",
    "                    raise  # 다른 에러 발생 시 예외 던지기\n",
    "\n",
    "        print(\"🚨 최대 재시도 횟수 초과! 거래 저장 실패\")\n",
    "        return False"
   ]
  },
  {
   "cell_type": "code",
   "execution_count": 42,
   "metadata": {},
   "outputs": [
    {
     "name": "stdout",
     "output_type": "stream",
     "text": [
      "✅ 트랜잭션 성공: 1740408172439\n"
     ]
    },
    {
     "data": {
      "text/plain": [
       "True"
      ]
     },
     "execution_count": 42,
     "metadata": {},
     "output_type": "execute_result"
    }
   ],
   "source": [
    "add_trade(\n",
    "    trading_bot_name=\"MyTradingBot_1234\",\n",
    "    symbol=\"AAPL\",\n",
    "    position=\"BUY\",\n",
    "    price=200,\n",
    "    quantity=1,\n",
    "    data_type=\"test\"\n",
    ")"
   ]
  },
  {
   "cell_type": "code",
   "execution_count": 71,
   "metadata": {},
   "outputs": [],
   "source": [
    "kospi = [\n",
    "  {\"name\": \"삼성전자\", \"symbol\": \"005930\"},\n",
    "  {\"name\": \"SK하이닉스\", \"symbol\": \"000660\"},\n",
    "  {\"name\": \"LG에너지솔루션\", \"symbol\": \"373220\"},\n",
    "  {\"name\": \"삼성바이오로직스\", \"symbol\": \"207940\"},\n",
    "  {\"name\": \"현대차\", \"symbol\": \"005380\"},\n",
    "  {\"name\": \"셀트리온\", \"symbol\": \"068270\"},\n",
    "  {\"name\": \"기아\", \"symbol\": \"000270\"},\n",
    "  {\"name\": \"NAVER\", \"symbol\": \"035420\"},\n",
    "  {\"name\": \"한화에어로스페이스\", \"symbol\": \"012450\"},\n",
    "  {\"name\": \"KB금융\", \"symbol\": \"105560\"},\n",
    "  {\"name\": \"HD현대중공업\", \"symbol\": \"329180\"},\n",
    "  {\"name\": \"POSCO홀딩스\", \"symbol\": \"005490\"},\n",
    "  {\"name\": \"한화오션\", \"symbol\": \"042660\"},\n",
    "  {\"name\": \"현대모비스\", \"symbol\": \"012330\"},\n",
    "  {\"name\": \"메리츠금융지주\", \"symbol\": \"138040\"},\n",
    "  {\"name\": \"신한지주\", \"symbol\": \"055550\"},\n",
    "  {\"name\": \"삼성물산\", \"symbol\": \"028260\"},\n",
    "  {\"name\": \"카카오\", \"symbol\": \"035720\"},\n",
    "  {\"name\": \"SK이노베이션\", \"symbol\": \"096770\"},\n",
    "  {\"name\": \"HMM\", \"symbol\": \"011200\"},\n",
    "  {\"name\": \"LG화학\", \"symbol\": \"051910\"},\n",
    "  {\"name\": \"삼성화재\", \"symbol\": \"000810\"},\n",
    "  {\"name\": \"두산에너빌리티\", \"symbol\": \"034020\"},\n",
    "  {\"name\": \"삼성생명\", \"symbol\": \"032830\"},\n",
    "  {\"name\": \"크래프톤\", \"symbol\": \"259960\"},\n",
    "  {\"name\": \"하나금융지주\", \"symbol\": \"086790\"},\n",
    "  {\"name\": \"HD한국조선해양\", \"symbol\": \"009540\"},\n",
    "  {\"name\": \"삼성SDI\", \"symbol\": \"006400\"},\n",
    "  {\"name\": \"고려아연\", \"symbol\": \"010130\"},\n",
    "  {\"name\": \"한국전력\", \"symbol\": \"015760\"},\n",
    "  {\"name\": \"삼성중공업\", \"symbol\": \"010140\"},\n",
    "  {\"name\": \"LG전자\", \"symbol\": \"066570\"},\n",
    "  {\"name\": \"기업은행\", \"symbol\": \"024110\"},\n",
    "  {\"name\": \"KT\", \"symbol\": \"030200\"},\n",
    "  {\"name\": \"HD현대일렉트릭\", \"symbol\": \"267260\"},\n",
    "  {\"name\": \"KT&G\", \"symbol\": \"033780\"},\n",
    "  {\"name\": \"SK스퀘어\", \"symbol\": \"402340\"},\n",
    "  {\"name\": \"SK텔레콤\", \"symbol\": \"017670\"},\n",
    "  {\"name\": \"우리금융지주\", \"symbol\": \"316140\"},\n",
    "  {\"name\": \"카카오뱅크\", \"symbol\": \"323410\"},\n",
    "  {\"name\": \"포스코퓨처엠\", \"symbol\": \"003670\"},\n",
    "  {\"name\": \"한화생명\", \"symbol\": \"088350\"},\n",
    "  {\"name\": \"CJ대한통운\", \"symbol\": \"000120\"},\n",
    "  {\"name\": \"팬오션\", \"symbol\": \"028670\"},\n",
    "  {\"name\": \"현대엘리베이\", \"symbol\": \"017800\"},\n",
    "  {\"name\": \"코스맥스\", \"symbol\": \"192820\"},\n",
    "  {\"name\": \"영원무역\", \"symbol\": \"111770\"},\n",
    "  {\"name\": \"현대해상\", \"symbol\": \"001450\"},\n",
    "  {\"name\": \"제일기획\", \"symbol\": \"030000\"},\n",
    "  {\"name\": \"HL만도\", \"symbol\": \"204320\"},\n",
    "  {\"name\": \"SK아이이테크놀로지\", \"symbol\": \"361610\"},\n",
    "  {\"name\": \"한전KPS\", \"symbol\": \"051600\"},\n",
    "  {\"name\": \"롯데쇼핑\", \"symbol\": \"023530\"},\n",
    "  {\"name\": \"한미사이언스\", \"symbol\": \"008930\"},\n",
    "  {\"name\": \"한올바이오파마\", \"symbol\": \"009420\"},\n",
    "  {\"name\": \"HD현대인프라코어\", \"symbol\": \"042670\"},\n",
    "  {\"name\": \"풍산\", \"symbol\": \"103140\"},\n",
    "  {\"name\": \"BGF리테일\", \"symbol\": \"282330\"},\n",
    "  {\"name\": \"아모레G\", \"symbol\": \"002790\"},\n",
    "  {\"name\": \"DL이앤씨\", \"symbol\": \"375500\"},\n",
    "  {\"name\": \"오뚜기\", \"symbol\": \"007310\"},\n",
    "  {\"name\": \"OCI홀딩스\", \"symbol\": \"010060\"},\n",
    "  {\"name\": \"코스모신소재\", \"symbol\": \"005070\"},\n",
    "  {\"name\": \"신세계\", \"symbol\": \"004170\"},\n",
    "  {\"name\": \"GS건설\", \"symbol\": \"006360\"},\n",
    "  {\"name\": \"호텔신라\", \"symbol\": \"008770\"},\n",
    "  {\"name\": \"이수스페셜티케미컬\", \"symbol\": \"457190\"},\n",
    "  {\"name\": \"씨에스윈드\", \"symbol\": \"112610\"},\n",
    "  {\"name\": \"한국앤컴퍼니\", \"symbol\": \"000240\"},\n",
    "  {\"name\": \"녹십자\", \"symbol\": \"006280\"},\n",
    "  {\"name\": \"DGB금융지주\", \"symbol\": \"139130\"},\n",
    "  {\"name\": \"에스엘\", \"symbol\": \"005850\"},\n",
    "  {\"name\": \"한국콜마\", \"symbol\": \"161890\"},\n",
    "  {\"name\": \"대우건설\", \"symbol\": \"047040\"},\n",
    "  {\"name\": \"대웅제약\", \"symbol\": \"069620\"},\n",
    "  {\"name\": \"금호타이어\", \"symbol\": \"073240\"},\n",
    "  {\"name\": \"한솔케미칼\", \"symbol\": \"014680\"},\n",
    "  {\"name\": \"현대백화점\", \"symbol\": \"069960\"},\n",
    "  {\"name\": \"하이트진로\", \"symbol\": \"000080\"},\n",
    "  {\"name\": \"에스디바이오센서\", \"symbol\": \"137310\"},\n",
    "  {\"name\": \"GS리테일\", \"symbol\": \"007070\"},\n",
    "  {\"name\": \"영원무역홀딩스\", \"symbol\": \"009970\"}\n",
    "]"
   ]
  },
  {
   "cell_type": "code",
   "execution_count": 74,
   "metadata": {},
   "outputs": [
    {
     "name": "stdout",
     "output_type": "stream",
     "text": [
      "✅ 트랜잭션 성공: 1741498228029, None\n"
     ]
    },
    {
     "ename": "TransactWriteError",
     "evalue": "Failed to write transaction items",
     "output_type": "error",
     "traceback": [
      "\u001b[0;31m---------------------------------------------------------------------------\u001b[0m",
      "\u001b[0;31mTransactionCanceledException\u001b[0m              Traceback (most recent call last)",
      "File \u001b[0;32m~/miniconda3/envs/sb-fsts/lib/python3.12/site-packages/pynamodb/connection/base.py:340\u001b[0m, in \u001b[0;36mConnection._make_api_call\u001b[0;34m(self, operation_name, operation_kwargs)\u001b[0m\n\u001b[1;32m    339\u001b[0m \u001b[38;5;28;01mtry\u001b[39;00m:\n\u001b[0;32m--> 340\u001b[0m     \u001b[38;5;28;01mreturn\u001b[39;00m \u001b[38;5;28;43mself\u001b[39;49m\u001b[38;5;241;43m.\u001b[39;49m\u001b[43mclient\u001b[49m\u001b[38;5;241;43m.\u001b[39;49m\u001b[43m_make_api_call\u001b[49m\u001b[43m(\u001b[49m\u001b[43moperation_name\u001b[49m\u001b[43m,\u001b[49m\u001b[43m \u001b[49m\u001b[43moperation_kwargs\u001b[49m\u001b[43m)\u001b[49m\n\u001b[1;32m    341\u001b[0m \u001b[38;5;28;01mexcept\u001b[39;00m ClientError \u001b[38;5;28;01mas\u001b[39;00m e:\n",
      "File \u001b[0;32m~/miniconda3/envs/sb-fsts/lib/python3.12/site-packages/botocore/client.py:1023\u001b[0m, in \u001b[0;36mBaseClient._make_api_call\u001b[0;34m(self, operation_name, api_params)\u001b[0m\n\u001b[1;32m   1022\u001b[0m     error_class \u001b[38;5;241m=\u001b[39m \u001b[38;5;28mself\u001b[39m\u001b[38;5;241m.\u001b[39mexceptions\u001b[38;5;241m.\u001b[39mfrom_code(error_code)\n\u001b[0;32m-> 1023\u001b[0m     \u001b[38;5;28;01mraise\u001b[39;00m error_class(parsed_response, operation_name)\n\u001b[1;32m   1024\u001b[0m \u001b[38;5;28;01melse\u001b[39;00m:\n",
      "\u001b[0;31mTransactionCanceledException\u001b[0m: An error occurred (TransactionCanceledException) when calling the TransactWriteItems operation: Transaction cancelled, please refer cancellation reasons for specific reasons [ConditionalCheckFailed]",
      "\nThe above exception was the direct cause of the following exception:\n",
      "\u001b[0;31mVerboseClientError\u001b[0m                        Traceback (most recent call last)",
      "File \u001b[0;32m~/miniconda3/envs/sb-fsts/lib/python3.12/site-packages/pynamodb/connection/base.py:963\u001b[0m, in \u001b[0;36mConnection.transact_write_items\u001b[0;34m(self, condition_check_items, delete_items, put_items, update_items, client_request_token, return_consumed_capacity, return_item_collection_metrics)\u001b[0m\n\u001b[1;32m    962\u001b[0m \u001b[38;5;28;01mtry\u001b[39;00m:\n\u001b[0;32m--> 963\u001b[0m     \u001b[38;5;28;01mreturn\u001b[39;00m \u001b[38;5;28;43mself\u001b[39;49m\u001b[38;5;241;43m.\u001b[39;49m\u001b[43mdispatch\u001b[49m\u001b[43m(\u001b[49m\u001b[43mTRANSACT_WRITE_ITEMS\u001b[49m\u001b[43m,\u001b[49m\u001b[43m \u001b[49m\u001b[43moperation_kwargs\u001b[49m\u001b[43m)\u001b[49m\n\u001b[1;32m    964\u001b[0m \u001b[38;5;28;01mexcept\u001b[39;00m BOTOCORE_EXCEPTIONS \u001b[38;5;28;01mas\u001b[39;00m e:\n",
      "File \u001b[0;32m~/miniconda3/envs/sb-fsts/lib/python3.12/site-packages/pynamodb/connection/base.py:312\u001b[0m, in \u001b[0;36mConnection.dispatch\u001b[0;34m(self, operation_name, operation_kwargs)\u001b[0m\n\u001b[1;32m    311\u001b[0m \u001b[38;5;28mself\u001b[39m\u001b[38;5;241m.\u001b[39msend_pre_boto_callback(operation_name, req_uuid, table_name)\n\u001b[0;32m--> 312\u001b[0m data \u001b[38;5;241m=\u001b[39m \u001b[38;5;28;43mself\u001b[39;49m\u001b[38;5;241;43m.\u001b[39;49m\u001b[43m_make_api_call\u001b[49m\u001b[43m(\u001b[49m\u001b[43moperation_name\u001b[49m\u001b[43m,\u001b[49m\u001b[43m \u001b[49m\u001b[43moperation_kwargs\u001b[49m\u001b[43m)\u001b[49m\n\u001b[1;32m    313\u001b[0m \u001b[38;5;28mself\u001b[39m\u001b[38;5;241m.\u001b[39msend_post_boto_callback(operation_name, req_uuid, table_name)\n",
      "File \u001b[0;32m~/miniconda3/envs/sb-fsts/lib/python3.12/site-packages/pynamodb/connection/base.py:350\u001b[0m, in \u001b[0;36mConnection._make_api_call\u001b[0;34m(self, operation_name, operation_kwargs)\u001b[0m\n\u001b[1;32m    346\u001b[0m verbose_props \u001b[38;5;241m=\u001b[39m {\n\u001b[1;32m    347\u001b[0m     \u001b[38;5;124m'\u001b[39m\u001b[38;5;124mrequest_id\u001b[39m\u001b[38;5;124m'\u001b[39m: resp_metadata\u001b[38;5;241m.\u001b[39mget(\u001b[38;5;124m'\u001b[39m\u001b[38;5;124mx-amzn-requestid\u001b[39m\u001b[38;5;124m'\u001b[39m, \u001b[38;5;124m'\u001b[39m\u001b[38;5;124m'\u001b[39m),\n\u001b[1;32m    348\u001b[0m     \u001b[38;5;124m'\u001b[39m\u001b[38;5;124mtable_name\u001b[39m\u001b[38;5;124m'\u001b[39m: \u001b[38;5;28mself\u001b[39m\u001b[38;5;241m.\u001b[39m_get_table_name_for_error_context(operation_kwargs),\n\u001b[1;32m    349\u001b[0m }\n\u001b[0;32m--> 350\u001b[0m \u001b[38;5;28;01mraise\u001b[39;00m VerboseClientError(\n\u001b[1;32m    351\u001b[0m     botocore_props,\n\u001b[1;32m    352\u001b[0m     operation_name,\n\u001b[1;32m    353\u001b[0m     verbose_props,\n\u001b[1;32m    354\u001b[0m     cancellation_reasons\u001b[38;5;241m=\u001b[39m(\n\u001b[1;32m    355\u001b[0m         (\n\u001b[1;32m    356\u001b[0m             CancellationReason(\n\u001b[1;32m    357\u001b[0m                 code\u001b[38;5;241m=\u001b[39md[\u001b[38;5;124m'\u001b[39m\u001b[38;5;124mCode\u001b[39m\u001b[38;5;124m'\u001b[39m],\n\u001b[1;32m    358\u001b[0m                 message\u001b[38;5;241m=\u001b[39md\u001b[38;5;241m.\u001b[39mget(\u001b[38;5;124m'\u001b[39m\u001b[38;5;124mMessage\u001b[39m\u001b[38;5;124m'\u001b[39m),\n\u001b[1;32m    359\u001b[0m                 raw_item\u001b[38;5;241m=\u001b[39mcast(Optional[Dict[\u001b[38;5;28mstr\u001b[39m, Dict[\u001b[38;5;28mstr\u001b[39m, Any]]], d\u001b[38;5;241m.\u001b[39mget(\u001b[38;5;124m'\u001b[39m\u001b[38;5;124mItem\u001b[39m\u001b[38;5;124m'\u001b[39m)),\n\u001b[1;32m    360\u001b[0m             ) \u001b[38;5;28;01mif\u001b[39;00m d[\u001b[38;5;124m'\u001b[39m\u001b[38;5;124mCode\u001b[39m\u001b[38;5;124m'\u001b[39m] \u001b[38;5;241m!=\u001b[39m \u001b[38;5;124m'\u001b[39m\u001b[38;5;124mNone\u001b[39m\u001b[38;5;124m'\u001b[39m \u001b[38;5;28;01melse\u001b[39;00m \u001b[38;5;28;01mNone\u001b[39;00m\n\u001b[1;32m    361\u001b[0m         )\n\u001b[1;32m    362\u001b[0m         \u001b[38;5;28;01mfor\u001b[39;00m d \u001b[38;5;129;01min\u001b[39;00m cancellation_reasons\n\u001b[1;32m    363\u001b[0m     ),\n\u001b[1;32m    364\u001b[0m ) \u001b[38;5;28;01mfrom\u001b[39;00m \u001b[38;5;21;01me\u001b[39;00m\n",
      "\u001b[0;31mVerboseClientError\u001b[0m: An error occurred (TransactionCanceledException) on request (QQQ547OR42AT99R1JH80VDE8LVVV4KQNSO5AEMVJF66Q9ASUAAJG) on table (fsts-stock-symbol) when calling the TransactWriteItems operation: Transaction cancelled, please refer cancellation reasons for specific reasons [ConditionalCheckFailed]",
      "\nDuring handling of the above exception, another exception occurred:\n",
      "\u001b[0;31mTransactWriteError\u001b[0m                        Traceback (most recent call last)",
      "Cell \u001b[0;32mIn[74], line 19\u001b[0m\n\u001b[1;32m     10\u001b[0m created_at \u001b[38;5;241m=\u001b[39m \u001b[38;5;28mint\u001b[39m(current_time\u001b[38;5;241m.\u001b[39mtimestamp() \u001b[38;5;241m*\u001b[39m \u001b[38;5;241m1000\u001b[39m)  \u001b[38;5;66;03m# ✅ 밀리세컨드 단위로 SK 생성\u001b[39;00m\n\u001b[1;32m     12\u001b[0m model \u001b[38;5;241m=\u001b[39m StockSymbol(\n\u001b[1;32m     13\u001b[0m     symbol\u001b[38;5;241m=\u001b[39mi[\u001b[38;5;124m'\u001b[39m\u001b[38;5;124msymbol\u001b[39m\u001b[38;5;124m'\u001b[39m],\n\u001b[1;32m     14\u001b[0m     created_at\u001b[38;5;241m=\u001b[39mcreated_at,\n\u001b[0;32m   (...)\u001b[0m\n\u001b[1;32m     17\u001b[0m     \u001b[38;5;28mtype\u001b[39m\u001b[38;5;241m=\u001b[39m\u001b[38;5;124m'\u001b[39m\u001b[38;5;124mkospi200\u001b[39m\u001b[38;5;124m'\u001b[39m\n\u001b[1;32m     18\u001b[0m )\n\u001b[0;32m---> 19\u001b[0m \u001b[43mexecute_save\u001b[49m\u001b[43m(\u001b[49m\u001b[43mmodel\u001b[49m\u001b[43m)\u001b[49m\n",
      "Cell \u001b[0;32mIn[66], line 11\u001b[0m, in \u001b[0;36mexecute_save\u001b[0;34m(data_model)\u001b[0m\n\u001b[1;32m      7\u001b[0m connection \u001b[38;5;241m=\u001b[39m Connection()\n\u001b[1;32m      9\u001b[0m created_at \u001b[38;5;241m=\u001b[39m \u001b[38;5;28mint\u001b[39m(time\u001b[38;5;241m.\u001b[39mtime() \u001b[38;5;241m*\u001b[39m \u001b[38;5;241m1000\u001b[39m)  \u001b[38;5;66;03m# ✅ 밀리세컨드 단위로 SK 생성\u001b[39;00m\n\u001b[0;32m---> 11\u001b[0m \u001b[38;5;28;01mwith\u001b[39;00m \u001b[43mTransactWrite\u001b[49m\u001b[43m(\u001b[49m\u001b[43mconnection\u001b[49m\u001b[38;5;241;43m=\u001b[39;49m\u001b[43mconnection\u001b[49m\u001b[43m)\u001b[49m \u001b[38;5;28;01mas\u001b[39;00m transaction:\n\u001b[1;32m     12\u001b[0m     \u001b[38;5;66;03m# transaction.save(data_model, condition=(TradingHistory.created_at.does_not_exist()))\u001b[39;00m\n\u001b[1;32m     13\u001b[0m     result \u001b[38;5;241m=\u001b[39m transaction\u001b[38;5;241m.\u001b[39msave(data_model, condition\u001b[38;5;241m=\u001b[39m(\u001b[38;5;28mtype\u001b[39m(data_model)\u001b[38;5;241m.\u001b[39mcreated_at\u001b[38;5;241m.\u001b[39mdoes_not_exist()))\n\u001b[1;32m     14\u001b[0m     \u001b[38;5;28mprint\u001b[39m(\u001b[38;5;124mf\u001b[39m\u001b[38;5;124m\"\u001b[39m\u001b[38;5;124m✅ 트랜잭션 성공: \u001b[39m\u001b[38;5;132;01m{\u001b[39;00mcreated_at\u001b[38;5;132;01m}\u001b[39;00m\u001b[38;5;124m, \u001b[39m\u001b[38;5;132;01m{\u001b[39;00mresult\u001b[38;5;132;01m}\u001b[39;00m\u001b[38;5;124m\"\u001b[39m)\n",
      "File \u001b[0;32m~/miniconda3/envs/sb-fsts/lib/python3.12/site-packages/pynamodb/transactions.py:31\u001b[0m, in \u001b[0;36mTransaction.__exit__\u001b[0;34m(self, exc_type, exc_val, exc_tb)\u001b[0m\n\u001b[1;32m     29\u001b[0m \u001b[38;5;28;01mdef\u001b[39;00m \u001b[38;5;21m__exit__\u001b[39m(\u001b[38;5;28mself\u001b[39m, exc_type, exc_val, exc_tb):\n\u001b[1;32m     30\u001b[0m     \u001b[38;5;28;01mif\u001b[39;00m exc_type \u001b[38;5;129;01mis\u001b[39;00m \u001b[38;5;28;01mNone\u001b[39;00m \u001b[38;5;129;01mand\u001b[39;00m exc_val \u001b[38;5;129;01mis\u001b[39;00m \u001b[38;5;28;01mNone\u001b[39;00m \u001b[38;5;129;01mand\u001b[39;00m exc_tb \u001b[38;5;129;01mis\u001b[39;00m \u001b[38;5;28;01mNone\u001b[39;00m:\n\u001b[0;32m---> 31\u001b[0m         \u001b[38;5;28;43mself\u001b[39;49m\u001b[38;5;241;43m.\u001b[39;49m\u001b[43m_commit\u001b[49m\u001b[43m(\u001b[49m\u001b[43m)\u001b[49m\n",
      "File \u001b[0;32m~/miniconda3/envs/sb-fsts/lib/python3.12/site-packages/pynamodb/transactions.py:132\u001b[0m, in \u001b[0;36mTransactWrite._commit\u001b[0;34m(self)\u001b[0m\n\u001b[1;32m    131\u001b[0m \u001b[38;5;28;01mdef\u001b[39;00m \u001b[38;5;21m_commit\u001b[39m(\u001b[38;5;28mself\u001b[39m) \u001b[38;5;241m-\u001b[39m\u001b[38;5;241m>\u001b[39m Any:\n\u001b[0;32m--> 132\u001b[0m     response \u001b[38;5;241m=\u001b[39m \u001b[38;5;28;43mself\u001b[39;49m\u001b[38;5;241;43m.\u001b[39;49m\u001b[43m_connection\u001b[49m\u001b[38;5;241;43m.\u001b[39;49m\u001b[43mtransact_write_items\u001b[49m\u001b[43m(\u001b[49m\n\u001b[1;32m    133\u001b[0m \u001b[43m        \u001b[49m\u001b[43mcondition_check_items\u001b[49m\u001b[38;5;241;43m=\u001b[39;49m\u001b[38;5;28;43mself\u001b[39;49m\u001b[38;5;241;43m.\u001b[39;49m\u001b[43m_condition_check_items\u001b[49m\u001b[43m,\u001b[49m\n\u001b[1;32m    134\u001b[0m \u001b[43m        \u001b[49m\u001b[43mdelete_items\u001b[49m\u001b[38;5;241;43m=\u001b[39;49m\u001b[38;5;28;43mself\u001b[39;49m\u001b[38;5;241;43m.\u001b[39;49m\u001b[43m_delete_items\u001b[49m\u001b[43m,\u001b[49m\n\u001b[1;32m    135\u001b[0m \u001b[43m        \u001b[49m\u001b[43mput_items\u001b[49m\u001b[38;5;241;43m=\u001b[39;49m\u001b[38;5;28;43mself\u001b[39;49m\u001b[38;5;241;43m.\u001b[39;49m\u001b[43m_put_items\u001b[49m\u001b[43m,\u001b[49m\n\u001b[1;32m    136\u001b[0m \u001b[43m        \u001b[49m\u001b[43mupdate_items\u001b[49m\u001b[38;5;241;43m=\u001b[39;49m\u001b[38;5;28;43mself\u001b[39;49m\u001b[38;5;241;43m.\u001b[39;49m\u001b[43m_update_items\u001b[49m\u001b[43m,\u001b[49m\n\u001b[1;32m    137\u001b[0m \u001b[43m        \u001b[49m\u001b[43mclient_request_token\u001b[49m\u001b[38;5;241;43m=\u001b[39;49m\u001b[38;5;28;43mself\u001b[39;49m\u001b[38;5;241;43m.\u001b[39;49m\u001b[43m_client_request_token\u001b[49m\u001b[43m,\u001b[49m\n\u001b[1;32m    138\u001b[0m \u001b[43m        \u001b[49m\u001b[43mreturn_consumed_capacity\u001b[49m\u001b[38;5;241;43m=\u001b[39;49m\u001b[38;5;28;43mself\u001b[39;49m\u001b[38;5;241;43m.\u001b[39;49m\u001b[43m_return_consumed_capacity\u001b[49m\u001b[43m,\u001b[49m\n\u001b[1;32m    139\u001b[0m \u001b[43m        \u001b[49m\u001b[43mreturn_item_collection_metrics\u001b[49m\u001b[38;5;241;43m=\u001b[39;49m\u001b[38;5;28;43mself\u001b[39;49m\u001b[38;5;241;43m.\u001b[39;49m\u001b[43m_return_item_collection_metrics\u001b[49m\u001b[43m,\u001b[49m\n\u001b[1;32m    140\u001b[0m \u001b[43m    \u001b[49m\u001b[43m)\u001b[49m\n\u001b[1;32m    141\u001b[0m     \u001b[38;5;28;01mfor\u001b[39;00m model \u001b[38;5;129;01min\u001b[39;00m \u001b[38;5;28mself\u001b[39m\u001b[38;5;241m.\u001b[39m_models_for_version_attribute_update:\n\u001b[1;32m    142\u001b[0m         model\u001b[38;5;241m.\u001b[39mupdate_local_version_attribute()\n",
      "File \u001b[0;32m~/miniconda3/envs/sb-fsts/lib/python3.12/site-packages/pynamodb/connection/base.py:965\u001b[0m, in \u001b[0;36mConnection.transact_write_items\u001b[0;34m(self, condition_check_items, delete_items, put_items, update_items, client_request_token, return_consumed_capacity, return_item_collection_metrics)\u001b[0m\n\u001b[1;32m    963\u001b[0m     \u001b[38;5;28;01mreturn\u001b[39;00m \u001b[38;5;28mself\u001b[39m\u001b[38;5;241m.\u001b[39mdispatch(TRANSACT_WRITE_ITEMS, operation_kwargs)\n\u001b[1;32m    964\u001b[0m \u001b[38;5;28;01mexcept\u001b[39;00m BOTOCORE_EXCEPTIONS \u001b[38;5;28;01mas\u001b[39;00m e:\n\u001b[0;32m--> 965\u001b[0m     \u001b[38;5;28;01mraise\u001b[39;00m TransactWriteError(\u001b[38;5;124m\"\u001b[39m\u001b[38;5;124mFailed to write transaction items\u001b[39m\u001b[38;5;124m\"\u001b[39m, e)\n",
      "\u001b[0;31mTransactWriteError\u001b[0m: Failed to write transaction items"
     ]
    }
   ],
   "source": [
    "from app.utils.dynamodb.model.stock_symbol_model import StockSymbol\n",
    "from pytz import timezone\n",
    "\n",
    "\n",
    "kst = timezone(\"Asia/Seoul\")\n",
    "# 현재 시간을 KST로 변환\n",
    "\n",
    "for i in kospi:\n",
    "    current_time = datetime.now(kst)\n",
    "    created_at = int(current_time.timestamp() * 1000)  # ✅ 밀리세컨드 단위로 SK 생성\n",
    "\n",
    "    model = StockSymbol(\n",
    "        symbol=i['symbol'],\n",
    "        created_at=created_at,\n",
    "        updated_at=None,\n",
    "        symbol_name=i['name'],\n",
    "        type='kospi200'\n",
    "    )\n",
    "    execute_save(model)"
   ]
  },
  {
   "cell_type": "code",
   "execution_count": 103,
   "metadata": {},
   "outputs": [
    {
     "name": "stdout",
     "output_type": "stream",
     "text": [
      "✅ 트랜잭션 성공: 1741499975380, None\n"
     ]
    },
    {
     "ename": "TransactWriteError",
     "evalue": "Failed to write transaction items",
     "output_type": "error",
     "traceback": [
      "\u001b[0;31m---------------------------------------------------------------------------\u001b[0m",
      "\u001b[0;31mTransactionCanceledException\u001b[0m              Traceback (most recent call last)",
      "File \u001b[0;32m~/miniconda3/envs/sb-fsts/lib/python3.12/site-packages/pynamodb/connection/base.py:340\u001b[0m, in \u001b[0;36mConnection._make_api_call\u001b[0;34m(self, operation_name, operation_kwargs)\u001b[0m\n\u001b[1;32m    339\u001b[0m \u001b[38;5;28;01mtry\u001b[39;00m:\n\u001b[0;32m--> 340\u001b[0m     \u001b[38;5;28;01mreturn\u001b[39;00m \u001b[38;5;28;43mself\u001b[39;49m\u001b[38;5;241;43m.\u001b[39;49m\u001b[43mclient\u001b[49m\u001b[38;5;241;43m.\u001b[39;49m\u001b[43m_make_api_call\u001b[49m\u001b[43m(\u001b[49m\u001b[43moperation_name\u001b[49m\u001b[43m,\u001b[49m\u001b[43m \u001b[49m\u001b[43moperation_kwargs\u001b[49m\u001b[43m)\u001b[49m\n\u001b[1;32m    341\u001b[0m \u001b[38;5;28;01mexcept\u001b[39;00m ClientError \u001b[38;5;28;01mas\u001b[39;00m e:\n",
      "File \u001b[0;32m~/miniconda3/envs/sb-fsts/lib/python3.12/site-packages/botocore/client.py:1023\u001b[0m, in \u001b[0;36mBaseClient._make_api_call\u001b[0;34m(self, operation_name, api_params)\u001b[0m\n\u001b[1;32m   1022\u001b[0m     error_class \u001b[38;5;241m=\u001b[39m \u001b[38;5;28mself\u001b[39m\u001b[38;5;241m.\u001b[39mexceptions\u001b[38;5;241m.\u001b[39mfrom_code(error_code)\n\u001b[0;32m-> 1023\u001b[0m     \u001b[38;5;28;01mraise\u001b[39;00m error_class(parsed_response, operation_name)\n\u001b[1;32m   1024\u001b[0m \u001b[38;5;28;01melse\u001b[39;00m:\n",
      "\u001b[0;31mTransactionCanceledException\u001b[0m: An error occurred (TransactionCanceledException) when calling the TransactWriteItems operation: Transaction cancelled, please refer cancellation reasons for specific reasons [ConditionalCheckFailed]",
      "\nThe above exception was the direct cause of the following exception:\n",
      "\u001b[0;31mVerboseClientError\u001b[0m                        Traceback (most recent call last)",
      "File \u001b[0;32m~/miniconda3/envs/sb-fsts/lib/python3.12/site-packages/pynamodb/connection/base.py:963\u001b[0m, in \u001b[0;36mConnection.transact_write_items\u001b[0;34m(self, condition_check_items, delete_items, put_items, update_items, client_request_token, return_consumed_capacity, return_item_collection_metrics)\u001b[0m\n\u001b[1;32m    962\u001b[0m \u001b[38;5;28;01mtry\u001b[39;00m:\n\u001b[0;32m--> 963\u001b[0m     \u001b[38;5;28;01mreturn\u001b[39;00m \u001b[38;5;28;43mself\u001b[39;49m\u001b[38;5;241;43m.\u001b[39;49m\u001b[43mdispatch\u001b[49m\u001b[43m(\u001b[49m\u001b[43mTRANSACT_WRITE_ITEMS\u001b[49m\u001b[43m,\u001b[49m\u001b[43m \u001b[49m\u001b[43moperation_kwargs\u001b[49m\u001b[43m)\u001b[49m\n\u001b[1;32m    964\u001b[0m \u001b[38;5;28;01mexcept\u001b[39;00m BOTOCORE_EXCEPTIONS \u001b[38;5;28;01mas\u001b[39;00m e:\n",
      "File \u001b[0;32m~/miniconda3/envs/sb-fsts/lib/python3.12/site-packages/pynamodb/connection/base.py:312\u001b[0m, in \u001b[0;36mConnection.dispatch\u001b[0;34m(self, operation_name, operation_kwargs)\u001b[0m\n\u001b[1;32m    311\u001b[0m \u001b[38;5;28mself\u001b[39m\u001b[38;5;241m.\u001b[39msend_pre_boto_callback(operation_name, req_uuid, table_name)\n\u001b[0;32m--> 312\u001b[0m data \u001b[38;5;241m=\u001b[39m \u001b[38;5;28;43mself\u001b[39;49m\u001b[38;5;241;43m.\u001b[39;49m\u001b[43m_make_api_call\u001b[49m\u001b[43m(\u001b[49m\u001b[43moperation_name\u001b[49m\u001b[43m,\u001b[49m\u001b[43m \u001b[49m\u001b[43moperation_kwargs\u001b[49m\u001b[43m)\u001b[49m\n\u001b[1;32m    313\u001b[0m \u001b[38;5;28mself\u001b[39m\u001b[38;5;241m.\u001b[39msend_post_boto_callback(operation_name, req_uuid, table_name)\n",
      "File \u001b[0;32m~/miniconda3/envs/sb-fsts/lib/python3.12/site-packages/pynamodb/connection/base.py:350\u001b[0m, in \u001b[0;36mConnection._make_api_call\u001b[0;34m(self, operation_name, operation_kwargs)\u001b[0m\n\u001b[1;32m    346\u001b[0m verbose_props \u001b[38;5;241m=\u001b[39m {\n\u001b[1;32m    347\u001b[0m     \u001b[38;5;124m'\u001b[39m\u001b[38;5;124mrequest_id\u001b[39m\u001b[38;5;124m'\u001b[39m: resp_metadata\u001b[38;5;241m.\u001b[39mget(\u001b[38;5;124m'\u001b[39m\u001b[38;5;124mx-amzn-requestid\u001b[39m\u001b[38;5;124m'\u001b[39m, \u001b[38;5;124m'\u001b[39m\u001b[38;5;124m'\u001b[39m),\n\u001b[1;32m    348\u001b[0m     \u001b[38;5;124m'\u001b[39m\u001b[38;5;124mtable_name\u001b[39m\u001b[38;5;124m'\u001b[39m: \u001b[38;5;28mself\u001b[39m\u001b[38;5;241m.\u001b[39m_get_table_name_for_error_context(operation_kwargs),\n\u001b[1;32m    349\u001b[0m }\n\u001b[0;32m--> 350\u001b[0m \u001b[38;5;28;01mraise\u001b[39;00m VerboseClientError(\n\u001b[1;32m    351\u001b[0m     botocore_props,\n\u001b[1;32m    352\u001b[0m     operation_name,\n\u001b[1;32m    353\u001b[0m     verbose_props,\n\u001b[1;32m    354\u001b[0m     cancellation_reasons\u001b[38;5;241m=\u001b[39m(\n\u001b[1;32m    355\u001b[0m         (\n\u001b[1;32m    356\u001b[0m             CancellationReason(\n\u001b[1;32m    357\u001b[0m                 code\u001b[38;5;241m=\u001b[39md[\u001b[38;5;124m'\u001b[39m\u001b[38;5;124mCode\u001b[39m\u001b[38;5;124m'\u001b[39m],\n\u001b[1;32m    358\u001b[0m                 message\u001b[38;5;241m=\u001b[39md\u001b[38;5;241m.\u001b[39mget(\u001b[38;5;124m'\u001b[39m\u001b[38;5;124mMessage\u001b[39m\u001b[38;5;124m'\u001b[39m),\n\u001b[1;32m    359\u001b[0m                 raw_item\u001b[38;5;241m=\u001b[39mcast(Optional[Dict[\u001b[38;5;28mstr\u001b[39m, Dict[\u001b[38;5;28mstr\u001b[39m, Any]]], d\u001b[38;5;241m.\u001b[39mget(\u001b[38;5;124m'\u001b[39m\u001b[38;5;124mItem\u001b[39m\u001b[38;5;124m'\u001b[39m)),\n\u001b[1;32m    360\u001b[0m             ) \u001b[38;5;28;01mif\u001b[39;00m d[\u001b[38;5;124m'\u001b[39m\u001b[38;5;124mCode\u001b[39m\u001b[38;5;124m'\u001b[39m] \u001b[38;5;241m!=\u001b[39m \u001b[38;5;124m'\u001b[39m\u001b[38;5;124mNone\u001b[39m\u001b[38;5;124m'\u001b[39m \u001b[38;5;28;01melse\u001b[39;00m \u001b[38;5;28;01mNone\u001b[39;00m\n\u001b[1;32m    361\u001b[0m         )\n\u001b[1;32m    362\u001b[0m         \u001b[38;5;28;01mfor\u001b[39;00m d \u001b[38;5;129;01min\u001b[39;00m cancellation_reasons\n\u001b[1;32m    363\u001b[0m     ),\n\u001b[1;32m    364\u001b[0m ) \u001b[38;5;28;01mfrom\u001b[39;00m \u001b[38;5;21;01me\u001b[39;00m\n",
      "\u001b[0;31mVerboseClientError\u001b[0m: An error occurred (TransactionCanceledException) on request (NOC39MD58BAH7BRC95FUJ8FCCBVV4KQNSO5AEMVJF66Q9ASUAAJG) on table (fsts-user-info) when calling the TransactWriteItems operation: Transaction cancelled, please refer cancellation reasons for specific reasons [ConditionalCheckFailed]",
      "\nDuring handling of the above exception, another exception occurred:\n",
      "\u001b[0;31mTransactWriteError\u001b[0m                        Traceback (most recent call last)",
      "Cell \u001b[0;32mIn[103], line 17\u001b[0m\n\u001b[1;32m      4\u001b[0m created_at \u001b[38;5;241m=\u001b[39m \u001b[38;5;28mint\u001b[39m(current_time\u001b[38;5;241m.\u001b[39mtimestamp() \u001b[38;5;241m*\u001b[39m \u001b[38;5;241m1000\u001b[39m)  \u001b[38;5;66;03m# ✅ 밀리세컨드 단위로 SK 생성\u001b[39;00m\n\u001b[1;32m      6\u001b[0m model \u001b[38;5;241m=\u001b[39m UserInfo(\n\u001b[1;32m      7\u001b[0m     name\u001b[38;5;241m=\u001b[39m\u001b[38;5;124m'\u001b[39m\u001b[38;5;124m홍석형\u001b[39m\u001b[38;5;124m'\u001b[39m,\n\u001b[1;32m      8\u001b[0m     created_at\u001b[38;5;241m=\u001b[39mcreated_at,\n\u001b[0;32m   (...)\u001b[0m\n\u001b[1;32m     15\u001b[0m     account\u001b[38;5;241m=\u001b[39m\u001b[38;5;124m'\u001b[39m\u001b[38;5;124m67737279\u001b[39m\u001b[38;5;124m'\u001b[39m\n\u001b[1;32m     16\u001b[0m )\n\u001b[0;32m---> 17\u001b[0m \u001b[43mexecute_save\u001b[49m\u001b[43m(\u001b[49m\u001b[43mmodel\u001b[49m\u001b[43m)\u001b[49m\n",
      "Cell \u001b[0;32mIn[66], line 11\u001b[0m, in \u001b[0;36mexecute_save\u001b[0;34m(data_model)\u001b[0m\n\u001b[1;32m      7\u001b[0m connection \u001b[38;5;241m=\u001b[39m Connection()\n\u001b[1;32m      9\u001b[0m created_at \u001b[38;5;241m=\u001b[39m \u001b[38;5;28mint\u001b[39m(time\u001b[38;5;241m.\u001b[39mtime() \u001b[38;5;241m*\u001b[39m \u001b[38;5;241m1000\u001b[39m)  \u001b[38;5;66;03m# ✅ 밀리세컨드 단위로 SK 생성\u001b[39;00m\n\u001b[0;32m---> 11\u001b[0m \u001b[38;5;28;01mwith\u001b[39;00m \u001b[43mTransactWrite\u001b[49m\u001b[43m(\u001b[49m\u001b[43mconnection\u001b[49m\u001b[38;5;241;43m=\u001b[39;49m\u001b[43mconnection\u001b[49m\u001b[43m)\u001b[49m \u001b[38;5;28;01mas\u001b[39;00m transaction:\n\u001b[1;32m     12\u001b[0m     \u001b[38;5;66;03m# transaction.save(data_model, condition=(TradingHistory.created_at.does_not_exist()))\u001b[39;00m\n\u001b[1;32m     13\u001b[0m     result \u001b[38;5;241m=\u001b[39m transaction\u001b[38;5;241m.\u001b[39msave(data_model, condition\u001b[38;5;241m=\u001b[39m(\u001b[38;5;28mtype\u001b[39m(data_model)\u001b[38;5;241m.\u001b[39mcreated_at\u001b[38;5;241m.\u001b[39mdoes_not_exist()))\n\u001b[1;32m     14\u001b[0m     \u001b[38;5;28mprint\u001b[39m(\u001b[38;5;124mf\u001b[39m\u001b[38;5;124m\"\u001b[39m\u001b[38;5;124m✅ 트랜잭션 성공: \u001b[39m\u001b[38;5;132;01m{\u001b[39;00mcreated_at\u001b[38;5;132;01m}\u001b[39;00m\u001b[38;5;124m, \u001b[39m\u001b[38;5;132;01m{\u001b[39;00mresult\u001b[38;5;132;01m}\u001b[39;00m\u001b[38;5;124m\"\u001b[39m)\n",
      "File \u001b[0;32m~/miniconda3/envs/sb-fsts/lib/python3.12/site-packages/pynamodb/transactions.py:31\u001b[0m, in \u001b[0;36mTransaction.__exit__\u001b[0;34m(self, exc_type, exc_val, exc_tb)\u001b[0m\n\u001b[1;32m     29\u001b[0m \u001b[38;5;28;01mdef\u001b[39;00m \u001b[38;5;21m__exit__\u001b[39m(\u001b[38;5;28mself\u001b[39m, exc_type, exc_val, exc_tb):\n\u001b[1;32m     30\u001b[0m     \u001b[38;5;28;01mif\u001b[39;00m exc_type \u001b[38;5;129;01mis\u001b[39;00m \u001b[38;5;28;01mNone\u001b[39;00m \u001b[38;5;129;01mand\u001b[39;00m exc_val \u001b[38;5;129;01mis\u001b[39;00m \u001b[38;5;28;01mNone\u001b[39;00m \u001b[38;5;129;01mand\u001b[39;00m exc_tb \u001b[38;5;129;01mis\u001b[39;00m \u001b[38;5;28;01mNone\u001b[39;00m:\n\u001b[0;32m---> 31\u001b[0m         \u001b[38;5;28;43mself\u001b[39;49m\u001b[38;5;241;43m.\u001b[39;49m\u001b[43m_commit\u001b[49m\u001b[43m(\u001b[49m\u001b[43m)\u001b[49m\n",
      "File \u001b[0;32m~/miniconda3/envs/sb-fsts/lib/python3.12/site-packages/pynamodb/transactions.py:132\u001b[0m, in \u001b[0;36mTransactWrite._commit\u001b[0;34m(self)\u001b[0m\n\u001b[1;32m    131\u001b[0m \u001b[38;5;28;01mdef\u001b[39;00m \u001b[38;5;21m_commit\u001b[39m(\u001b[38;5;28mself\u001b[39m) \u001b[38;5;241m-\u001b[39m\u001b[38;5;241m>\u001b[39m Any:\n\u001b[0;32m--> 132\u001b[0m     response \u001b[38;5;241m=\u001b[39m \u001b[38;5;28;43mself\u001b[39;49m\u001b[38;5;241;43m.\u001b[39;49m\u001b[43m_connection\u001b[49m\u001b[38;5;241;43m.\u001b[39;49m\u001b[43mtransact_write_items\u001b[49m\u001b[43m(\u001b[49m\n\u001b[1;32m    133\u001b[0m \u001b[43m        \u001b[49m\u001b[43mcondition_check_items\u001b[49m\u001b[38;5;241;43m=\u001b[39;49m\u001b[38;5;28;43mself\u001b[39;49m\u001b[38;5;241;43m.\u001b[39;49m\u001b[43m_condition_check_items\u001b[49m\u001b[43m,\u001b[49m\n\u001b[1;32m    134\u001b[0m \u001b[43m        \u001b[49m\u001b[43mdelete_items\u001b[49m\u001b[38;5;241;43m=\u001b[39;49m\u001b[38;5;28;43mself\u001b[39;49m\u001b[38;5;241;43m.\u001b[39;49m\u001b[43m_delete_items\u001b[49m\u001b[43m,\u001b[49m\n\u001b[1;32m    135\u001b[0m \u001b[43m        \u001b[49m\u001b[43mput_items\u001b[49m\u001b[38;5;241;43m=\u001b[39;49m\u001b[38;5;28;43mself\u001b[39;49m\u001b[38;5;241;43m.\u001b[39;49m\u001b[43m_put_items\u001b[49m\u001b[43m,\u001b[49m\n\u001b[1;32m    136\u001b[0m \u001b[43m        \u001b[49m\u001b[43mupdate_items\u001b[49m\u001b[38;5;241;43m=\u001b[39;49m\u001b[38;5;28;43mself\u001b[39;49m\u001b[38;5;241;43m.\u001b[39;49m\u001b[43m_update_items\u001b[49m\u001b[43m,\u001b[49m\n\u001b[1;32m    137\u001b[0m \u001b[43m        \u001b[49m\u001b[43mclient_request_token\u001b[49m\u001b[38;5;241;43m=\u001b[39;49m\u001b[38;5;28;43mself\u001b[39;49m\u001b[38;5;241;43m.\u001b[39;49m\u001b[43m_client_request_token\u001b[49m\u001b[43m,\u001b[49m\n\u001b[1;32m    138\u001b[0m \u001b[43m        \u001b[49m\u001b[43mreturn_consumed_capacity\u001b[49m\u001b[38;5;241;43m=\u001b[39;49m\u001b[38;5;28;43mself\u001b[39;49m\u001b[38;5;241;43m.\u001b[39;49m\u001b[43m_return_consumed_capacity\u001b[49m\u001b[43m,\u001b[49m\n\u001b[1;32m    139\u001b[0m \u001b[43m        \u001b[49m\u001b[43mreturn_item_collection_metrics\u001b[49m\u001b[38;5;241;43m=\u001b[39;49m\u001b[38;5;28;43mself\u001b[39;49m\u001b[38;5;241;43m.\u001b[39;49m\u001b[43m_return_item_collection_metrics\u001b[49m\u001b[43m,\u001b[49m\n\u001b[1;32m    140\u001b[0m \u001b[43m    \u001b[49m\u001b[43m)\u001b[49m\n\u001b[1;32m    141\u001b[0m     \u001b[38;5;28;01mfor\u001b[39;00m model \u001b[38;5;129;01min\u001b[39;00m \u001b[38;5;28mself\u001b[39m\u001b[38;5;241m.\u001b[39m_models_for_version_attribute_update:\n\u001b[1;32m    142\u001b[0m         model\u001b[38;5;241m.\u001b[39mupdate_local_version_attribute()\n",
      "File \u001b[0;32m~/miniconda3/envs/sb-fsts/lib/python3.12/site-packages/pynamodb/connection/base.py:965\u001b[0m, in \u001b[0;36mConnection.transact_write_items\u001b[0;34m(self, condition_check_items, delete_items, put_items, update_items, client_request_token, return_consumed_capacity, return_item_collection_metrics)\u001b[0m\n\u001b[1;32m    963\u001b[0m     \u001b[38;5;28;01mreturn\u001b[39;00m \u001b[38;5;28mself\u001b[39m\u001b[38;5;241m.\u001b[39mdispatch(TRANSACT_WRITE_ITEMS, operation_kwargs)\n\u001b[1;32m    964\u001b[0m \u001b[38;5;28;01mexcept\u001b[39;00m BOTOCORE_EXCEPTIONS \u001b[38;5;28;01mas\u001b[39;00m e:\n\u001b[0;32m--> 965\u001b[0m     \u001b[38;5;28;01mraise\u001b[39;00m TransactWriteError(\u001b[38;5;124m\"\u001b[39m\u001b[38;5;124mFailed to write transaction items\u001b[39m\u001b[38;5;124m\"\u001b[39m, e)\n",
      "\u001b[0;31mTransactWriteError\u001b[0m: Failed to write transaction items"
     ]
    }
   ],
   "source": [
    "from app.utils.dynamodb.model.user_info_model import UserInfo\n",
    "\n",
    "current_time = datetime.now(kst)\n",
    "created_at = int(current_time.timestamp() * 1000)  # ✅ 밀리세컨드 단위로 SK 생성\n",
    "\n",
    "model = UserInfo(\n",
    "    name='홍석형',\n",
    "    created_at=created_at,\n",
    "    updated_at=None,\n",
    "    id='id1',\n",
    "    password='password1',\n",
    "    app_key='PSyTGF07QupJyV76XGm3mkgcr4RDvSeODpVZ',\n",
    "    secret_key='eteoHNN+iHktbHC1TOKNdDc2ecFHqwyA+o1OijESqRtWY2cirhUqbiuFfO5zmEPNqB8/P0RSBuTjZnPq4zc5u3dKHIg/HOFQqmZcCik621aWqti5MBReqNpr/NChcs8edoBKd4cgJaC47m3IKncU4GglKzWNqHtic/4X8lmOAZx0oDGuFkI=',\n",
    "    kis_id='bnuazz15',\n",
    "    account='67737279'\n",
    ")\n",
    "execute_save(model)"
   ]
  },
  {
   "cell_type": "markdown",
   "metadata": {},
   "source": [
    "### 데이터 조회"
   ]
  },
  {
   "cell_type": "code",
   "execution_count": 53,
   "metadata": {},
   "outputs": [
    {
     "name": "stdout",
     "output_type": "stream",
     "text": [
      "- Symbol: AAPL, Price: 200, Quantity: 1, Created At: 1740407407897\n",
      "- Symbol: AAPL, Price: 200, Quantity: 1, Created At: 1740408172439\n"
     ]
    }
   ],
   "source": [
    "# 특정 trading_bot_name의 데이터 조회\n",
    "history = TradingHistory.scan()\n",
    "\n",
    "for trade in history:\n",
    "    print(f\"- Symbol: {trade.symbol}, Price: {trade.price}, Quantity: {trade.quantity}, Created At: {trade.created_at}\")"
   ]
  },
  {
   "cell_type": "code",
   "execution_count": 52,
   "metadata": {},
   "outputs": [
    {
     "name": "stdout",
     "output_type": "stream",
     "text": [
      "- Symbol: AAPL, Price: 200, Quantity: 1, Created At: 1740407407897\n",
      "- Symbol: AAPL, Price: 200, Quantity: 1, Created At: 1740408172439\n"
     ]
    }
   ],
   "source": [
    "# 특정 trading_bot_name의 데이터 조회\n",
    "history = TradingHistory.query(\"MyTradingBot_1234\")\n",
    "\n",
    "for trade in history:\n",
    "    print(f\"- Symbol: {trade.symbol}, Price: {trade.price}, Quantity: {trade.quantity}, Created At: {trade.created_at}\")"
   ]
  },
  {
   "cell_type": "code",
   "execution_count": 99,
   "metadata": {},
   "outputs": [],
   "source": [
    "kospi200_items = StockSymbol.scan(\n",
    "    filter_condition=(StockSymbol.type == 'kospi200')\n",
    ")"
   ]
  },
  {
   "cell_type": "code",
   "execution_count": 101,
   "metadata": {},
   "outputs": [
    {
     "name": "stdout",
     "output_type": "stream",
     "text": [
      "012330\n",
      "111770\n",
      "204320\n",
      "007310\n",
      "008770\n",
      "032830\n",
      "086790\n",
      "017800\n",
      "047040\n",
      "006360\n",
      "005380\n",
      "005930\n",
      "023530\n",
      "009420\n",
      "001450\n",
      "034020\n",
      "207940\n",
      "028260\n",
      "009540\n",
      "028670\n",
      "015760\n",
      "030000\n",
      "010140\n",
      "402340\n",
      "012450\n",
      "030200\n",
      "068270\n",
      "017670\n",
      "007070\n",
      "008930\n",
      "055550\n",
      "138040\n",
      "000270\n",
      "014680\n",
      "042670\n",
      "361610\n",
      "000080\n",
      "112610\n",
      "096770\n",
      "042660\n",
      "139130\n",
      "267260\n",
      "069960\n",
      "000120\n",
      "323410\n",
      "006400\n",
      "373220\n",
      "137310\n",
      "051910\n",
      "192820\n",
      "004170\n",
      "009970\n",
      "088350\n",
      "033780\n",
      "005490\n",
      "010060\n",
      "011200\n",
      "457190\n",
      "282330\n",
      "103140\n",
      "000240\n",
      "105560\n",
      "316140\n",
      "003670\n",
      "375500\n",
      "005070\n",
      "329180\n",
      "002790\n",
      "000660\n",
      "010130\n",
      "161890\n",
      "005850\n",
      "035420\n",
      "259960\n",
      "024110\n",
      "069620\n",
      "066570\n",
      "006280\n",
      "035720\n",
      "051600\n",
      "000810\n"
     ]
    }
   ],
   "source": [
    "for i in kospi200_items:\n",
    "    print(i.symbol)"
   ]
  },
  {
   "cell_type": "code",
   "execution_count": null,
   "metadata": {},
   "outputs": [],
   "source": []
  }
 ],
 "metadata": {
  "kernelspec": {
   "display_name": "Python 3",
   "language": "python",
   "name": "python3"
  },
  "language_info": {
   "codemirror_mode": {
    "name": "ipython",
    "version": 3
   },
   "file_extension": ".py",
   "mimetype": "text/x-python",
   "name": "python",
   "nbconvert_exporter": "python",
   "pygments_lexer": "ipython3",
   "version": "3.12.8"
  }
 },
 "nbformat": 4,
 "nbformat_minor": 2
}
