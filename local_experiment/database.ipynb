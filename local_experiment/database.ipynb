{
 "cells": [
  {
   "cell_type": "code",
   "execution_count": 3,
   "metadata": {},
   "outputs": [
    {
     "name": "stderr",
     "output_type": "stream",
     "text": [
      "<>:4: SyntaxWarning: invalid escape sequence '\\s'\n",
      "<>:4: SyntaxWarning: invalid escape sequence '\\s'\n",
      "C:\\Users\\Public\\Documents\\ESTsoft\\CreatorTemp\\ipykernel_24680\\802128495.py:4: SyntaxWarning: invalid escape sequence '\\s'\n",
      "  project_root = \"C:\\sb-fsts\\sb-fsts\"\n"
     ]
    }
   ],
   "source": [
    "import os\n",
    "\n",
    "# 루트 경로 설정 (예: 프로젝트 루트 경로)\n",
    "project_root = \"C:\\sb-fsts\\sb-fsts\"\n",
    "os.chdir(project_root)  # 루트 경로로 변경"
   ]
  },
  {
   "cell_type": "code",
   "execution_count": 4,
   "metadata": {},
   "outputs": [],
   "source": [
    "from app.utils.crud_sql import SQLExecutor\n",
    "from app.utils.database import get_db, get_db_session\n",
    "\n",
    "sql_executor = SQLExecutor()"
   ]
  },
  {
   "cell_type": "code",
   "execution_count": 5,
   "metadata": {},
   "outputs": [
    {
     "name": "stdout",
     "output_type": "stream",
     "text": [
      "[{'id': 'id1', 'name': 'name1'}, {'id': 'id2', 'name': 'name2'}]\n"
     ]
    }
   ],
   "source": [
    "query = \"\"\"\n",
    "        SELECT \n",
    "            *\n",
    "        FROM \n",
    "            fsts.test_table\n",
    "    \"\"\"\n",
    "\n",
    "params = {}\n",
    "\n",
    "with get_db_session() as db:\n",
    "    result = sql_executor.execute_select(db, query, params)\n",
    "\n",
    "print(result)"
   ]
  },
  {
   "cell_type": "code",
   "execution_count": 8,
   "metadata": {},
   "outputs": [
    {
     "name": "stdout",
     "output_type": "stream",
     "text": [
      "Insert succeeded: [{'id': '(id4,id5)', 'name': '(name4,name5)'}]\n"
     ]
    }
   ],
   "source": [
    "# RETURNING * 꼭 붙여야 함.\n",
    "query = \"\"\"\n",
    "    INSERT INTO fsts.test_table\n",
    "    (id, name)\n",
    "    VALUES (:id, :name)\n",
    "    RETURNING *;\n",
    "\"\"\"\n",
    "\n",
    "id = 'id4'\n",
    "name = 'name4'\n",
    "\n",
    "params = {\n",
    "    \"id\": id,\n",
    "    \"name\": name\n",
    "}\n",
    "\n",
    "with get_db_session() as db:\n",
    "    result = sql_executor.execute_insert(db, query, params)"
   ]
  },
  {
   "cell_type": "code",
   "execution_count": 9,
   "metadata": {},
   "outputs": [
    {
     "name": "stdout",
     "output_type": "stream",
     "text": [
      "Insert succeeded: [{'id': 'id5', 'name': 'name5'}]\n",
      "Insert succeeded: [{'id': 'id6', 'name': 'name6'}]\n",
      "Insert succeeded: [{'id': 'id7', 'name': 'name7'}]\n",
      "삽입된 데이터:\n",
      "[[{'id': 'id5', 'name': 'name5'}], [{'id': 'id6', 'name': 'name6'}], [{'id': 'id7', 'name': 'name7'}]]\n"
     ]
    }
   ],
   "source": [
    "#여러 데이터를 한번에 삽입하고 싶을 때\n",
    "# 여러 데이터 정의\n",
    "data = [\n",
    "    {\"id\": \"id5\", \"name\": \"name5\"},\n",
    "    {\"id\": \"id6\", \"name\": \"name6\"},\n",
    "    {\"id\": \"id7\", \"name\": \"name7\"}\n",
    "]\n",
    "\n",
    "# 다중 데이터 삽입 쿼리\n",
    "query = \"\"\"\n",
    "    INSERT INTO fsts.test_table\n",
    "    (id, name)\n",
    "    VALUES (:id, :name)\n",
    "    RETURNING *;\n",
    "\"\"\"\n",
    "\n",
    "# 데이터 삽입 및 결과 저장\n",
    "results = []\n",
    "with get_db_session() as db:\n",
    "    for row in data:\n",
    "        result = sql_executor.execute_insert(db, query, row)\n",
    "        results.append(result)\n",
    "\n",
    "print(\"삽입된 데이터:\")\n",
    "print(results)\n"
   ]
  },
  {
   "cell_type": "code",
   "execution_count": 11,
   "metadata": {},
   "outputs": [
    {
     "name": "stdout",
     "output_type": "stream",
     "text": [
      "Update succeeded: [{'id': 'id2', 'name': 'HONG'}]\n",
      "Updated Record: [{'id': 'id2', 'name': 'HONG'}]\n"
     ]
    }
   ],
   "source": [
    "# UPDATE 테스트\n",
    "query_update = \"\"\"\n",
    "    UPDATE fsts.test_table\n",
    "    SET name = :name\n",
    "    WHERE id = :id\n",
    "    RETURNING *;\n",
    "\"\"\"\n",
    "#:는 파라미터 바인딩 형식\n",
    "\n",
    "params_update = {\n",
    "    \"id\": \"id2\",\n",
    "    \"name\": \"HONG\"\n",
    "}\n",
    "\n",
    "with get_db_session() as db:\n",
    "    result_update = sql_executor.execute_update(db, query_update, params_update)\n",
    "    \n"
   ]
  },
  {
   "cell_type": "code",
   "execution_count": 19,
   "metadata": {},
   "outputs": [
    {
     "name": "stdout",
     "output_type": "stream",
     "text": [
      "Upsert succeeded: [{'id': 'id4', 'name': 'upserted_name4'}]\n"
     ]
    }
   ],
   "source": [
    "# UPSERT 테스트\n",
    "query_upsert = \"\"\"\n",
    "    INSERT INTO fsts.test_table (id, name)\n",
    "    VALUES (:id, :name)\n",
    "    ON CONFLICT (id)\n",
    "    DO UPDATE SET name = :name\n",
    "    RETURNING *;\n",
    "\"\"\"\n",
    "\n",
    "params_upsert = {\n",
    "    \"id\": \"id4\",\n",
    "    \"name\": \"upserted_name4\"\n",
    "}\n",
    "\n",
    "with get_db_session() as db:\n",
    "    result_upsert = sql_executor.execute_upsert(db, query_upsert, params_upsert)\n",
    "    \n"
   ]
  },
  {
   "cell_type": "code",
   "execution_count": 12,
   "metadata": {},
   "outputs": [
    {
     "name": "stdout",
     "output_type": "stream",
     "text": [
      "Delete succeeded: [{'id': '(id4,id5)', 'name': '(name4,name5)'}]\n"
     ]
    }
   ],
   "source": [
    "# DELETE 테스트\n",
    "query_delete = \"\"\"\n",
    "    DELETE FROM fsts.test_table\n",
    "    WHERE id = :id\n",
    "    RETURNING *;\n",
    "\"\"\"\n",
    "\n",
    "params_delete = {\n",
    "    \"id\": \"(id4,id5)\"\n",
    "}\n",
    "\n",
    "with get_db_session() as db:\n",
    "        result_delete = sql_executor.execute_delete(db, query_delete, params_delete)\n",
    "        \n",
    "\n"
   ]
  },
  {
   "cell_type": "code",
   "execution_count": null,
   "metadata": {},
   "outputs": [],
   "source": []
  }
 ],
 "metadata": {
  "kernelspec": {
   "display_name": "Python 3",
   "language": "python",
   "name": "python3"
  },
  "language_info": {
   "codemirror_mode": {
    "name": "ipython",
    "version": 3
   },
   "file_extension": ".py",
   "mimetype": "text/x-python",
   "name": "python",
   "nbconvert_exporter": "python",
   "pygments_lexer": "ipython3",
   "version": "3.12.3"
  }
 },
 "nbformat": 4,
 "nbformat_minor": 2
}
